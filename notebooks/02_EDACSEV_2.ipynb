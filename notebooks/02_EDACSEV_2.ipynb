{
 "cells": [
  {
   "cell_type": "markdown",
   "id": "12d2babb",
   "metadata": {},
   "source": [
    "<p align=\"center\">\n",
    "    <!--If notebook is in folder notebooks change scr by \"../images/logo.png\"-->\n",
    "  <img width=\"100\" height=\"100\" src=\"../images/logo.png\">\n",
    "</p>"
   ]
  },
  {
   "cell_type": "markdown",
   "id": "c0b39481",
   "metadata": {},
   "source": [
    "<div>\n",
    "<h1>02. EDA para C_SEV</h1> \n",
    "\n",
    "Canadian Car Accidents Practice <br>\n",
    "<strong>Aprendizaje Automático</strong> <br>\n",
    "<strong>Master Universitario en Ciencia de Datos</strong>\n",
    "</div>"
   ]
  },
  {
   "cell_type": "markdown",
   "id": "e96bed03",
   "metadata": {},
   "source": [
    "<div style='text-align:right'>Álvaro Serrano del Rincón (<i>a.serranodelrincon@cunef.edu</i>)</div>\n",
    "<div style='text-align:right'>Carlos Viñals Guitart (<i>carlos.vinals@cunef.edu</i>)</div>"
   ]
  },
  {
   "cell_type": "markdown",
   "id": "3420292a",
   "metadata": {},
   "source": [
    "---\n"
   ]
  },
  {
   "cell_type": "markdown",
   "id": "75d33bed",
   "metadata": {},
   "source": [
    "## 2.0 Introducción\n",
    "\n",
    "En este notebook nos serviremos del análisis realizado en el EDA para poder preparar los datos y utilizarlos para elaborar un modelo que nos permita clasificar según la posibilidad de fallecimientos dado un accidente.\n",
    "\n",
    "Para este trabajo estamos utilizando un entorno de propósito espécifico."
   ]
  },
  {
   "cell_type": "code",
   "execution_count": 1,
   "id": "adac98eb",
   "metadata": {},
   "outputs": [
    {
     "name": "stdout",
     "output_type": "stream",
     "text": [
      "\n",
      "     active environment : ML_P1\n",
      "    active env location : C:\\Users\\carviagu\\anaconda3\\envs\\ML_P1\n",
      "            shell level : 2\n",
      "       user config file : C:\\Users\\carviagu\\.condarc\n",
      " populated config files : \n",
      "          conda version : 4.10.3\n",
      "    conda-build version : 3.21.4\n",
      "         python version : 3.8.8.final.0\n",
      "       virtual packages : __cuda=11.3=0\n",
      "                          __win=0=0\n",
      "                          __archspec=1=x86_64\n",
      "       base environment : C:\\Users\\carviagu\\anaconda3  (writable)\n",
      "      conda av data dir : C:\\Users\\carviagu\\anaconda3\\etc\\conda\n",
      "  conda av metadata url : None\n",
      "           channel URLs : https://repo.anaconda.com/pkgs/main/win-64\n",
      "                          https://repo.anaconda.com/pkgs/main/noarch\n",
      "                          https://repo.anaconda.com/pkgs/r/win-64\n",
      "                          https://repo.anaconda.com/pkgs/r/noarch\n",
      "                          https://repo.anaconda.com/pkgs/msys2/win-64\n",
      "                          https://repo.anaconda.com/pkgs/msys2/noarch\n",
      "          package cache : C:\\Users\\carviagu\\anaconda3\\pkgs\n",
      "                          C:\\Users\\carviagu\\.conda\\pkgs\n",
      "                          C:\\Users\\carviagu\\AppData\\Local\\conda\\conda\\pkgs\n",
      "       envs directories : C:\\Users\\carviagu\\anaconda3\\envs\n",
      "                          C:\\Users\\carviagu\\.conda\\envs\n",
      "                          C:\\Users\\carviagu\\AppData\\Local\\conda\\conda\\envs\n",
      "               platform : win-64\n",
      "             user-agent : conda/4.10.3 requests/2.25.1 CPython/3.8.8 Windows/10 Windows/10.0.19041\n",
      "          administrator : False\n",
      "             netrc file : None\n",
      "           offline mode : False\n",
      "\n"
     ]
    }
   ],
   "source": [
    "!conda info"
   ]
  },
  {
   "cell_type": "markdown",
   "id": "21e94544",
   "metadata": {},
   "source": [
    "### 2.0.1 Estructura"
   ]
  },
  {
   "cell_type": "markdown",
   "id": "be188598",
   "metadata": {},
   "source": [
    "## Librerías"
   ]
  },
  {
   "cell_type": "code",
   "execution_count": 2,
   "id": "90a0ba0e",
   "metadata": {},
   "outputs": [],
   "source": [
    "import pandas as pd\n",
    "import numpy as np\n",
    "import seaborn as sns\n",
    "from matplotlib import pyplot as plt\n",
    "import matplotlib.ticker as ticker\n",
    "import plotly.express as px\n",
    "import nbconvert\n",
    "\n",
    "%matplotlib inline"
   ]
  },
  {
   "cell_type": "markdown",
   "id": "7a7c39a1",
   "metadata": {},
   "source": [
    "## Scripts"
   ]
  },
  {
   "cell_type": "code",
   "execution_count": 3,
   "id": "6ae03c5e",
   "metadata": {},
   "outputs": [],
   "source": [
    "import sys\n",
    "\n",
    "import sys  \n",
    "sys.path.insert(0, '../scripts/')\n",
    "\n",
    "import csv_tools\n",
    "import eda_tools"
   ]
  },
  {
   "cell_type": "markdown",
   "id": "abf2fa4a",
   "metadata": {},
   "source": [
    "## 2.1 Carga de datos\n",
    "Ahora realizamos la carga de los datos originales que analizamos en el EDA."
   ]
  },
  {
   "cell_type": "code",
   "execution_count": 4,
   "id": "fa268f66",
   "metadata": {},
   "outputs": [
    {
     "name": "stdout",
     "output_type": "stream",
     "text": [
      "Reading file...\n",
      "Reading ended.\n"
     ]
    }
   ],
   "source": [
    "accidents_df = csv_tools.csv_import(origin = '../data/NCDB_1999_to_2014.csv')"
   ]
  },
  {
   "cell_type": "markdown",
   "id": "ac768f17",
   "metadata": {},
   "source": [
    "Ahora procederemos a modificarlos. Recordamos que el modelo propuesto busca tener información sobre un accidente y predecir la posible mortalidad del mismo. Para ello, como los datos se encuentran enfocados a definir la información de una persona en un accidente, y tenemos información para varias personas en el mismo accidente, debemos agregar los datos principalmente."
   ]
  },
  {
   "cell_type": "markdown",
   "id": "6d4d93f1",
   "metadata": {},
   "source": [
    "## 2.2 Preprocesado del dataset\n",
    "Vamos a modificar el dataset original para que cumpla los requisitos necesario para ser utilizados en la elaboración de un modelo de clasificación de accidentes mortales o no. \n",
    "\n",
    "### 2.2.1 Eliminación de filas I\n",
    "\n",
    "Lo primero que vamos a eliminar son las filas repetidas que observamos en el EDA general. Hacer esto primero nos permitirá eliminar filas y agilizar las tareas en el resto de código. "
   ]
  },
  {
   "cell_type": "code",
   "execution_count": 5,
   "id": "d6b361a8",
   "metadata": {},
   "outputs": [],
   "source": [
    "accidents_df.drop_duplicates(keep='last', inplace=True)"
   ]
  },
  {
   "cell_type": "markdown",
   "id": "79d5dfdc",
   "metadata": {},
   "source": [
    "Ahora procedemos a eliminar las filas con valores anómalos. En este caso hablamos de los vehículos del año 2015 que tuvieron un accidente en 2014. Estas filas carecen de sentido."
   ]
  },
  {
   "cell_type": "code",
   "execution_count": 6,
   "id": "b31be241",
   "metadata": {},
   "outputs": [],
   "source": [
    "accidents_df = accidents_df.drop(accidents_df[accidents_df['V_YEAR'] == '2015'].index, axis=0)"
   ]
  },
  {
   "cell_type": "markdown",
   "id": "36160f96",
   "metadata": {},
   "source": [
    "Al analizar los datos pudimos observar como existian valores especiales. Para este modelo nos centramos en los valores ```N```, estos estaban presentes en las variables referentes a personas, las cuales eran valores *no aplicables* al no tratarse de personas involucradas en un accidente. En la agregación, no solo buscamos obtener una fila por accidente, sino que también crear una nueva variable como el total de personas involucradas en un accidente. Debemos eliminar los vehículos aparcados pues no son personas que puedan fallecer al verse en vueltas en un accidente."
   ]
  },
  {
   "cell_type": "code",
   "execution_count": 7,
   "id": "c7748a77",
   "metadata": {},
   "outputs": [],
   "source": [
    "per_columns = [['P_SEX', 'N'], ['P_AGE', 'NN'], ['P_PSN', 'NN'], \n",
    "               ['P_ISEV', 'N'], ['P_SAFE', 'NN'], ['P_USER', 'N']]\n",
    "\n",
    "for col in per_columns:\n",
    "    accidents_df = accidents_df.drop(accidents_df[accidents_df[col[0]] == col[1]].index, axis=0)"
   ]
  },
  {
   "cell_type": "markdown",
   "id": "1381bf4a",
   "metadata": {},
   "source": [
    "Verificamos que están fuera del dataset."
   ]
  },
  {
   "cell_type": "code",
   "execution_count": 8,
   "id": "ba96ca9e",
   "metadata": {},
   "outputs": [
    {
     "data": {
      "text/html": [
       "<div>\n",
       "<style scoped>\n",
       "    .dataframe tbody tr th:only-of-type {\n",
       "        vertical-align: middle;\n",
       "    }\n",
       "\n",
       "    .dataframe tbody tr th {\n",
       "        vertical-align: top;\n",
       "    }\n",
       "\n",
       "    .dataframe thead th {\n",
       "        text-align: right;\n",
       "    }\n",
       "</style>\n",
       "<table border=\"1\" class=\"dataframe\">\n",
       "  <thead>\n",
       "    <tr style=\"text-align: right;\">\n",
       "      <th></th>\n",
       "      <th>column_name</th>\n",
       "      <th>N</th>\n",
       "      <th>N%</th>\n",
       "      <th>total</th>\n",
       "      <th>total%</th>\n",
       "    </tr>\n",
       "  </thead>\n",
       "  <tbody>\n",
       "    <tr>\n",
       "      <th>0</th>\n",
       "      <td>P_SEX</td>\n",
       "      <td>0</td>\n",
       "      <td>[0.0]</td>\n",
       "      <td>0</td>\n",
       "      <td>0.0</td>\n",
       "    </tr>\n",
       "    <tr>\n",
       "      <th>1</th>\n",
       "      <td>P_AGE</td>\n",
       "      <td>0</td>\n",
       "      <td>[0.0]</td>\n",
       "      <td>0</td>\n",
       "      <td>0.0</td>\n",
       "    </tr>\n",
       "    <tr>\n",
       "      <th>2</th>\n",
       "      <td>P_PSN</td>\n",
       "      <td>0</td>\n",
       "      <td>[0.0]</td>\n",
       "      <td>0</td>\n",
       "      <td>0.0</td>\n",
       "    </tr>\n",
       "    <tr>\n",
       "      <th>3</th>\n",
       "      <td>P_ISEV</td>\n",
       "      <td>0</td>\n",
       "      <td>[0.0]</td>\n",
       "      <td>0</td>\n",
       "      <td>0.0</td>\n",
       "    </tr>\n",
       "    <tr>\n",
       "      <th>4</th>\n",
       "      <td>P_SAFE</td>\n",
       "      <td>0</td>\n",
       "      <td>[0.0]</td>\n",
       "      <td>0</td>\n",
       "      <td>0.0</td>\n",
       "    </tr>\n",
       "    <tr>\n",
       "      <th>5</th>\n",
       "      <td>P_USER</td>\n",
       "      <td>0</td>\n",
       "      <td>[0.0]</td>\n",
       "      <td>0</td>\n",
       "      <td>0.0</td>\n",
       "    </tr>\n",
       "  </tbody>\n",
       "</table>\n",
       "</div>"
      ],
      "text/plain": [
       "  column_name  N     N%  total  total%\n",
       "0       P_SEX  0  [0.0]      0     0.0\n",
       "1       P_AGE  0  [0.0]      0     0.0\n",
       "2       P_PSN  0  [0.0]      0     0.0\n",
       "3      P_ISEV  0  [0.0]      0     0.0\n",
       "4      P_SAFE  0  [0.0]      0     0.0\n",
       "5      P_USER  0  [0.0]      0     0.0"
      ]
     },
     "execution_count": 8,
     "metadata": {},
     "output_type": "execute_result"
    }
   ],
   "source": [
    "# Verifico que se han eliminado\n",
    "per_columns = ['P_SEX', 'P_AGE', 'P_PSN', \n",
    "               'P_ISEV', 'P_SAFE', 'P_USER']\n",
    "eda_tools.special_values_summary(df = accidents_df[per_columns], vals = [['N', 'NN']])"
   ]
  },
  {
   "cell_type": "markdown",
   "id": "e3c1e790",
   "metadata": {},
   "source": [
    "### 2.2.2 Agregación\n",
    "Ahora ya podemos agregar las filas del dataset por accidente. Además realizaremos un conteo de filas de cada agregación, es decir, el número de personas involucradas en el accidente."
   ]
  },
  {
   "cell_type": "code",
   "execution_count": 9,
   "id": "72bcabcb",
   "metadata": {},
   "outputs": [
    {
     "data": {
      "text/html": [
       "<div>\n",
       "<style scoped>\n",
       "    .dataframe tbody tr th:only-of-type {\n",
       "        vertical-align: middle;\n",
       "    }\n",
       "\n",
       "    .dataframe tbody tr th {\n",
       "        vertical-align: top;\n",
       "    }\n",
       "\n",
       "    .dataframe thead th {\n",
       "        text-align: right;\n",
       "    }\n",
       "</style>\n",
       "<table border=\"1\" class=\"dataframe\">\n",
       "  <thead>\n",
       "    <tr style=\"text-align: right;\">\n",
       "      <th></th>\n",
       "      <th>C_YEAR</th>\n",
       "      <th>C_MNTH</th>\n",
       "      <th>C_WDAY</th>\n",
       "      <th>C_HOUR</th>\n",
       "      <th>C_SEV</th>\n",
       "      <th>C_VEHS</th>\n",
       "      <th>C_CONF</th>\n",
       "      <th>C_RCFG</th>\n",
       "      <th>C_WTHR</th>\n",
       "      <th>C_RSUR</th>\n",
       "      <th>C_RALN</th>\n",
       "      <th>C_TRAF</th>\n",
       "      <th>C_PERS</th>\n",
       "    </tr>\n",
       "  </thead>\n",
       "  <tbody>\n",
       "    <tr>\n",
       "      <th>0</th>\n",
       "      <td>1999</td>\n",
       "      <td>01</td>\n",
       "      <td>1</td>\n",
       "      <td>00</td>\n",
       "      <td>2</td>\n",
       "      <td>01</td>\n",
       "      <td>01</td>\n",
       "      <td>01</td>\n",
       "      <td>1</td>\n",
       "      <td>4</td>\n",
       "      <td>1</td>\n",
       "      <td>18</td>\n",
       "      <td>1</td>\n",
       "    </tr>\n",
       "    <tr>\n",
       "      <th>1</th>\n",
       "      <td>1999</td>\n",
       "      <td>01</td>\n",
       "      <td>1</td>\n",
       "      <td>00</td>\n",
       "      <td>2</td>\n",
       "      <td>01</td>\n",
       "      <td>01</td>\n",
       "      <td>01</td>\n",
       "      <td>1</td>\n",
       "      <td>5</td>\n",
       "      <td>1</td>\n",
       "      <td>18</td>\n",
       "      <td>1</td>\n",
       "    </tr>\n",
       "    <tr>\n",
       "      <th>2</th>\n",
       "      <td>1999</td>\n",
       "      <td>01</td>\n",
       "      <td>1</td>\n",
       "      <td>00</td>\n",
       "      <td>2</td>\n",
       "      <td>01</td>\n",
       "      <td>01</td>\n",
       "      <td>01</td>\n",
       "      <td>2</td>\n",
       "      <td>1</td>\n",
       "      <td>1</td>\n",
       "      <td>18</td>\n",
       "      <td>1</td>\n",
       "    </tr>\n",
       "    <tr>\n",
       "      <th>3</th>\n",
       "      <td>1999</td>\n",
       "      <td>01</td>\n",
       "      <td>1</td>\n",
       "      <td>00</td>\n",
       "      <td>2</td>\n",
       "      <td>01</td>\n",
       "      <td>01</td>\n",
       "      <td>01</td>\n",
       "      <td>6</td>\n",
       "      <td>3</td>\n",
       "      <td>2</td>\n",
       "      <td>18</td>\n",
       "      <td>2</td>\n",
       "    </tr>\n",
       "    <tr>\n",
       "      <th>4</th>\n",
       "      <td>1999</td>\n",
       "      <td>01</td>\n",
       "      <td>1</td>\n",
       "      <td>00</td>\n",
       "      <td>2</td>\n",
       "      <td>01</td>\n",
       "      <td>01</td>\n",
       "      <td>UU</td>\n",
       "      <td>1</td>\n",
       "      <td>2</td>\n",
       "      <td>3</td>\n",
       "      <td>18</td>\n",
       "      <td>1</td>\n",
       "    </tr>\n",
       "  </tbody>\n",
       "</table>\n",
       "</div>"
      ],
      "text/plain": [
       "   C_YEAR C_MNTH C_WDAY C_HOUR  C_SEV C_VEHS C_CONF C_RCFG C_WTHR C_RSUR  \\\n",
       "0    1999     01      1     00      2     01     01     01      1      4   \n",
       "1    1999     01      1     00      2     01     01     01      1      5   \n",
       "2    1999     01      1     00      2     01     01     01      2      1   \n",
       "3    1999     01      1     00      2     01     01     01      6      3   \n",
       "4    1999     01      1     00      2     01     01     UU      1      2   \n",
       "\n",
       "  C_RALN C_TRAF  C_PERS  \n",
       "0      1     18       1  \n",
       "1      1     18       1  \n",
       "2      1     18       1  \n",
       "3      2     18       2  \n",
       "4      3     18       1  "
      ]
     },
     "execution_count": 9,
     "metadata": {},
     "output_type": "execute_result"
    }
   ],
   "source": [
    "# Agregación final\n",
    "acc_columns = ['C_YEAR', 'C_MNTH', 'C_WDAY', \n",
    "               'C_HOUR', 'C_SEV', 'C_VEHS', \n",
    "               'C_CONF', 'C_RCFG', 'C_WTHR', \n",
    "               'C_RSUR', 'C_RALN', 'C_TRAF']\n",
    "\n",
    "sev_df = accidents_df.groupby(acc_columns).agg(C_PERS=('P_USER', 'count')).reset_index()\n",
    "sev_df.head()"
   ]
  },
  {
   "cell_type": "markdown",
   "id": "4ea22769",
   "metadata": {},
   "source": [
    "### 2.2.3 Reducción de categorías\n",
    "\n",
    "A raíz del EDA general, hemos podido observar ciertos aspectos de la distribucion de los datos en las categorías de las variables que nos permiten reducir sus valores, de forma que sea más sencillo manejarlas en el modelo. Es importante recordar que solo tratamos las categorías que no son valores especiales, pues esas serán tratadas en otra fase posterior. \n",
    "\n",
    "En concreto realizaremos las siguiente reducciones:\n",
    "\n",
    "**Variable ```C_HOUR```**\n",
    "\n",
    "Esta variable nos informa de la franja horaria donde ocurre el accidente. Esta posee un total de 23 categorías, debido a patrones comunes entre algunas de ellas tramificamos las franjas para agruparalas en 3 categorías.\n",
    "1. Noche: de 20 a 6 horas\n",
    "2. Mañana: de 7 a 13 horas\n",
    "3. Tarde: de 14 a 19 horas"
   ]
  },
  {
   "cell_type": "code",
   "execution_count": 10,
   "id": "9ce8520d",
   "metadata": {},
   "outputs": [
    {
     "data": {
      "text/html": [
       "<div>\n",
       "<style scoped>\n",
       "    .dataframe tbody tr th:only-of-type {\n",
       "        vertical-align: middle;\n",
       "    }\n",
       "\n",
       "    .dataframe tbody tr th {\n",
       "        vertical-align: top;\n",
       "    }\n",
       "\n",
       "    .dataframe thead th {\n",
       "        text-align: right;\n",
       "    }\n",
       "</style>\n",
       "<table border=\"1\" class=\"dataframe\">\n",
       "  <thead>\n",
       "    <tr style=\"text-align: right;\">\n",
       "      <th></th>\n",
       "      <th>index</th>\n",
       "      <th>percentaje</th>\n",
       "      <th>C_HOUR</th>\n",
       "    </tr>\n",
       "  </thead>\n",
       "  <tbody>\n",
       "    <tr>\n",
       "      <th>0</th>\n",
       "      <td>afternoon</td>\n",
       "      <td>39.242328</td>\n",
       "      <td>702845</td>\n",
       "    </tr>\n",
       "    <tr>\n",
       "      <th>1</th>\n",
       "      <td>morning</td>\n",
       "      <td>35.208857</td>\n",
       "      <td>630604</td>\n",
       "    </tr>\n",
       "    <tr>\n",
       "      <th>2</th>\n",
       "      <td>night</td>\n",
       "      <td>24.260903</td>\n",
       "      <td>434522</td>\n",
       "    </tr>\n",
       "    <tr>\n",
       "      <th>3</th>\n",
       "      <td>UU</td>\n",
       "      <td>1.287912</td>\n",
       "      <td>23067</td>\n",
       "    </tr>\n",
       "  </tbody>\n",
       "</table>\n",
       "</div>"
      ],
      "text/plain": [
       "       index  percentaje  C_HOUR\n",
       "0  afternoon   39.242328  702845\n",
       "1    morning   35.208857  630604\n",
       "2      night   24.260903  434522\n",
       "3         UU    1.287912   23067"
      ]
     },
     "execution_count": 10,
     "metadata": {},
     "output_type": "execute_result"
    }
   ],
   "source": [
    "categories = {\n",
    "    'night' : ['20', '21', '22', '23', '00', '01', '02', '03', '04', '05', '06'],\n",
    "    'morning' : ['07', '08', '09', '10', '11', '12', '13'],\n",
    "    'afternoon' : ['14', '15', '16', '17', '18', '19']\n",
    "}\n",
    "\n",
    "for cat in categories:\n",
    "    sev_df['C_HOUR'] = sev_df['C_HOUR'].replace(to_replace = categories[cat], value = cat)\n",
    "\n",
    "eda_tools.classes_overview(df = sev_df, obj_val = 'C_HOUR')"
   ]
  },
  {
   "cell_type": "markdown",
   "id": "68869ef5",
   "metadata": {},
   "source": [
    "**Variable ```C_CONF```**\n",
    "\n",
    "Estas variable refleja la tipología del accidente, y es bastante dificil de reducir. Estas categorías poseen información tanto del número de vehículos implicados como del tipo de colisión. En nuestro caso vamos a reducirla para que solo muestre información del tipo de colisión:\n",
    "1. object: [01, 02]\n",
    "2. roll: [03, 04, 05]\n",
    "3. back: [21]\n",
    "4. side: [22, 32]\n",
    "5. passby: [23, 24]\n",
    "6. front: [31]\n",
    "7. turn: [33, 34]\n",
    "8. angle: [35]\n",
    "3. other: [06, 25, 36, 41]"
   ]
  },
  {
   "cell_type": "code",
   "execution_count": 11,
   "id": "3d7221b5",
   "metadata": {},
   "outputs": [
    {
     "data": {
      "text/html": [
       "<div>\n",
       "<style scoped>\n",
       "    .dataframe tbody tr th:only-of-type {\n",
       "        vertical-align: middle;\n",
       "    }\n",
       "\n",
       "    .dataframe tbody tr th {\n",
       "        vertical-align: top;\n",
       "    }\n",
       "\n",
       "    .dataframe thead th {\n",
       "        text-align: right;\n",
       "    }\n",
       "</style>\n",
       "<table border=\"1\" class=\"dataframe\">\n",
       "  <thead>\n",
       "    <tr style=\"text-align: right;\">\n",
       "      <th></th>\n",
       "      <th>index</th>\n",
       "      <th>percentaje</th>\n",
       "      <th>C_CONF</th>\n",
       "    </tr>\n",
       "  </thead>\n",
       "  <tbody>\n",
       "    <tr>\n",
       "      <th>0</th>\n",
       "      <td>back</td>\n",
       "      <td>22.331464</td>\n",
       "      <td>399965</td>\n",
       "    </tr>\n",
       "    <tr>\n",
       "      <th>1</th>\n",
       "      <td>other</td>\n",
       "      <td>19.495734</td>\n",
       "      <td>349176</td>\n",
       "    </tr>\n",
       "    <tr>\n",
       "      <th>2</th>\n",
       "      <td>roll</td>\n",
       "      <td>12.631893</td>\n",
       "      <td>226242</td>\n",
       "    </tr>\n",
       "    <tr>\n",
       "      <th>3</th>\n",
       "      <td>angle</td>\n",
       "      <td>12.526256</td>\n",
       "      <td>224350</td>\n",
       "    </tr>\n",
       "    <tr>\n",
       "      <th>4</th>\n",
       "      <td>turn</td>\n",
       "      <td>7.743219</td>\n",
       "      <td>138684</td>\n",
       "    </tr>\n",
       "    <tr>\n",
       "      <th>5</th>\n",
       "      <td>object</td>\n",
       "      <td>6.153080</td>\n",
       "      <td>110204</td>\n",
       "    </tr>\n",
       "    <tr>\n",
       "      <th>6</th>\n",
       "      <td>QQ</td>\n",
       "      <td>5.912772</td>\n",
       "      <td>105900</td>\n",
       "    </tr>\n",
       "    <tr>\n",
       "      <th>7</th>\n",
       "      <td>side</td>\n",
       "      <td>4.021299</td>\n",
       "      <td>72023</td>\n",
       "    </tr>\n",
       "    <tr>\n",
       "      <th>8</th>\n",
       "      <td>UU</td>\n",
       "      <td>3.646489</td>\n",
       "      <td>65310</td>\n",
       "    </tr>\n",
       "    <tr>\n",
       "      <th>9</th>\n",
       "      <td>front</td>\n",
       "      <td>3.424439</td>\n",
       "      <td>61333</td>\n",
       "    </tr>\n",
       "    <tr>\n",
       "      <th>10</th>\n",
       "      <td>passby</td>\n",
       "      <td>2.113355</td>\n",
       "      <td>37851</td>\n",
       "    </tr>\n",
       "  </tbody>\n",
       "</table>\n",
       "</div>"
      ],
      "text/plain": [
       "     index  percentaje  C_CONF\n",
       "0     back   22.331464  399965\n",
       "1    other   19.495734  349176\n",
       "2     roll   12.631893  226242\n",
       "3    angle   12.526256  224350\n",
       "4     turn    7.743219  138684\n",
       "5   object    6.153080  110204\n",
       "6       QQ    5.912772  105900\n",
       "7     side    4.021299   72023\n",
       "8       UU    3.646489   65310\n",
       "9    front    3.424439   61333\n",
       "10  passby    2.113355   37851"
      ]
     },
     "execution_count": 11,
     "metadata": {},
     "output_type": "execute_result"
    }
   ],
   "source": [
    "categories = {\n",
    "    'object' : ['01', '02'],\n",
    "    'roll' : ['03', '04', '05'],\n",
    "    'back' : ['21'],\n",
    "    'side' : ['22', '32'],\n",
    "    'passby' : ['23', '24'],\n",
    "    'front' : ['31'],\n",
    "    'turn' : ['33', '34'],\n",
    "    'angle' : ['35'],\n",
    "    'other' : ['06', '25', '36', '41']\n",
    "}\n",
    "\n",
    "for cat in categories:\n",
    "    sev_df['C_CONF'] = sev_df['C_CONF'].replace(to_replace = categories[cat], value = cat)\n",
    "\n",
    "eda_tools.classes_overview(df = sev_df, obj_val = 'C_CONF')"
   ]
  },
  {
   "cell_type": "markdown",
   "id": "9ec85e72",
   "metadata": {},
   "source": [
    "**Variable ```C_RCFG```**\n",
    "\n",
    "Esta variable nos explica el tipo de carretera donde ocurrió el accidente. Nuestra propuesta es una reducción a dos categorías:\n",
    "1. Normal: [01]\n",
    "2. Especial: [el resto]\n",
    "\n",
    "De esta forma diferenciamos la carretera normal del resto de carreteras de una tipología específica. La razón es que en su mayoría los datos que se tienen corresponden a carreteras normales, mientras que las de tipologñia específica son menos habituales."
   ]
  },
  {
   "cell_type": "code",
   "execution_count": 12,
   "id": "7879be41",
   "metadata": {},
   "outputs": [
    {
     "data": {
      "text/html": [
       "<div>\n",
       "<style scoped>\n",
       "    .dataframe tbody tr th:only-of-type {\n",
       "        vertical-align: middle;\n",
       "    }\n",
       "\n",
       "    .dataframe tbody tr th {\n",
       "        vertical-align: top;\n",
       "    }\n",
       "\n",
       "    .dataframe thead th {\n",
       "        text-align: right;\n",
       "    }\n",
       "</style>\n",
       "<table border=\"1\" class=\"dataframe\">\n",
       "  <thead>\n",
       "    <tr style=\"text-align: right;\">\n",
       "      <th></th>\n",
       "      <th>index</th>\n",
       "      <th>percentaje</th>\n",
       "      <th>C_RCFG</th>\n",
       "    </tr>\n",
       "  </thead>\n",
       "  <tbody>\n",
       "    <tr>\n",
       "      <th>0</th>\n",
       "      <td>specific</td>\n",
       "      <td>48.033989</td>\n",
       "      <td>860307</td>\n",
       "    </tr>\n",
       "    <tr>\n",
       "      <th>1</th>\n",
       "      <td>normal</td>\n",
       "      <td>38.702138</td>\n",
       "      <td>693170</td>\n",
       "    </tr>\n",
       "    <tr>\n",
       "      <th>2</th>\n",
       "      <td>UU</td>\n",
       "      <td>9.900962</td>\n",
       "      <td>177330</td>\n",
       "    </tr>\n",
       "    <tr>\n",
       "      <th>3</th>\n",
       "      <td>QQ</td>\n",
       "      <td>3.362910</td>\n",
       "      <td>60231</td>\n",
       "    </tr>\n",
       "  </tbody>\n",
       "</table>\n",
       "</div>"
      ],
      "text/plain": [
       "      index  percentaje  C_RCFG\n",
       "0  specific   48.033989  860307\n",
       "1    normal   38.702138  693170\n",
       "2        UU    9.900962  177330\n",
       "3        QQ    3.362910   60231"
      ]
     },
     "execution_count": 12,
     "metadata": {},
     "output_type": "execute_result"
    }
   ],
   "source": [
    "categories = {\n",
    "    'normal' : ['01'],\n",
    "    'specific' : ['02', '03', '04', '05', '06', '07', '08', '09', '10']\n",
    "}\n",
    "\n",
    "for cat in categories:\n",
    "    sev_df['C_RCFG'] = sev_df['C_RCFG'].replace(to_replace = categories[cat], value = cat)\n",
    "\n",
    "eda_tools.classes_overview(df = sev_df, obj_val = 'C_RCFG')"
   ]
  },
  {
   "cell_type": "markdown",
   "id": "26a1d361",
   "metadata": {},
   "source": [
    "**Variable ```C_WTHR```**\n",
    "\n",
    "Con esta variable sabemos la situación meteorológica durante el accidente. El análisis visual muestra como en situaciones de conducción normales o no severas (día soleado o lluvia moderada) los accidentes no tienen porque causar muertos, sin embargo, en situación climatológicas adversas es altamente probable:\n",
    "1. normal [1, 3]\n",
    "2. bad [2, 4, 5, 6, 7]"
   ]
  },
  {
   "cell_type": "code",
   "execution_count": 13,
   "id": "1c2d7dbc",
   "metadata": {},
   "outputs": [
    {
     "data": {
      "text/html": [
       "<div>\n",
       "<style scoped>\n",
       "    .dataframe tbody tr th:only-of-type {\n",
       "        vertical-align: middle;\n",
       "    }\n",
       "\n",
       "    .dataframe tbody tr th {\n",
       "        vertical-align: top;\n",
       "    }\n",
       "\n",
       "    .dataframe thead th {\n",
       "        text-align: right;\n",
       "    }\n",
       "</style>\n",
       "<table border=\"1\" class=\"dataframe\">\n",
       "  <thead>\n",
       "    <tr style=\"text-align: right;\">\n",
       "      <th></th>\n",
       "      <th>index</th>\n",
       "      <th>percentaje</th>\n",
       "      <th>C_WTHR</th>\n",
       "    </tr>\n",
       "  </thead>\n",
       "  <tbody>\n",
       "    <tr>\n",
       "      <th>0</th>\n",
       "      <td>normal</td>\n",
       "      <td>75.054521</td>\n",
       "      <td>1344255</td>\n",
       "    </tr>\n",
       "    <tr>\n",
       "      <th>1</th>\n",
       "      <td>bad</td>\n",
       "      <td>22.783604</td>\n",
       "      <td>408063</td>\n",
       "    </tr>\n",
       "    <tr>\n",
       "      <th>2</th>\n",
       "      <td>U</td>\n",
       "      <td>1.864450</td>\n",
       "      <td>33393</td>\n",
       "    </tr>\n",
       "    <tr>\n",
       "      <th>3</th>\n",
       "      <td>Q</td>\n",
       "      <td>0.297425</td>\n",
       "      <td>5327</td>\n",
       "    </tr>\n",
       "  </tbody>\n",
       "</table>\n",
       "</div>"
      ],
      "text/plain": [
       "    index  percentaje   C_WTHR\n",
       "0  normal   75.054521  1344255\n",
       "1     bad   22.783604   408063\n",
       "2       U    1.864450    33393\n",
       "3       Q    0.297425     5327"
      ]
     },
     "execution_count": 13,
     "metadata": {},
     "output_type": "execute_result"
    }
   ],
   "source": [
    "categories = {\n",
    "    'normal' : ['1', '3'],\n",
    "    'bad' : ['2', '4', '5', '6', '7']\n",
    "}\n",
    "\n",
    "for cat in categories:\n",
    "    sev_df['C_WTHR'] = sev_df['C_WTHR'].replace(to_replace = categories[cat], value = cat)\n",
    "\n",
    "eda_tools.classes_overview(df = sev_df, obj_val = 'C_WTHR')"
   ]
  },
  {
   "cell_type": "markdown",
   "id": "68b75d8c",
   "metadata": {},
   "source": [
    "**Variable ```C_RSUR```**\n",
    "\n",
    "En esta variable analizamos las condiciones del asfalto. Al igual que en los casos anteriores la reducimos a dos categorias:\n",
    "1. normal: [1, 2]\n",
    "2. draged: [3, 4, 5, 6, 7, 8, 9]"
   ]
  },
  {
   "cell_type": "code",
   "execution_count": 14,
   "id": "93b618bd",
   "metadata": {},
   "outputs": [
    {
     "data": {
      "text/html": [
       "<div>\n",
       "<style scoped>\n",
       "    .dataframe tbody tr th:only-of-type {\n",
       "        vertical-align: middle;\n",
       "    }\n",
       "\n",
       "    .dataframe tbody tr th {\n",
       "        vertical-align: top;\n",
       "    }\n",
       "\n",
       "    .dataframe thead th {\n",
       "        text-align: right;\n",
       "    }\n",
       "</style>\n",
       "<table border=\"1\" class=\"dataframe\">\n",
       "  <thead>\n",
       "    <tr style=\"text-align: right;\">\n",
       "      <th></th>\n",
       "      <th>index</th>\n",
       "      <th>percentaje</th>\n",
       "      <th>C_RSUR</th>\n",
       "    </tr>\n",
       "  </thead>\n",
       "  <tbody>\n",
       "    <tr>\n",
       "      <th>0</th>\n",
       "      <td>normal</td>\n",
       "      <td>79.432597</td>\n",
       "      <td>1422668</td>\n",
       "    </tr>\n",
       "    <tr>\n",
       "      <th>1</th>\n",
       "      <td>dragged</td>\n",
       "      <td>15.399897</td>\n",
       "      <td>275818</td>\n",
       "    </tr>\n",
       "    <tr>\n",
       "      <th>2</th>\n",
       "      <td>Q</td>\n",
       "      <td>3.545318</td>\n",
       "      <td>63498</td>\n",
       "    </tr>\n",
       "    <tr>\n",
       "      <th>3</th>\n",
       "      <td>U</td>\n",
       "      <td>1.622188</td>\n",
       "      <td>29054</td>\n",
       "    </tr>\n",
       "  </tbody>\n",
       "</table>\n",
       "</div>"
      ],
      "text/plain": [
       "     index  percentaje   C_RSUR\n",
       "0   normal   79.432597  1422668\n",
       "1  dragged   15.399897   275818\n",
       "2        Q    3.545318    63498\n",
       "3        U    1.622188    29054"
      ]
     },
     "execution_count": 14,
     "metadata": {},
     "output_type": "execute_result"
    }
   ],
   "source": [
    "categories = {\n",
    "    'normal' : ['1', '2'],\n",
    "    'dragged' : ['3', '4', '5', '6', '7', '8', '9']\n",
    "}\n",
    "\n",
    "for cat in categories:\n",
    "    sev_df['C_RSUR'] = sev_df['C_RSUR'].replace(to_replace = categories[cat], value = cat)\n",
    "\n",
    "eda_tools.classes_overview(df = sev_df, obj_val = 'C_RSUR')"
   ]
  },
  {
   "cell_type": "markdown",
   "id": "6443444f",
   "metadata": {},
   "source": [
    "**Variable ```C_RALN```**\n",
    "\n",
    "Aquí observamos el tipo de carretera. Visualmente se obaservaba como los accidentes mortales eran más probables en carreteras no rectas y con características de pendientes. Dividimos en dos categorías:\n",
    "1. normal [1]\n",
    "2. curve/ramp [el resto]"
   ]
  },
  {
   "cell_type": "code",
   "execution_count": 15,
   "id": "263b7923",
   "metadata": {},
   "outputs": [
    {
     "data": {
      "text/html": [
       "<div>\n",
       "<style scoped>\n",
       "    .dataframe tbody tr th:only-of-type {\n",
       "        vertical-align: middle;\n",
       "    }\n",
       "\n",
       "    .dataframe tbody tr th {\n",
       "        vertical-align: top;\n",
       "    }\n",
       "\n",
       "    .dataframe thead th {\n",
       "        text-align: right;\n",
       "    }\n",
       "</style>\n",
       "<table border=\"1\" class=\"dataframe\">\n",
       "  <thead>\n",
       "    <tr style=\"text-align: right;\">\n",
       "      <th></th>\n",
       "      <th>index</th>\n",
       "      <th>percentaje</th>\n",
       "      <th>C_RALN</th>\n",
       "    </tr>\n",
       "  </thead>\n",
       "  <tbody>\n",
       "    <tr>\n",
       "      <th>0</th>\n",
       "      <td>normal</td>\n",
       "      <td>64.104670</td>\n",
       "      <td>1148139</td>\n",
       "    </tr>\n",
       "    <tr>\n",
       "      <th>1</th>\n",
       "      <td>curve/ramp</td>\n",
       "      <td>27.126337</td>\n",
       "      <td>485843</td>\n",
       "    </tr>\n",
       "    <tr>\n",
       "      <th>2</th>\n",
       "      <td>U</td>\n",
       "      <td>8.170067</td>\n",
       "      <td>146329</td>\n",
       "    </tr>\n",
       "    <tr>\n",
       "      <th>3</th>\n",
       "      <td>Q</td>\n",
       "      <td>0.598926</td>\n",
       "      <td>10727</td>\n",
       "    </tr>\n",
       "  </tbody>\n",
       "</table>\n",
       "</div>"
      ],
      "text/plain": [
       "        index  percentaje   C_RALN\n",
       "0      normal   64.104670  1148139\n",
       "1  curve/ramp   27.126337   485843\n",
       "2           U    8.170067   146329\n",
       "3           Q    0.598926    10727"
      ]
     },
     "execution_count": 15,
     "metadata": {},
     "output_type": "execute_result"
    }
   ],
   "source": [
    "categories = {\n",
    "    'normal' : ['1'],\n",
    "    'curve/ramp' : ['2', '3', '4', '5', '6']\n",
    "}\n",
    "\n",
    "for cat in categories:\n",
    "    sev_df['C_RALN'] = sev_df['C_RALN'].replace(to_replace = categories[cat], value = cat)\n",
    "\n",
    "eda_tools.classes_overview(df = sev_df, obj_val = 'C_RALN')"
   ]
  },
  {
   "cell_type": "markdown",
   "id": "19d8e3d2",
   "metadata": {},
   "source": [
    "**Variable ```C_TRAF```**\n",
    "\n",
    "Esta variable indica la presencia de medidas de seguridad. Como norma generla una carretera sin medidas de seguridad mostraba una elevada frecuencia de accidentes mortales.\n",
    "1. safe [el resto]\n",
    "2. unsafe [18]"
   ]
  },
  {
   "cell_type": "code",
   "execution_count": 16,
   "id": "b00c7c9c",
   "metadata": {},
   "outputs": [
    {
     "data": {
      "text/html": [
       "<div>\n",
       "<style scoped>\n",
       "    .dataframe tbody tr th:only-of-type {\n",
       "        vertical-align: middle;\n",
       "    }\n",
       "\n",
       "    .dataframe tbody tr th {\n",
       "        vertical-align: top;\n",
       "    }\n",
       "\n",
       "    .dataframe thead th {\n",
       "        text-align: right;\n",
       "    }\n",
       "</style>\n",
       "<table border=\"1\" class=\"dataframe\">\n",
       "  <thead>\n",
       "    <tr style=\"text-align: right;\">\n",
       "      <th></th>\n",
       "      <th>index</th>\n",
       "      <th>percentaje</th>\n",
       "      <th>C_TRAF</th>\n",
       "    </tr>\n",
       "  </thead>\n",
       "  <tbody>\n",
       "    <tr>\n",
       "      <th>0</th>\n",
       "      <td>unsafe</td>\n",
       "      <td>56.976792</td>\n",
       "      <td>1020476</td>\n",
       "    </tr>\n",
       "    <tr>\n",
       "      <th>1</th>\n",
       "      <td>safe</td>\n",
       "      <td>36.416536</td>\n",
       "      <td>652234</td>\n",
       "    </tr>\n",
       "    <tr>\n",
       "      <th>2</th>\n",
       "      <td>UU</td>\n",
       "      <td>4.905479</td>\n",
       "      <td>87859</td>\n",
       "    </tr>\n",
       "    <tr>\n",
       "      <th>3</th>\n",
       "      <td>QQ</td>\n",
       "      <td>1.701192</td>\n",
       "      <td>30469</td>\n",
       "    </tr>\n",
       "  </tbody>\n",
       "</table>\n",
       "</div>"
      ],
      "text/plain": [
       "    index  percentaje   C_TRAF\n",
       "0  unsafe   56.976792  1020476\n",
       "1    safe   36.416536   652234\n",
       "2      UU    4.905479    87859\n",
       "3      QQ    1.701192    30469"
      ]
     },
     "execution_count": 16,
     "metadata": {},
     "output_type": "execute_result"
    }
   ],
   "source": [
    "categories = {\n",
    "    'safe' : ['01', '02', '03', '04', '05', '06', '07', '08', '09', '10', '11', '12', '13', '14', '15', '16', '17'],\n",
    "    'unsafe' : ['18']\n",
    "}\n",
    "\n",
    "for cat in categories:\n",
    "    sev_df['C_TRAF'] = sev_df['C_TRAF'].replace(to_replace = categories[cat], value = cat)\n",
    "\n",
    "eda_tools.classes_overview(df = sev_df, obj_val = 'C_TRAF')"
   ]
  },
  {
   "cell_type": "markdown",
   "id": "9cdc2e0a",
   "metadata": {},
   "source": [
    "**Variable ```C_MNTH```**\n",
    "Esta variable vamos a realizar una reducción por estaciones del año, diviendo en dos categorías:\n",
    "1. Otoño/Invierno [Octubre a Marzo]\n",
    "2. Primavera/Verano [Abril a Septiembre]"
   ]
  },
  {
   "cell_type": "code",
   "execution_count": 17,
   "id": "37c588bc",
   "metadata": {},
   "outputs": [
    {
     "data": {
      "text/html": [
       "<div>\n",
       "<style scoped>\n",
       "    .dataframe tbody tr th:only-of-type {\n",
       "        vertical-align: middle;\n",
       "    }\n",
       "\n",
       "    .dataframe tbody tr th {\n",
       "        vertical-align: top;\n",
       "    }\n",
       "\n",
       "    .dataframe thead th {\n",
       "        text-align: right;\n",
       "    }\n",
       "</style>\n",
       "<table border=\"1\" class=\"dataframe\">\n",
       "  <thead>\n",
       "    <tr style=\"text-align: right;\">\n",
       "      <th></th>\n",
       "      <th>index</th>\n",
       "      <th>percentaje</th>\n",
       "      <th>C_MNTH</th>\n",
       "    </tr>\n",
       "  </thead>\n",
       "  <tbody>\n",
       "    <tr>\n",
       "      <th>0</th>\n",
       "      <td>oto/inv</td>\n",
       "      <td>52.649023</td>\n",
       "      <td>942964</td>\n",
       "    </tr>\n",
       "    <tr>\n",
       "      <th>1</th>\n",
       "      <td>prim/ver</td>\n",
       "      <td>47.345729</td>\n",
       "      <td>847980</td>\n",
       "    </tr>\n",
       "    <tr>\n",
       "      <th>2</th>\n",
       "      <td>UU</td>\n",
       "      <td>0.005248</td>\n",
       "      <td>94</td>\n",
       "    </tr>\n",
       "  </tbody>\n",
       "</table>\n",
       "</div>"
      ],
      "text/plain": [
       "      index  percentaje  C_MNTH\n",
       "0   oto/inv   52.649023  942964\n",
       "1  prim/ver   47.345729  847980\n",
       "2        UU    0.005248      94"
      ]
     },
     "execution_count": 17,
     "metadata": {},
     "output_type": "execute_result"
    }
   ],
   "source": [
    "categories = {\n",
    "    'oto/inv' : ['10', '11', '12', '01', '02', '03'],\n",
    "    'prim/ver' : ['04', '05', '06', '07', '08', '09']\n",
    "}\n",
    "\n",
    "for cat in categories:\n",
    "    sev_df['C_MNTH'] = sev_df['C_MNTH'].replace(to_replace = categories[cat], value = cat)\n",
    "\n",
    "eda_tools.classes_overview(df = sev_df, obj_val = 'C_MNTH')"
   ]
  },
  {
   "cell_type": "markdown",
   "id": "1f982c18",
   "metadata": {},
   "source": [
    "**Variable ```C_WDAY```**\n",
    "Esta variable vamos a realizar una reducción por entre semana y fin de semana (incluiremos viernes en la segunda al ser día de operaciones salida de manera muy frecuente):\n",
    "1. week [01 a 04]\n",
    "2. weekend [05 a 07]"
   ]
  },
  {
   "cell_type": "code",
   "execution_count": 26,
   "id": "3ff42e64",
   "metadata": {},
   "outputs": [
    {
     "data": {
      "text/html": [
       "<div>\n",
       "<style scoped>\n",
       "    .dataframe tbody tr th:only-of-type {\n",
       "        vertical-align: middle;\n",
       "    }\n",
       "\n",
       "    .dataframe tbody tr th {\n",
       "        vertical-align: top;\n",
       "    }\n",
       "\n",
       "    .dataframe thead th {\n",
       "        text-align: right;\n",
       "    }\n",
       "</style>\n",
       "<table border=\"1\" class=\"dataframe\">\n",
       "  <thead>\n",
       "    <tr style=\"text-align: right;\">\n",
       "      <th></th>\n",
       "      <th>index</th>\n",
       "      <th>percentaje</th>\n",
       "      <th>C_WDAY</th>\n",
       "    </tr>\n",
       "  </thead>\n",
       "  <tbody>\n",
       "    <tr>\n",
       "      <th>0</th>\n",
       "      <td>week</td>\n",
       "      <td>57.245575</td>\n",
       "      <td>1025290</td>\n",
       "    </tr>\n",
       "    <tr>\n",
       "      <th>1</th>\n",
       "      <td>weekend</td>\n",
       "      <td>42.726955</td>\n",
       "      <td>765256</td>\n",
       "    </tr>\n",
       "    <tr>\n",
       "      <th>2</th>\n",
       "      <td>U</td>\n",
       "      <td>0.027470</td>\n",
       "      <td>492</td>\n",
       "    </tr>\n",
       "  </tbody>\n",
       "</table>\n",
       "</div>"
      ],
      "text/plain": [
       "     index  percentaje   C_WDAY\n",
       "0     week   57.245575  1025290\n",
       "1  weekend   42.726955   765256\n",
       "2        U    0.027470      492"
      ]
     },
     "execution_count": 26,
     "metadata": {},
     "output_type": "execute_result"
    }
   ],
   "source": [
    "categories = {\n",
    "    'week' : ['1', '2', '3', '4'],\n",
    "    'weekend' : ['5', '6', '7']\n",
    "}\n",
    "\n",
    "for cat in categories:\n",
    "    sev_df['C_WDAY'] = sev_df['C_WDAY'].replace(to_replace = categories[cat], value = cat)\n",
    "\n",
    "eda_tools.classes_overview(df = sev_df, obj_val = 'C_WDAY')"
   ]
  },
  {
   "cell_type": "markdown",
   "id": "ca7049fa",
   "metadata": {},
   "source": [
    "### 2.2.4 Guardado del dataset final"
   ]
  },
  {
   "cell_type": "code",
   "execution_count": 27,
   "id": "21909e18",
   "metadata": {},
   "outputs": [],
   "source": [
    "sev_df.to_csv(\"../data/sev_df_02.csv\", index = False)"
   ]
  },
  {
   "cell_type": "markdown",
   "id": "78520307",
   "metadata": {},
   "source": [
    "## 2.3 Análisis\n",
    "A continuación repetimos un pequeño análisis con le objetivo de valorar el resultado de las modificaciones y el dataset resultante."
   ]
  },
  {
   "cell_type": "markdown",
   "id": "e157e0fe",
   "metadata": {},
   "source": [
    "### 2.3.1 Variable objetivo\n",
    "Repasamos como ha quedado la variable objetivo después de la eliminación de filas:"
   ]
  },
  {
   "cell_type": "code",
   "execution_count": 28,
   "id": "0eaf819e",
   "metadata": {},
   "outputs": [
    {
     "data": {
      "text/html": [
       "<div>\n",
       "<style scoped>\n",
       "    .dataframe tbody tr th:only-of-type {\n",
       "        vertical-align: middle;\n",
       "    }\n",
       "\n",
       "    .dataframe tbody tr th {\n",
       "        vertical-align: top;\n",
       "    }\n",
       "\n",
       "    .dataframe thead th {\n",
       "        text-align: right;\n",
       "    }\n",
       "</style>\n",
       "<table border=\"1\" class=\"dataframe\">\n",
       "  <thead>\n",
       "    <tr style=\"text-align: right;\">\n",
       "      <th></th>\n",
       "      <th>index</th>\n",
       "      <th>percentaje</th>\n",
       "      <th>C_SEV</th>\n",
       "    </tr>\n",
       "  </thead>\n",
       "  <tbody>\n",
       "    <tr>\n",
       "      <th>0</th>\n",
       "      <td>2</td>\n",
       "      <td>98.059561</td>\n",
       "      <td>1756284</td>\n",
       "    </tr>\n",
       "    <tr>\n",
       "      <th>1</th>\n",
       "      <td>1</td>\n",
       "      <td>1.940439</td>\n",
       "      <td>34754</td>\n",
       "    </tr>\n",
       "  </tbody>\n",
       "</table>\n",
       "</div>"
      ],
      "text/plain": [
       "   index  percentaje    C_SEV\n",
       "0      2   98.059561  1756284\n",
       "1      1    1.940439    34754"
      ]
     },
     "execution_count": 28,
     "metadata": {},
     "output_type": "execute_result"
    }
   ],
   "source": [
    "eda_tools.classes_overview(df = sev_df, obj_val = 'C_SEV')"
   ]
  },
  {
   "cell_type": "markdown",
   "id": "a04d02c3",
   "metadata": {},
   "source": [
    "Podemos ver como se sigue manteniendo el desequilibrio y de las mismas proporciones. Habrá que tenerlo en cuenta para el tratado posterior antes de efectuar la modelización."
   ]
  },
  {
   "cell_type": "markdown",
   "id": "38259a46",
   "metadata": {},
   "source": [
    "### 2.3.2 Valores especiales\n",
    "Repasamos la existencia de valores especiales que habrá que tratar en el preprocesado:"
   ]
  },
  {
   "cell_type": "code",
   "execution_count": 29,
   "id": "e24f17f0",
   "metadata": {},
   "outputs": [
    {
     "data": {
      "text/html": [
       "<div>\n",
       "<style scoped>\n",
       "    .dataframe tbody tr th:only-of-type {\n",
       "        vertical-align: middle;\n",
       "    }\n",
       "\n",
       "    .dataframe tbody tr th {\n",
       "        vertical-align: top;\n",
       "    }\n",
       "\n",
       "    .dataframe thead th {\n",
       "        text-align: right;\n",
       "    }\n",
       "</style>\n",
       "<table border=\"1\" class=\"dataframe\">\n",
       "  <thead>\n",
       "    <tr style=\"text-align: right;\">\n",
       "      <th></th>\n",
       "      <th>column_name</th>\n",
       "      <th>Q</th>\n",
       "      <th>Q%</th>\n",
       "      <th>U</th>\n",
       "      <th>U%</th>\n",
       "      <th>total</th>\n",
       "      <th>total%</th>\n",
       "    </tr>\n",
       "  </thead>\n",
       "  <tbody>\n",
       "    <tr>\n",
       "      <th>0</th>\n",
       "      <td>C_YEAR</td>\n",
       "      <td>0</td>\n",
       "      <td>[0.0]</td>\n",
       "      <td>0</td>\n",
       "      <td>[0.0]</td>\n",
       "      <td>0</td>\n",
       "      <td>0.0</td>\n",
       "    </tr>\n",
       "    <tr>\n",
       "      <th>1</th>\n",
       "      <td>C_MNTH</td>\n",
       "      <td>0</td>\n",
       "      <td>[0.0]</td>\n",
       "      <td>94</td>\n",
       "      <td>[0.005]</td>\n",
       "      <td>94</td>\n",
       "      <td>0.0</td>\n",
       "    </tr>\n",
       "    <tr>\n",
       "      <th>2</th>\n",
       "      <td>C_WDAY</td>\n",
       "      <td>0</td>\n",
       "      <td>[0.0]</td>\n",
       "      <td>492</td>\n",
       "      <td>[0.027]</td>\n",
       "      <td>492</td>\n",
       "      <td>0.0</td>\n",
       "    </tr>\n",
       "    <tr>\n",
       "      <th>3</th>\n",
       "      <td>C_HOUR</td>\n",
       "      <td>0</td>\n",
       "      <td>[0.0]</td>\n",
       "      <td>23067</td>\n",
       "      <td>[1.288]</td>\n",
       "      <td>23067</td>\n",
       "      <td>1.3</td>\n",
       "    </tr>\n",
       "    <tr>\n",
       "      <th>4</th>\n",
       "      <td>C_SEV</td>\n",
       "      <td>0</td>\n",
       "      <td>[0.0]</td>\n",
       "      <td>0</td>\n",
       "      <td>[0.0]</td>\n",
       "      <td>0</td>\n",
       "      <td>0.0</td>\n",
       "    </tr>\n",
       "    <tr>\n",
       "      <th>5</th>\n",
       "      <td>C_VEHS</td>\n",
       "      <td>0</td>\n",
       "      <td>[0.0]</td>\n",
       "      <td>139</td>\n",
       "      <td>[0.008]</td>\n",
       "      <td>139</td>\n",
       "      <td>0.0</td>\n",
       "    </tr>\n",
       "    <tr>\n",
       "      <th>6</th>\n",
       "      <td>C_CONF</td>\n",
       "      <td>105900</td>\n",
       "      <td>[5.913]</td>\n",
       "      <td>65310</td>\n",
       "      <td>[3.646]</td>\n",
       "      <td>171210</td>\n",
       "      <td>9.6</td>\n",
       "    </tr>\n",
       "    <tr>\n",
       "      <th>7</th>\n",
       "      <td>C_RCFG</td>\n",
       "      <td>60231</td>\n",
       "      <td>[3.363]</td>\n",
       "      <td>177330</td>\n",
       "      <td>[9.901]</td>\n",
       "      <td>237561</td>\n",
       "      <td>13.3</td>\n",
       "    </tr>\n",
       "    <tr>\n",
       "      <th>8</th>\n",
       "      <td>C_WTHR</td>\n",
       "      <td>5327</td>\n",
       "      <td>[0.297]</td>\n",
       "      <td>33393</td>\n",
       "      <td>[1.864]</td>\n",
       "      <td>38720</td>\n",
       "      <td>2.2</td>\n",
       "    </tr>\n",
       "    <tr>\n",
       "      <th>9</th>\n",
       "      <td>C_RSUR</td>\n",
       "      <td>63498</td>\n",
       "      <td>[3.545]</td>\n",
       "      <td>29054</td>\n",
       "      <td>[1.622]</td>\n",
       "      <td>92552</td>\n",
       "      <td>5.2</td>\n",
       "    </tr>\n",
       "    <tr>\n",
       "      <th>10</th>\n",
       "      <td>C_RALN</td>\n",
       "      <td>10727</td>\n",
       "      <td>[0.599]</td>\n",
       "      <td>146329</td>\n",
       "      <td>[8.17]</td>\n",
       "      <td>157056</td>\n",
       "      <td>8.8</td>\n",
       "    </tr>\n",
       "    <tr>\n",
       "      <th>11</th>\n",
       "      <td>C_TRAF</td>\n",
       "      <td>30469</td>\n",
       "      <td>[1.701]</td>\n",
       "      <td>87859</td>\n",
       "      <td>[4.905]</td>\n",
       "      <td>118328</td>\n",
       "      <td>6.6</td>\n",
       "    </tr>\n",
       "    <tr>\n",
       "      <th>12</th>\n",
       "      <td>C_PERS</td>\n",
       "      <td>0</td>\n",
       "      <td>[0.0]</td>\n",
       "      <td>0</td>\n",
       "      <td>[0.0]</td>\n",
       "      <td>0</td>\n",
       "      <td>0.0</td>\n",
       "    </tr>\n",
       "  </tbody>\n",
       "</table>\n",
       "</div>"
      ],
      "text/plain": [
       "   column_name       Q       Q%       U       U%   total  total%\n",
       "0       C_YEAR       0    [0.0]       0    [0.0]       0     0.0\n",
       "1       C_MNTH       0    [0.0]      94  [0.005]      94     0.0\n",
       "2       C_WDAY       0    [0.0]     492  [0.027]     492     0.0\n",
       "3       C_HOUR       0    [0.0]   23067  [1.288]   23067     1.3\n",
       "4        C_SEV       0    [0.0]       0    [0.0]       0     0.0\n",
       "5       C_VEHS       0    [0.0]     139  [0.008]     139     0.0\n",
       "6       C_CONF  105900  [5.913]   65310  [3.646]  171210     9.6\n",
       "7       C_RCFG   60231  [3.363]  177330  [9.901]  237561    13.3\n",
       "8       C_WTHR    5327  [0.297]   33393  [1.864]   38720     2.2\n",
       "9       C_RSUR   63498  [3.545]   29054  [1.622]   92552     5.2\n",
       "10      C_RALN   10727  [0.599]  146329   [8.17]  157056     8.8\n",
       "11      C_TRAF   30469  [1.701]   87859  [4.905]  118328     6.6\n",
       "12      C_PERS       0    [0.0]       0    [0.0]       0     0.0"
      ]
     },
     "execution_count": 29,
     "metadata": {},
     "output_type": "execute_result"
    }
   ],
   "source": [
    "# Valores especiales\n",
    "Q = ['Q', 'QQ', 'QQQQ']\n",
    "U = ['U', 'UU', 'UUUU']\n",
    "vals_hists = [Q, U]\n",
    "\n",
    "eda_tools.special_values_summary(df=sev_df, vals=vals_hists)"
   ]
  },
  {
   "cell_type": "markdown",
   "id": "13806bc1",
   "metadata": {},
   "source": [
    "### 2.3.3 Variables numéricas\n",
    "Realizamo un estudio de la nueva variable numérica creada: ```C_PERS```, que nos indica el número de personas involucradas en un accidente.\n",
    "\n",
    "Vemos su correlación con la variable objetivo:"
   ]
  },
  {
   "cell_type": "code",
   "execution_count": 30,
   "id": "be20b54d",
   "metadata": {},
   "outputs": [
    {
     "data": {
      "text/plain": [
       "<AxesSubplot:>"
      ]
     },
     "execution_count": 30,
     "metadata": {},
     "output_type": "execute_result"
    },
    {
     "data": {
      "image/png": "[encoded data removed]",
      "text/plain": [
       "<Figure size 432x288 with 2 Axes>"
      ]
     },
     "metadata": {
      "needs_background": "light"
     },
     "output_type": "display_data"
    }
   ],
   "source": [
    "sns.heatmap(sev_df[['C_SEV', 'C_PERS']].corr(), annot=True)"
   ]
  },
  {
   "cell_type": "markdown",
   "id": "97b6ee8d",
   "metadata": {},
   "source": [
    "Observamos como no tienen una correlación que pueda perjudicar al modelo. "
   ]
  },
  {
   "cell_type": "markdown",
   "id": "e8a90de4",
   "metadata": {},
   "source": [
    "Ahora observamos sus principales características:"
   ]
  },
  {
   "cell_type": "code",
   "execution_count": 31,
   "id": "747221d5",
   "metadata": {},
   "outputs": [
    {
     "data": {
      "text/plain": [
       "count    1791038.00000\n",
       "mean           2.93026\n",
       "std            2.57987\n",
       "min            1.00000\n",
       "25%            1.00000\n",
       "50%            2.00000\n",
       "75%            4.00000\n",
       "max          123.00000\n",
       "Name: C_PERS, dtype: object"
      ]
     },
     "execution_count": 31,
     "metadata": {},
     "output_type": "execute_result"
    }
   ],
   "source": [
    "sev_df['C_PERS'].describe().apply(lambda x: '%.5f' % x)"
   ]
  },
  {
   "cell_type": "markdown",
   "id": "8834b576",
   "metadata": {},
   "source": [
    "Observamos como los datos oscilan entre 1 a 4 personas involucradas en un accidente, siendo 3 personas aproximadamente la media de personas involucradas por accidente. Se observa un valor máximo muy elevado, que puede corresponder a un accidente múltiple. \n",
    "\n",
    "Analizamos visualmente en  busca de outliers:"
   ]
  },
  {
   "cell_type": "code",
   "execution_count": 32,
   "id": "62d5540d",
   "metadata": {},
   "outputs": [
    {
     "data": {
      "text/plain": [
       "<AxesSubplot:>"
      ]
     },
     "execution_count": 32,
     "metadata": {},
     "output_type": "execute_result"
    },
    {
     "data": {
      "image/png": "[encoded data removed]",
      "text/plain": [
       "<Figure size 432x288 with 1 Axes>"
      ]
     },
     "metadata": {
      "needs_background": "light"
     },
     "output_type": "display_data"
    }
   ],
   "source": [
    "sns.boxplot(data=sev_df[['C_PERS']], orient=\"h\")"
   ]
  },
  {
   "cell_type": "markdown",
   "id": "97421c45",
   "metadata": {},
   "source": [
    "Se observan varios accidentes que sobresalen de los valores medios, algunos de ellos bastante llamativos."
   ]
  },
  {
   "cell_type": "markdown",
   "id": "b7ef3f31",
   "metadata": {},
   "source": [
    "### 2.3.4 Variables categóricas\n",
    "Realizamos un análisis de las variables categóricas del modelo. Destacamos el cambio realizado a las mismas anteriormente y procedemos a visualizar el resultado de esta reducción de categorías."
   ]
  },
  {
   "cell_type": "code",
   "execution_count": 33,
   "id": "e720d245",
   "metadata": {},
   "outputs": [
    {
     "data": {
      "image/png": "[encoded data removed]",
      "text/plain": [
       "<Figure size 1080x2520 with 10 Axes>"
      ]
     },
     "metadata": {
      "needs_background": "light"
     },
     "output_type": "display_data"
    }
   ],
   "source": [
    "categorical = ['C_MNTH', 'C_WDAY', 'C_HOUR', 'C_CONF', \n",
    "               'C_RCFG', 'C_WTHR', 'C_RSUR', 'C_RALN', \n",
    "               'C_TRAF']\n",
    "\n",
    "fig, axes = plt.subplots(5, 2, figsize=(15, 35), sharey=False)\n",
    "fig.suptitle('Categorial Values by Severity (normalized)')\n",
    "\n",
    "i = 0\n",
    "j = 0\n",
    "for cat in categorical:\n",
    "    temp = eda_tools.norm_category(df = sev_df, obj_val = 'C_SEV', cat_val = cat)\n",
    "    sns.barplot(data = temp, x = cat, y = 'group%', hue = 'C_SEV', ax = axes[i,j]);\n",
    "    if (j == 0): \n",
    "        j = 1\n",
    "    else:\n",
    "        j = 0\n",
    "        i += 1"
   ]
  },
  {
   "cell_type": "markdown",
   "id": "d1d8283b",
   "metadata": {},
   "source": [
    "EXPLICAR UN POCO QUE SE VE Y PROPUESTAS DE ENCODING "
   ]
  },
  {
   "cell_type": "markdown",
   "id": "2a49c1c8",
   "metadata": {},
   "source": [
    "## 2.4 Conclusiones"
   ]
  },
  {
   "cell_type": "markdown",
   "id": "6ebcb47b",
   "metadata": {},
   "source": [
    "SEGUIR EL FORMATO DE LAS CONCLUSIONES GENERALES DEL EDA\n",
    "1. VARIABLE OBJETIVO (DESBALANCEO,...)\n",
    "2. VARIABLE NUMÉRICA (RELACIÓN CON OTRAS VARIABLES, OUTILIERS, ...)\n",
    "3. VARIABLE CATEGÓRICA (ENCODING, UTILIDAD, ...)"
   ]
  },
  {
   "cell_type": "markdown",
   "id": "fd56757f",
   "metadata": {},
   "source": [
    "---"
   ]
  },
  {
   "cell_type": "markdown",
   "id": "0b2c81ce",
   "metadata": {},
   "source": [
    "<div style='text-align:center'>Elaborado por Álvaro Serrano del Rincón (<i>a.serranodelrincon@cunef.edu</i>)</div> \n",
    "<div style='text-align:center'>y Carlos Viñals Guitart (<i>carlos.vinals@cunef.edu</i>)</div> "
   ]
  }
 ],
 "metadata": {
  "kernelspec": {
   "display_name": "Python [conda env:ML_P1]",
   "language": "python",
   "name": "conda-env-ML_P1-py"
  },
  "language_info": {
   "codemirror_mode": {
    "name": "ipython",
    "version": 3
   },
   "file_extension": ".py",
   "mimetype": "text/x-python",
   "name": "python",
   "nbconvert_exporter": "python",
   "pygments_lexer": "ipython3",
   "version": "3.9.7"
  }
 },
 "nbformat": 4,
 "nbformat_minor": 5
}
