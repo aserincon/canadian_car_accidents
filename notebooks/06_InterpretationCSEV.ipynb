{
 "cells": [
  {
   "cell_type": "markdown",
   "id": "12d2babb",
   "metadata": {},
   "source": [
    "<p align=\"center\">\n",
    "    <!--If notebook is in folder notebooks change scr by \"../images/logo.png\"-->\n",
    "  <img width=\"100\" height=\"100\" src=\"../../images/logo.png\">\n",
    "</p>"
   ]
  },
  {
   "cell_type": "markdown",
   "id": "c0b39481",
   "metadata": {},
   "source": [
    "<div>\n",
    "<h1>0X. Template</h1> \n",
    "\n",
    "Canadian Car Accidents Practice <br>\n",
    "<strong>Aprendizaje Automático</strong> <br>\n",
    "<strong>Master Universitario en Ciencia de Datos</strong>\n",
    "</div>"
   ]
  },
  {
   "cell_type": "markdown",
   "id": "e96bed03",
   "metadata": {},
   "source": [
    "<div style='text-align:right'>Álvaro Serrano del Rincón (<i>a.serranodelrincon@cunef.edu</i>)</div>\n",
    "<div style='text-align:right'>Carlos Viñals Guitart (<i>carlos.vinals@cunef.edu</i>)</div>"
   ]
  },
  {
   "cell_type": "markdown",
   "id": "3420292a",
   "metadata": {},
   "source": [
    "---\n"
   ]
  },
  {
   "cell_type": "markdown",
   "id": "75d33bed",
   "metadata": {},
   "source": [
    "## X.0 Introducción\n",
    "\n",
    "< EXPLICACIÓN DEL CONTENIDO DEL NOTEBOOK>\n",
    "\n",
    "Para este trabajo estamos utilizando un entorno de propósito espécifico."
   ]
  },
  {
   "cell_type": "code",
   "execution_count": 4,
   "id": "adac98eb",
   "metadata": {},
   "outputs": [
    {
     "name": "stdout",
     "output_type": "stream",
     "text": [
      "\n",
      "     active environment : ML_P1\n",
      "    active env location : C:\\Users\\carviagu\\anaconda3\\envs\\ML_P1\n",
      "            shell level : 2\n",
      "       user config file : C:\\Users\\carviagu\\.condarc\n",
      " populated config files : \n",
      "          conda version : 4.10.3\n",
      "    conda-build version : 3.21.4\n",
      "         python version : 3.8.8.final.0\n",
      "       virtual packages : __cuda=11.3=0\n",
      "                          __win=0=0\n",
      "                          __archspec=1=x86_64\n",
      "       base environment : C:\\Users\\carviagu\\anaconda3  (writable)\n",
      "      conda av data dir : C:\\Users\\carviagu\\anaconda3\\etc\\conda\n",
      "  conda av metadata url : None\n",
      "           channel URLs : https://repo.anaconda.com/pkgs/main/win-64\n",
      "                          https://repo.anaconda.com/pkgs/main/noarch\n",
      "                          https://repo.anaconda.com/pkgs/r/win-64\n",
      "                          https://repo.anaconda.com/pkgs/r/noarch\n",
      "                          https://repo.anaconda.com/pkgs/msys2/win-64\n",
      "                          https://repo.anaconda.com/pkgs/msys2/noarch\n",
      "          package cache : C:\\Users\\carviagu\\anaconda3\\pkgs\n",
      "                          C:\\Users\\carviagu\\.conda\\pkgs\n",
      "                          C:\\Users\\carviagu\\AppData\\Local\\conda\\conda\\pkgs\n",
      "       envs directories : C:\\Users\\carviagu\\anaconda3\\envs\n",
      "                          C:\\Users\\carviagu\\.conda\\envs\n",
      "                          C:\\Users\\carviagu\\AppData\\Local\\conda\\conda\\envs\n",
      "               platform : win-64\n",
      "             user-agent : conda/4.10.3 requests/2.25.1 CPython/3.8.8 Windows/10 Windows/10.0.19041\n",
      "          administrator : False\n",
      "             netrc file : None\n",
      "           offline mode : False\n",
      "\n"
     ]
    }
   ],
   "source": [
    "!conda info"
   ]
  },
  {
   "cell_type": "markdown",
   "id": "21e94544",
   "metadata": {},
   "source": [
    "< AÑADIR SUBSECCIÓN CON ESTRUCTURA >"
   ]
  },
  {
   "cell_type": "markdown",
   "id": "b5c776d7",
   "metadata": {},
   "source": [
    "# 6.1. Introducción\n",
    "La interpretabilidad es una parte fundamental de cualquier modelo de Machine Learning, de cara a poder poner en producción los modelos desarrollados. Existen fundamentalmente (y a muy grandes rasgos) dos clases de modelos de predicción, por lo menos en lo que a interpretabilidad se refiere:\n",
    "\n",
    "* **Modelos lineales.** Tienen una interpretación más sencilla, pues los propios coeficientes indican tanto el peso como el signo, que indican cómo es el impacto de la variable. Además, también se realizan contrastes de significatividad, tanto a nivel individual como conjunto. \n",
    "* **Modelos no lineales.** Su interpretación es más compleja, pues requiere de unos cálculos adicionales a fin de determinar la importancia de cada variable en el modelo. \n",
    "\n",
    "Para la solución del caso planteado, se ha planteado un modelo **no lineal**, por lo que será necesario plantear una interpretación del mismo."
   ]
  },
  {
   "cell_type": "markdown",
   "id": "cec9ca7e",
   "metadata": {},
   "source": [
    "# 6.2. SHAP (SHapley Additive exPlanations)"
   ]
  },
  {
   "cell_type": "markdown",
   "id": "52d83483",
   "metadata": {},
   "source": [
    "El método seleccionado para explicar el modelo en cuestión es el SHAP (SHapley Additive exPlanations). Dicho método parte de **Shapley Values**, que es un modelo de redistribución de la riqueza, dentro de la **teoría de juegos cooperativos**. "
   ]
  },
  {
   "cell_type": "markdown",
   "id": "2cc2fe42",
   "metadata": {},
   "source": [
    "## 6.2.1. Shapley Values"
   ]
  },
  {
   "cell_type": "markdown",
   "id": "e4e5ff9c",
   "metadata": {},
   "source": [
    "No obstante, y antes de proceder a realizar los cálculos de interpretabilidad, sería necesario comprender la teoría de juegos sobre la que se basa el método. \n",
    "\n",
    "**Shapley Values** es un modelo de distribución de la riqueza dentro de la teoría de juegos. La **teoría de juegos** (o Game theory) trata de explicar las decisiones que toman unos individuos a fin de maximizar sus propios intereses dentro de una estructura formalizada de incentivos y penalizaciones, y estas estructuras son llamadas \"juegos\". En este caso, el modelo de valores de Shapley se aplica únicamente a los llamados \"juegos cooperativos\", es decir, aquellos en los que los participantes colaboran entre sí a fin de obtener una recompensa. \n",
    "\n",
    "El modelo funciona de la siguiente manera: la riqueza se redistribuirá entre los jugadores en función de la aportación que haya hecho cada uno de ellos para poder solucionar el problema. Así, el jugador que más haya aportado a llegar a la solución, se llevará una mayor parte de la recompensa total. \n",
    "\n",
    "Ahora bien, dicho modelo llevado al ámbito de machine learning implica ciertos cambios: el **juego** sería el propio modelo de machine learning en sí, los **\"jugadores\"** se identificarían con las **variables explicativas** y la **recompensa** sería la diferencia entre el modelo estimado con y sin esa variable, es decir, el valor adicional que aporta esa variable al modelo, premiando de esa manera el poder discriminatorio de cada variable. \n",
    "\n",
    "La función de reparto de la riqueza se define de la siguiente forma:"
   ]
  },
  {
   "cell_type": "markdown",
   "id": "25b7837d",
   "metadata": {},
   "source": [
    "<math xmlns=\"http://www.w3.org/1998/Math/MathML\" display=\"block\">\n",
    "  <msub>\n",
    "    <mi>&#x03D5;<!-- ϕ --></mi>\n",
    "    <mi>j</mi>\n",
    "  </msub>\n",
    "  <mo stretchy=\"false\">(</mo>\n",
    "  <mi>v</mi>\n",
    "  <mi>a</mi>\n",
    "  <mi>l</mi>\n",
    "  <mo stretchy=\"false\">)</mo>\n",
    "  <mo>=</mo>\n",
    "  <munder>\n",
    "    <mo>&#x2211;<!-- ∑ --></mo>\n",
    "    <mrow class=\"MJX-TeXAtom-ORD\">\n",
    "      <mi>S</mi>\n",
    "      <mo>&#x2286;<!-- ⊆ --></mo>\n",
    "      <mo fence=\"false\" stretchy=\"false\">{</mo>\n",
    "      <mn>1</mn>\n",
    "      <mo>,</mo>\n",
    "      <mo>&#x2026;<!-- … --></mo>\n",
    "      <mo>,</mo>\n",
    "      <mi>p</mi>\n",
    "      <mo fence=\"false\" stretchy=\"false\">}</mo>\n",
    "      <mo class=\"MJX-variant\">&#x2216;<!-- ∖ --></mo>\n",
    "      <mo fence=\"false\" stretchy=\"false\">{</mo>\n",
    "      <mi>j</mi>\n",
    "      <mo fence=\"false\" stretchy=\"false\">}</mo>\n",
    "    </mrow>\n",
    "  </munder>\n",
    "  <mfrac>\n",
    "    <mrow>\n",
    "      <mrow class=\"MJX-TeXAtom-ORD\">\n",
    "        <mo stretchy=\"false\">|</mo>\n",
    "      </mrow>\n",
    "      <mi>S</mi>\n",
    "      <mrow class=\"MJX-TeXAtom-ORD\">\n",
    "        <mo stretchy=\"false\">|</mo>\n",
    "      </mrow>\n",
    "      <mo>!</mo>\n",
    "      <mrow>\n",
    "        <mo>(</mo>\n",
    "        <mrow>\n",
    "          <mi>p</mi>\n",
    "          <mo>&#x2212;<!-- − --></mo>\n",
    "          <mrow class=\"MJX-TeXAtom-ORD\">\n",
    "            <mo stretchy=\"false\">|</mo>\n",
    "          </mrow>\n",
    "          <mi>S</mi>\n",
    "          <mrow class=\"MJX-TeXAtom-ORD\">\n",
    "            <mo stretchy=\"false\">|</mo>\n",
    "          </mrow>\n",
    "          <mo>&#x2212;<!-- − --></mo>\n",
    "          <mn>1</mn>\n",
    "        </mrow>\n",
    "        <mo>)</mo>\n",
    "      </mrow>\n",
    "      <mo>!</mo>\n",
    "    </mrow>\n",
    "    <mrow>\n",
    "      <mi>p</mi>\n",
    "      <mo>!</mo>\n",
    "    </mrow>\n",
    "  </mfrac>\n",
    "  <mrow>\n",
    "    <mo>(</mo>\n",
    "    <mrow>\n",
    "      <mi>v</mi>\n",
    "      <mi>a</mi>\n",
    "      <mi>l</mi>\n",
    "      <mrow>\n",
    "        <mo>(</mo>\n",
    "        <mrow>\n",
    "          <mi>S</mi>\n",
    "          <mo>&#x222A;<!-- ∪ --></mo>\n",
    "          <mo fence=\"false\" stretchy=\"false\">{</mo>\n",
    "          <mi>j</mi>\n",
    "          <mo fence=\"false\" stretchy=\"false\">}</mo>\n",
    "        </mrow>\n",
    "        <mo>)</mo>\n",
    "      </mrow>\n",
    "      <mo>&#x2212;<!-- − --></mo>\n",
    "      <mi>v</mi>\n",
    "      <mi>a</mi>\n",
    "      <mi>l</mi>\n",
    "      <mo stretchy=\"false\">(</mo>\n",
    "      <mi>S</mi>\n",
    "      <mo stretchy=\"false\">)</mo>\n",
    "    </mrow>\n",
    "    <mo>)</mo>\n",
    "  </mrow>\n",
    "</math>"
   ]
  },
  {
   "cell_type": "markdown",
   "id": "247e75b6",
   "metadata": {},
   "source": [
    "* Donde ```ϕj val``` define el valor para la variable j en S. Suma y pondera todas las combinaciones posibles de valor de la variable.\n",
    "* ```S```. Es el set de variables empleadas en el modelo. \n",
    "* ```p```. Es el número de variables del modelo\n",
    "* ```S ∪ { j } ) − v a l ( S )```. Es el valor adicional que aporta la variable j al conjunto de variables S. "
   ]
  },
  {
   "cell_type": "markdown",
   "id": "2601aa6d",
   "metadata": {},
   "source": [
    "Además, el método de distribución de la riqueza de los **valores de Shapley** es el único que satisface las propiedades de \n",
    "* **Eficiencia**. Las contribuciones de cada variable se deben añadir a la diferencia entre la predicción para x y la media. \n",
    "* **Simetría**. Las contribuciones de cada variable han de ser iguales en caso de que aporten lo mismo las posibles combinaciones del modelo. \n",
    "* **Dummy**. Una variable que no cambie la predicción del modelo (teniendo en cuenta todas las combinaciones posibles), tendrá un Shapley Value de 0.\n",
    "* **Aditividad**. Los valores de ganancia de cada variable son aditivos, y también se aplica en lo relativo a árboles de decisión, lo que resulta en que unos árboles tienen más valor que otros. "
   ]
  },
  {
   "cell_type": "markdown",
   "id": "761b2e61",
   "metadata": {},
   "source": [
    "## 6.2.2 SHAP: basado en Shapley Values"
   ]
  },
  {
   "cell_type": "markdown",
   "id": "1fe21930",
   "metadata": {},
   "source": [
    "El método SHAP procura explicar la predicción de una variable x, computando la contribución de cada variable a la hora de realizar la predicción. Si bien, SHAP se representa como un modelo aditivo, por lo que es lineal, de manera que conecta el modelo LIME con Shapley Values. \n",
    "\n",
    "El modelo SHAP tiene una serie de propiedades:\n",
    "\n",
    "* **Precisión local**. Se cumple la propiedad de eficiencia de Shapley Values.\n",
    "* **Ausencia de variable**. Una variable ausente recibe el valor de 0. \n",
    "* **Consistencia**. Si el modelo cambia la contribución marginal de una variable, su retribución también variará en la misma medida. "
   ]
  },
  {
   "cell_type": "markdown",
   "id": "be188598",
   "metadata": {},
   "source": [
    "## Librerías"
   ]
  },
  {
   "cell_type": "code",
   "execution_count": null,
   "id": "90a0ba0e",
   "metadata": {},
   "outputs": [],
   "source": [
    "# IMPORTAR LIBRERÍAS\n",
    "import shap \n",
    "\n",
    "# load JS visualization code to notebook\n",
    "shap.initjs()"
   ]
  },
  {
   "cell_type": "markdown",
   "id": "a93b00eb",
   "metadata": {},
   "source": [
    "## Código"
   ]
  },
  {
   "cell_type": "code",
   "execution_count": null,
   "id": "4cdee930",
   "metadata": {},
   "outputs": [],
   "source": [
    "explainer = shap.TreeExplainer(CV.best_estimator_.named_steps['classifier'])"
   ]
  },
  {
   "cell_type": "code",
   "execution_count": null,
   "id": "3c10b813",
   "metadata": {},
   "outputs": [],
   "source": [
    "preprocessor = rf.named_steps[\"preprocessor\"]"
   ]
  },
  {
   "cell_type": "code",
   "execution_count": null,
   "id": "34d22ac2",
   "metadata": {},
   "outputs": [],
   "source": [
    "import warnings\n",
    "\n",
    "def get_feature_names(column_transformer):\n",
    "    \"\"\"Get feature names from all transformers.\n",
    "    Returns\n",
    "    -------\n",
    "    feature_names : list of strings\n",
    "        Names of the features produced by transform.\n",
    "    \"\"\"\n",
    "    # Remove the internal helper function\n",
    "    #check_is_fitted(column_transformer)\n",
    "    \n",
    "    # Turn loopkup into function for better handling with pipeline later\n",
    "    def get_names(trans):\n",
    "        # >> Original get_feature_names() method\n",
    "        if trans == 'drop' or (\n",
    "                hasattr(column, '__len__') and not len(column)):\n",
    "            return []\n",
    "        if trans == 'passthrough':\n",
    "            if hasattr(column_transformer, '_df_columns'):\n",
    "                if ((not isinstance(column, slice))\n",
    "                        and all(isinstance(col, str) for col in column)):\n",
    "                    return column\n",
    "                else:\n",
    "                    return column_transformer._df_columns[column]\n",
    "            else:\n",
    "                indices = np.arange(column_transformer._n_features)\n",
    "                return ['x%d' % i for i in indices[column]]\n",
    "        if not hasattr(trans, 'get_feature_names'):\n",
    "        # >>> Change: Return input column names if no method avaiable\n",
    "            # Turn error into a warning\n",
    "            warnings.warn(\"Transformer %s (type %s) does not \"\n",
    "                                 \"provide get_feature_names. \"\n",
    "                                 \"Will return input column names if available\"\n",
    "                                 % (str(name), type(trans).__name__))\n",
    "            # For transformers without a get_features_names method, use the input\n",
    "            # names to the column transformer\n",
    "            if column is None:\n",
    "                return []\n",
    "            else:\n",
    "                return [name + \"__\" + f for f in column]\n",
    "\n",
    "        return [name + \"__\" + f for f in trans.get_feature_names()]\n",
    "    \n",
    "    ### Start of processing\n",
    "    feature_names = []\n",
    "    \n",
    "    # Allow transformers to be pipelines. Pipeline steps are named differently, so preprocessing is needed\n",
    "    if type(column_transformer) == sklearn.pipeline.Pipeline:\n",
    "        l_transformers = [(name, trans, None, None) for step, name, trans in column_transformer._iter()]\n",
    "    else:\n",
    "        # For column transformers, follow the original method\n",
    "        l_transformers = list(column_transformer._iter(fitted=True))\n",
    "    \n",
    "    \n",
    "    for name, trans, column, _ in l_transformers: \n",
    "        if type(trans) == sklearn.pipeline.Pipeline:\n",
    "            # Recursive call on pipeline\n",
    "            _names = get_feature_names(trans)\n",
    "            # if pipeline has no transformer that returns names\n",
    "            if len(_names)==0:\n",
    "                _names = [name + \"__\" + f for f in column]\n",
    "            feature_names.extend(_names)\n",
    "        else:\n",
    "            feature_names.extend(get_names(trans))\n",
    "    \n",
    "    return feature_names"
   ]
  },
  {
   "cell_type": "code",
   "execution_count": null,
   "id": "f8f69c32",
   "metadata": {},
   "outputs": [],
   "source": [
    "all_columns = get_feature_names(preprocessor)"
   ]
  },
  {
   "cell_type": "code",
   "execution_count": null,
   "id": "d7ea61a7",
   "metadata": {},
   "outputs": [],
   "source": [
    "len(all_columns)"
   ]
  },
  {
   "cell_type": "code",
   "execution_count": null,
   "id": "6f5d8fe7",
   "metadata": {},
   "outputs": [],
   "source": [
    "test_data = pd.DataFrame.sparse.from_spmatrix(rf['preprocessor'].transform(xtest))"
   ]
  },
  {
   "cell_type": "code",
   "execution_count": null,
   "id": "29129aae",
   "metadata": {},
   "outputs": [],
   "source": [
    "test_data.columns = all_columns"
   ]
  },
  {
   "cell_type": "code",
   "execution_count": null,
   "id": "ab79db38",
   "metadata": {},
   "outputs": [],
   "source": [
    "test_data.head()"
   ]
  },
  {
   "cell_type": "code",
   "execution_count": null,
   "id": "a9c71eab",
   "metadata": {},
   "outputs": [],
   "source": [
    "shap_values = explainer.shap_values(test_data)"
   ]
  },
  {
   "cell_type": "code",
   "execution_count": null,
   "id": "8f6bfda0",
   "metadata": {},
   "outputs": [],
   "source": [
    "test_data.iloc[0,:]"
   ]
  },
  {
   "cell_type": "code",
   "execution_count": null,
   "id": "2412769a",
   "metadata": {},
   "outputs": [],
   "source": [
    "len(shap_values[0][0])"
   ]
  },
  {
   "cell_type": "code",
   "execution_count": null,
   "id": "722741e8",
   "metadata": {},
   "outputs": [],
   "source": [
    "# visualize the first prediction's explanation (use matplotlib=True to avoid Javascript)\n",
    "shap.force_plot(explainer.expected_value[0], shap_values[0][0], test_data.iloc[0,:])"
   ]
  },
  {
   "cell_type": "code",
   "execution_count": null,
   "id": "7966453d",
   "metadata": {},
   "outputs": [],
   "source": [
    "shap.force_plot(explainer.expected_value[0], shap_values[0][:100,:], features=test_data.iloc[:100, :])"
   ]
  },
  {
   "cell_type": "code",
   "execution_count": null,
   "id": "fab1d134",
   "metadata": {},
   "outputs": [],
   "source": [
    "# summarize the effects of all the features\n",
    "shap.summary_plot(shap_values, test_data)"
   ]
  },
  {
   "cell_type": "code",
   "execution_count": null,
   "id": "87d2cd8f",
   "metadata": {},
   "outputs": [],
   "source": [
    "shap.summary_plot(shap_values[0], features=test_data, max_display=10)"
   ]
  },
  {
   "cell_type": "code",
   "execution_count": null,
   "id": "e82e63f1",
   "metadata": {},
   "outputs": [],
   "source": []
  },
  {
   "cell_type": "code",
   "execution_count": null,
   "id": "bb902ddb",
   "metadata": {},
   "outputs": [],
   "source": []
  },
  {
   "cell_type": "markdown",
   "id": "7a7c39a1",
   "metadata": {},
   "source": [
    "## Scripts"
   ]
  },
  {
   "cell_type": "code",
   "execution_count": null,
   "id": "6ae03c5e",
   "metadata": {},
   "outputs": [],
   "source": [
    "# SI LOS HUBIERA"
   ]
  },
  {
   "cell_type": "markdown",
   "id": "6d4d93f1",
   "metadata": {},
   "source": [
    "## X.1 Capítulo 1"
   ]
  },
  {
   "cell_type": "code",
   "execution_count": null,
   "id": "d6b361a8",
   "metadata": {},
   "outputs": [],
   "source": []
  },
  {
   "cell_type": "markdown",
   "id": "fd56757f",
   "metadata": {},
   "source": [
    "---"
   ]
  },
  {
   "cell_type": "markdown",
   "id": "0b2c81ce",
   "metadata": {},
   "source": [
    "<div style='text-align:center'>Elaborado por Álvaro Serrano del Rincón (<i>a.serranodelrincon@cunef.edu</i>)</div> \n",
    "<div style='text-align:center'>y Carlos Viñals Guitart (<i>carlos.vinals@cunef.edu</i>)</div> "
   ]
  }
 ],
 "metadata": {
  "kernelspec": {
   "display_name": "Python [conda env:ML_P1]",
   "language": "python",
   "name": "conda-env-ML_P1-py"
  },
  "language_info": {
   "codemirror_mode": {
    "name": "ipython",
    "version": 3
   },
   "file_extension": ".py",
   "mimetype": "text/x-python",
   "name": "python",
   "nbconvert_exporter": "python",
   "pygments_lexer": "ipython3",
   "version": "3.9.7"
  }
 },
 "nbformat": 4,
 "nbformat_minor": 5
}
