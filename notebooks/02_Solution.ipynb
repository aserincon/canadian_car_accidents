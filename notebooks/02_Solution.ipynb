{
 "cells": [
  {
   "cell_type": "markdown",
   "id": "12d2babb",
   "metadata": {},
   "source": [
    "<p align=\"center\">\n",
    "    <!--If notebook is in folder notebooks change scr by \"../images/logo.png\"-->\n",
    "  <img width=\"100\" height=\"100\" src=\"../images/logo.png\">\n",
    "</p>"
   ]
  },
  {
   "cell_type": "markdown",
   "id": "c0b39481",
   "metadata": {},
   "source": [
    "<div>\n",
    "<h1>02. Solución al Problema</h1> \n",
    "\n",
    "Canadian Car Accidents Practice <br>\n",
    "<strong>Aprendizaje Automático</strong> <br>\n",
    "<strong>Master Universitario en Ciencia de Datos</strong>\n",
    "</div>"
   ]
  },
  {
   "cell_type": "markdown",
   "id": "e96bed03",
   "metadata": {},
   "source": [
    "<div style='text-align:right'>Álvaro Serrano del Rincón (<i>a.serranodelrincon@cunef.edu</i>)</div>\n",
    "<div style='text-align:right'>Carlos Viñals Guitart (<i>carlos.vinals@cunef.edu</i>)</div>"
   ]
  },
  {
   "cell_type": "markdown",
   "id": "3420292a",
   "metadata": {},
   "source": [
    "---\n"
   ]
  },
  {
   "cell_type": "markdown",
   "id": "75d33bed",
   "metadata": {},
   "source": [
    "## 2.0 Introducción\n",
    "\n",
    "En este notebook procederemos a explicar la solución que hemos determinado a partir del análisis EDA realizado previamente y los objetivos de negocio establecidos al inicio de este trabajo."
   ]
  },
  {
   "cell_type": "markdown",
   "id": "6d4d93f1",
   "metadata": {},
   "source": [
    "## 2.1 Problema\n",
    "\n",
    "Como se comentó en la introducción el objetivo de negocio persigue anticiparse a las contingencias que pueden generar los accidentes de tráfico sobre los seguros a sus clientes. Es decir, poder determinar el capital a inmovilizar con el objetivo de hacer frente a estos problemas y determinar precios razonables a las primas de los seguros ofrecidos a los clientes.\n",
    "\n",
    "Es por ello que se definen dos ideas generales:\n",
    "1. Establecer un modelo que determine si en un accidente pueden haber o no fallecimientos.\n",
    "2. Establecer un modelo que determine si va a ser necesario un tratamiento médico dada una persona en un accidente.\n",
    "\n",
    "Para resolver estas dos ideas proponemos el desarrollo de dos modelos distintos en función de los datos que se tienen. Estos modelos se presentan conceptualmente a continuación."
   ]
  },
  {
   "cell_type": "markdown",
   "id": "9b5c92f7",
   "metadata": {},
   "source": [
    "## 2.2 Predecir fallecimientos\n",
    "Para este problema buscamos elaborar un modelo que permite precedir si se producirán o no fallecimientos dado un accidente. Como se comentá en el EDA los datos están enfocados a nivel de persona, de tal forma que se tienen datos de personas en un accidente. \n",
    "\n",
    "Es por ello que este modelo propone prescindir de la información detallada sobre las personas y los vehículos, pues solo requiere de información general sobre el accidente. \n",
    "\n",
    "Si utilizaramos los datos tal cual se encuentran en el dataset, estaríamos dando al modelo varias filas que representan el mismo accidente, pero que cada una posee datos distintos de cada una de las personas. Tal y como hemos observado en el EDA. Tiene más sentido dar al modelo solo datos del accidente en general, y en su caso crear información agregada a partir de la información que se tiene de las personas involucradas en el accidente.\n",
    "\n",
    "En conclusión, el modelo busca predecir la viriable ```C_SEV``` que indica la existencia de almenos un fallecido en el accidente. Por lo tanto proporcionaremos información general del accidente y agregada de los detalles que se conocen del mismo. En cuando a la información agregada se considera que resulta interesante el número de personas involucradas y la edad media de estas. "
   ]
  },
  {
   "cell_type": "markdown",
   "id": "70bec310",
   "metadata": {},
   "source": [
    "## 2.3 Predecir necesidad de tratamiento médico\n",
    "Para este problema buscamos conocer si una persona en un accidente requerirá o no de un tratamiendo médico. Para ello necesitamos conocer no solo los datos del accidente a nivel general, sino, más detalles sobre la persona en ese accidente. \n",
    "\n",
    "En este caso el dataset proporciona una información muy detallada sobre la persona en este accidente, y por lo tanto son idóneos para poder determinar si habrá necesidad de tratamiento médico o no. \n",
    "\n",
    "Este modelo predecirá la variable ```P_ISEV``` que indica el estado de esa persona después del accidente, pudiendo ser ileso, herido o fallecido. Asumiendo que si se está herido se requiere de un tratamiento médico y eliminando los datos referentes a fallecidos, podemos elaborar un modelo. "
   ]
  },
  {
   "cell_type": "markdown",
   "id": "5c5fb3d9",
   "metadata": {},
   "source": [
    "Puede observarse a continuación un dibujo esquema de los datos que alimentaran ambos modelos:\n",
    "<p align=\"center\">\n",
    "  <img width=\"700\" height=\"700\" src=\"../images/models.png\">\n",
    "</p>"
   ]
  },
  {
   "cell_type": "markdown",
   "id": "fd56757f",
   "metadata": {},
   "source": [
    "---"
   ]
  },
  {
   "cell_type": "markdown",
   "id": "0b2c81ce",
   "metadata": {},
   "source": [
    "<div style='text-align:center'>Elaborado por Álvaro Serrano del Rincón (<i>a.serranodelrincon@cunef.edu</i>)</div> \n",
    "<div style='text-align:center'>y Carlos Viñals Guitart (<i>carlos.vinals@cunef.edu</i>)</div> "
   ]
  }
 ],
 "metadata": {
  "kernelspec": {
   "display_name": "Python [conda env:ML_P1]",
   "language": "python",
   "name": "conda-env-ML_P1-py"
  },
  "language_info": {
   "codemirror_mode": {
    "name": "ipython",
    "version": 3
   },
   "file_extension": ".py",
   "mimetype": "text/x-python",
   "name": "python",
   "nbconvert_exporter": "python",
   "pygments_lexer": "ipython3",
   "version": "3.9.7"
  }
 },
 "nbformat": 4,
 "nbformat_minor": 5
}
