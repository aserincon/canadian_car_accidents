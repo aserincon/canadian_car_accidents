{
 "cells": [
  {
   "cell_type": "markdown",
   "id": "12d2babb",
   "metadata": {},
   "source": [
    "<p align=\"center\">\n",
    "    <!--If notebook is in folder notebooks change scr by \"../images/logo.png\"-->\n",
    "  <img width=\"100\" height=\"100\" src=\"../images/logo.png\">\n",
    "</p>"
   ]
  },
  {
   "cell_type": "markdown",
   "id": "c0b39481",
   "metadata": {},
   "source": [
    "<div>\n",
    "<h1>04. Modelos C_SEV</h1> \n",
    "\n",
    "Canadian Car Accidents Practice <br>\n",
    "<strong>Aprendizaje Automático</strong> <br>\n",
    "<strong>Master Universitario en Ciencia de Datos</strong>\n",
    "</div>"
   ]
  },
  {
   "cell_type": "markdown",
   "id": "e96bed03",
   "metadata": {},
   "source": [
    "<div style='text-align:right'>Álvaro Serrano del Rincón (<i>a.serranodelrincon@cunef.edu</i>)</div>\n",
    "<div style='text-align:right'>Carlos Viñals Guitart (<i>carlos.vinals@cunef.edu</i>)</div>"
   ]
  },
  {
   "cell_type": "markdown",
   "id": "3420292a",
   "metadata": {},
   "source": [
    "---\n"
   ]
  },
  {
   "cell_type": "markdown",
   "id": "75d33bed",
   "metadata": {},
   "source": [
    "## 4.0 Introducción\n",
    "\n",
    "En este notebook creamos distintos modelos y realizamos una evaluación de los mismos con el objetivo de encontrar el que mejor permita clasificar los accidentes. \n",
    "\n",
    "Para este trabajo estamos utilizando un entorno de propósito espécifico."
   ]
  },
  {
   "cell_type": "code",
   "execution_count": 1,
   "id": "adac98eb",
   "metadata": {},
   "outputs": [
    {
     "name": "stdout",
     "output_type": "stream",
     "text": [
      "\n",
      "     active environment : ML_P1\n",
      "    active env location : C:\\Users\\Alvaro\\anaconda3\\envs\\ML_P1\n",
      "            shell level : 2\n",
      "       user config file : C:\\Users\\Alvaro\\.condarc\n",
      " populated config files : C:\\Users\\Alvaro\\.condarc\n",
      "          conda version : 4.10.3\n",
      "    conda-build version : 3.21.5\n",
      "         python version : 3.8.12.final.0\n",
      "       virtual packages : __win=0=0\n",
      "                          __archspec=1=x86_64\n",
      "       base environment : C:\\Users\\Alvaro\\anaconda3  (writable)\n",
      "      conda av data dir : C:\\Users\\Alvaro\\anaconda3\\etc\\conda\n",
      "  conda av metadata url : None\n",
      "           channel URLs : https://repo.anaconda.com/pkgs/main/win-64\n",
      "                          https://repo.anaconda.com/pkgs/main/noarch\n",
      "                          https://repo.anaconda.com/pkgs/r/win-64\n",
      "                          https://repo.anaconda.com/pkgs/r/noarch\n",
      "                          https://repo.anaconda.com/pkgs/msys2/win-64\n",
      "                          https://repo.anaconda.com/pkgs/msys2/noarch\n",
      "          package cache : C:\\Users\\Alvaro\\anaconda3\\pkgs\n",
      "                          C:\\Users\\Alvaro\\.conda\\pkgs\n",
      "                          C:\\Users\\Alvaro\\AppData\\Local\\conda\\conda\\pkgs\n",
      "       envs directories : C:\\Users\\Alvaro\\anaconda3\\envs\n",
      "                          C:\\Users\\Alvaro\\.conda\\envs\n",
      "                          C:\\Users\\Alvaro\\AppData\\Local\\conda\\conda\\envs\n",
      "               platform : win-64\n",
      "             user-agent : conda/4.10.3 requests/2.26.0 CPython/3.8.12 Windows/10 Windows/10.0.19043\n",
      "          administrator : False\n",
      "             netrc file : None\n",
      "           offline mode : False\n",
      "\n"
     ]
    }
   ],
   "source": [
    "!conda info"
   ]
  },
  {
   "cell_type": "markdown",
   "id": "21e94544",
   "metadata": {},
   "source": [
    "### 4.0.1 Estructura"
   ]
  },
  {
   "cell_type": "markdown",
   "id": "be188598",
   "metadata": {},
   "source": [
    "## Librerías"
   ]
  },
  {
   "cell_type": "code",
   "execution_count": 2,
   "id": "90a0ba0e",
   "metadata": {},
   "outputs": [],
   "source": [
    "import pandas as pd\n",
    "import numpy as np\n",
    "import matplotlib.pyplot as plt\n",
    "import seaborn as sns\n",
    "import pickle\n",
    "\n",
    "from sklearn import metrics\n",
    "from sklearn.model_selection import cross_val_score\n",
    "from sklearn.metrics import ConfusionMatrixDisplay, classification_report, roc_curve, fbeta_score\n",
    "\n",
    "import lightgbm\n",
    "from xgboost import XGBClassifier\n",
    "from sklearn.svm import SVC\n",
    "from sklearn.ensemble import RandomForestClassifier\n",
    "from sklearn.linear_model import LogisticRegression"
   ]
  },
  {
   "cell_type": "markdown",
   "id": "7a7c39a1",
   "metadata": {},
   "source": [
    "## Scripts"
   ]
  },
  {
   "cell_type": "code",
   "execution_count": 3,
   "id": "6ae03c5e",
   "metadata": {},
   "outputs": [],
   "source": [
    "import sys\n",
    "\n",
    "import sys  \n",
    "sys.path.insert(0, '../scripts/')\n",
    "\n",
    "import csv_tools"
   ]
  },
  {
   "cell_type": "markdown",
   "id": "6d4d93f1",
   "metadata": {},
   "source": [
    "## 4.1 Datos\n",
    "Para desarrollar este modelo básico haremos uso de los datos sin tratamiento alguno, pues nuestro objetivo es tener un punto de partida que permita valorar las mejoras realizadas con los modelos tratados. \n",
    "\n",
    "Por lo tanto leeremos los datos directamente:"
   ]
  },
  {
   "cell_type": "code",
   "execution_count": 4,
   "id": "d6b361a8",
   "metadata": {},
   "outputs": [],
   "source": [
    "full_train = pd.read_csv(\"../data/csev/model_6/fulltrainCSEV.csv\")\n",
    "full_test = pd.read_csv(\"../data/csev/model_6/fulltestCSEV.csv\")"
   ]
  },
  {
   "cell_type": "code",
   "execution_count": 5,
   "id": "12be9a10",
   "metadata": {},
   "outputs": [
    {
     "data": {
      "text/plain": [
       "0    27794\n",
       "1    27794\n",
       "Name: C_SEV, dtype: int64"
      ]
     },
     "execution_count": 5,
     "metadata": {},
     "output_type": "execute_result"
    }
   ],
   "source": [
    "Y_train = full_train['C_SEV']\n",
    "X_train = full_train.drop(['C_SEV'], axis=1)\n",
    "Y_train.value_counts()"
   ]
  },
  {
   "cell_type": "code",
   "execution_count": 6,
   "id": "2fab6e99",
   "metadata": {},
   "outputs": [
    {
     "data": {
      "text/plain": [
       "1    351139\n",
       "0      6949\n",
       "Name: C_SEV, dtype: int64"
      ]
     },
     "execution_count": 6,
     "metadata": {},
     "output_type": "execute_result"
    }
   ],
   "source": [
    "Y_test = full_test['C_SEV']\n",
    "X_test = full_test.drop(['C_SEV'], axis=1)\n",
    "Y_test.value_counts()"
   ]
  },
  {
   "cell_type": "markdown",
   "id": "fffe6fd7",
   "metadata": {},
   "source": [
    "## 4.2 Modelo Base"
   ]
  },
  {
   "cell_type": "code",
   "execution_count": null,
   "id": "892553ac",
   "metadata": {},
   "outputs": [],
   "source": []
  },
  {
   "cell_type": "markdown",
   "id": "c5cef065",
   "metadata": {},
   "source": [
    "## 4.3 Modelo GLM"
   ]
  },
  {
   "cell_type": "code",
   "execution_count": 7,
   "id": "7f82e63c",
   "metadata": {},
   "outputs": [],
   "source": [
    "model = LogisticRegression()"
   ]
  },
  {
   "cell_type": "code",
   "execution_count": 8,
   "id": "58659f3c",
   "metadata": {},
   "outputs": [
    {
     "data": {
      "text/plain": [
       "LogisticRegression()"
      ]
     },
     "execution_count": 8,
     "metadata": {},
     "output_type": "execute_result"
    }
   ],
   "source": [
    "model.fit(X_train, Y_train)"
   ]
  },
  {
   "cell_type": "code",
   "execution_count": 9,
   "id": "ef1973fa",
   "metadata": {},
   "outputs": [],
   "source": [
    "Y_pred = model.predict(X_test)"
   ]
  },
  {
   "cell_type": "markdown",
   "id": "aaa4936d",
   "metadata": {},
   "source": [
    "### Evaluación"
   ]
  },
  {
   "cell_type": "code",
   "execution_count": 10,
   "id": "6edc2245",
   "metadata": {},
   "outputs": [
    {
     "data": {
      "text/plain": [
       "0.6061470923348451"
      ]
     },
     "execution_count": 10,
     "metadata": {},
     "output_type": "execute_result"
    }
   ],
   "source": [
    "metrics.accuracy_score(Y_test, Y_pred)"
   ]
  },
  {
   "cell_type": "code",
   "execution_count": 11,
   "id": "47e5aacc",
   "metadata": {},
   "outputs": [
    {
     "name": "stdout",
     "output_type": "stream",
     "text": [
      "Matriz de confusión\n",
      "[[  4883   2066]\n",
      " [138968 212171]]\n",
      "Matriz de confusión normalizada\n",
      "[[0.70269103 0.29730897]\n",
      " [0.3957635  0.6042365 ]]\n"
     ]
    },
    {
     "data": {
      "image/png": "[encoded data removed]",
      "text/plain": [
       "<Figure size 432x288 with 2 Axes>"
      ]
     },
     "metadata": {
      "needs_background": "light"
     },
     "output_type": "display_data"
    },
    {
     "data": {
      "image/png": "[encoded data removed]",
      "text/plain": [
       "<Figure size 432x288 with 2 Axes>"
      ]
     },
     "metadata": {
      "needs_background": "light"
     },
     "output_type": "display_data"
    }
   ],
   "source": [
    "titles_options = [\n",
    "    (\"Matriz de confusión\", None),\n",
    "    (\"Matriz de confusión normalizada\", \"true\"),\n",
    "]\n",
    "for title, normalize in titles_options:\n",
    "    disp = ConfusionMatrixDisplay.from_estimator(\n",
    "        model,\n",
    "        X_test,\n",
    "        Y_test,\n",
    "        display_labels=['Con Fall.', 'Sin Fall.'],\n",
    "        cmap=plt.cm.Blues,\n",
    "        normalize=normalize,\n",
    "    )\n",
    "    disp.ax_.set_title(title)\n",
    "\n",
    "    print(title)\n",
    "    print(disp.confusion_matrix)\n",
    "\n",
    "plt.show()"
   ]
  },
  {
   "cell_type": "code",
   "execution_count": 12,
   "id": "c2235089",
   "metadata": {},
   "outputs": [
    {
     "name": "stdout",
     "output_type": "stream",
     "text": [
      "Classification Report\n",
      "              precision    recall  f1-score   support\n",
      "\n",
      "           0       0.03      0.70      0.06      6949\n",
      "           1       0.99      0.60      0.75    351139\n",
      "\n",
      "    accuracy                           0.61    358088\n",
      "   macro avg       0.51      0.65      0.41    358088\n",
      "weighted avg       0.97      0.61      0.74    358088\n",
      "\n"
     ]
    }
   ],
   "source": [
    "print(\"Classification Report\")\n",
    "print(classification_report(Y_test, Y_pred))"
   ]
  },
  {
   "cell_type": "code",
   "execution_count": 13,
   "id": "c100704e",
   "metadata": {},
   "outputs": [
    {
     "data": {
      "image/png": "[encoded data removed]",
      "text/plain": [
       "<Figure size 432x288 with 1 Axes>"
      ]
     },
     "metadata": {
      "needs_background": "light"
     },
     "output_type": "display_data"
    }
   ],
   "source": [
    "# Curva ROC\n",
    "# keep probabilities for the positive outcome only\n",
    "yhat = Y_pred\n",
    "# calculate roc curves\n",
    "fpr, tpr, thresholds = roc_curve(Y_test, yhat)\n",
    "# plot the roc curve for the model\n",
    "plt.plot([0,1], [0,1], linestyle='--', label='No Skill')\n",
    "plt.plot(fpr, tpr, marker='.', label='GLM LR')\n",
    "# axis labels\n",
    "plt.xlabel('False Positive Rate')\n",
    "plt.ylabel('True Positive Rate')\n",
    "plt.legend()\n",
    "# show the plot\n",
    "plt.show()"
   ]
  },
  {
   "cell_type": "code",
   "execution_count": 14,
   "id": "5f380a7d",
   "metadata": {},
   "outputs": [
    {
     "data": {
      "text/plain": [
       "0.6553370319738224"
      ]
     },
     "execution_count": 14,
     "metadata": {},
     "output_type": "execute_result"
    }
   ],
   "source": [
    "fbeta_score(Y_test, Y_pred, average='binary', beta=2)"
   ]
  },
  {
   "cell_type": "markdown",
   "id": "77e68686",
   "metadata": {},
   "source": [
    "## 4.4 Modelo SVM"
   ]
  },
  {
   "cell_type": "markdown",
   "id": "7fdd8642",
   "metadata": {},
   "source": [
    "## 4.5 Modelo RandomForest"
   ]
  },
  {
   "cell_type": "code",
   "execution_count": 15,
   "id": "03d8f8d9",
   "metadata": {},
   "outputs": [],
   "source": [
    "model = RandomForestClassifier()"
   ]
  },
  {
   "cell_type": "code",
   "execution_count": 16,
   "id": "9dc14e21",
   "metadata": {},
   "outputs": [
    {
     "data": {
      "text/plain": [
       "RandomForestClassifier()"
      ]
     },
     "execution_count": 16,
     "metadata": {},
     "output_type": "execute_result"
    }
   ],
   "source": [
    "model.fit(X_train, Y_train)"
   ]
  },
  {
   "cell_type": "code",
   "execution_count": 17,
   "id": "34bacbb0",
   "metadata": {},
   "outputs": [],
   "source": [
    "Y_pred = model.predict(X_test)"
   ]
  },
  {
   "cell_type": "markdown",
   "id": "6c1c9757",
   "metadata": {},
   "source": [
    "### Evaluación"
   ]
  },
  {
   "cell_type": "code",
   "execution_count": 18,
   "id": "329219a9",
   "metadata": {},
   "outputs": [
    {
     "data": {
      "text/plain": [
       "0.6172309599874891"
      ]
     },
     "execution_count": 18,
     "metadata": {},
     "output_type": "execute_result"
    }
   ],
   "source": [
    "metrics.accuracy_score(Y_test, Y_pred)"
   ]
  },
  {
   "cell_type": "code",
   "execution_count": 19,
   "id": "dbe410f4",
   "metadata": {},
   "outputs": [
    {
     "name": "stdout",
     "output_type": "stream",
     "text": [
      "Matriz de confusión\n",
      "[[  4597   2352]\n",
      " [134713 216426]]\n",
      "Matriz de confusión normalizada\n",
      "[[0.66153403 0.33846597]\n",
      " [0.38364579 0.61635421]]\n"
     ]
    },
    {
     "data": {
      "image/png": "[encoded data removed]",
      "text/plain": [
       "<Figure size 432x288 with 2 Axes>"
      ]
     },
     "metadata": {
      "needs_background": "light"
     },
     "output_type": "display_data"
    },
    {
     "data": {
      "image/png": "[encoded data removed]",
      "text/plain": [
       "<Figure size 432x288 with 2 Axes>"
      ]
     },
     "metadata": {
      "needs_background": "light"
     },
     "output_type": "display_data"
    }
   ],
   "source": [
    "titles_options = [\n",
    "    (\"Matriz de confusión\", None),\n",
    "    (\"Matriz de confusión normalizada\", \"true\"),\n",
    "]\n",
    "for title, normalize in titles_options:\n",
    "    disp = ConfusionMatrixDisplay.from_estimator(\n",
    "        model,\n",
    "        X_test,\n",
    "        Y_test,\n",
    "        display_labels=['Con Fall.', 'Sin Fall.'],\n",
    "        cmap=plt.cm.Blues,\n",
    "        normalize=normalize,\n",
    "    )\n",
    "    disp.ax_.set_title(title)\n",
    "\n",
    "    print(title)\n",
    "    print(disp.confusion_matrix)\n",
    "\n",
    "plt.show()"
   ]
  },
  {
   "cell_type": "code",
   "execution_count": 20,
   "id": "90d78184",
   "metadata": {},
   "outputs": [
    {
     "name": "stdout",
     "output_type": "stream",
     "text": [
      "Classification Report\n",
      "              precision    recall  f1-score   support\n",
      "\n",
      "           0       0.03      0.66      0.06      6949\n",
      "           1       0.99      0.62      0.76    351139\n",
      "\n",
      "    accuracy                           0.62    358088\n",
      "   macro avg       0.51      0.64      0.41    358088\n",
      "weighted avg       0.97      0.62      0.75    358088\n",
      "\n"
     ]
    }
   ],
   "source": [
    "print(\"Classification Report\")\n",
    "print(classification_report(Y_test, Y_pred))"
   ]
  },
  {
   "cell_type": "code",
   "execution_count": 21,
   "id": "276a1d76",
   "metadata": {},
   "outputs": [
    {
     "data": {
      "image/png": "[encoded data removed]",
      "text/plain": [
       "<Figure size 432x288 with 1 Axes>"
      ]
     },
     "metadata": {
      "needs_background": "light"
     },
     "output_type": "display_data"
    }
   ],
   "source": [
    "# Curva ROC\n",
    "# keep probabilities for the positive outcome only\n",
    "yhat = Y_pred\n",
    "# calculate roc curves\n",
    "fpr, tpr, thresholds = roc_curve(Y_test, yhat)\n",
    "# plot the roc curve for the model\n",
    "plt.plot([0,1], [0,1], linestyle='--', label='No Skill')\n",
    "plt.plot(fpr, tpr, marker='.', label='RandomForest')\n",
    "# axis labels\n",
    "plt.xlabel('False Positive Rate')\n",
    "plt.ylabel('True Positive Rate')\n",
    "plt.legend()\n",
    "# show the plot\n",
    "plt.show()"
   ]
  },
  {
   "cell_type": "code",
   "execution_count": 22,
   "id": "8e7f3f2f",
   "metadata": {},
   "outputs": [
    {
     "data": {
      "text/plain": [
       "0.6666095825011981"
      ]
     },
     "execution_count": 22,
     "metadata": {},
     "output_type": "execute_result"
    }
   ],
   "source": [
    "fbeta_score(Y_test, Y_pred, average='binary', beta=2)"
   ]
  },
  {
   "cell_type": "markdown",
   "id": "1cda6254",
   "metadata": {},
   "source": [
    "## 4.6 Modelo XGBBoost"
   ]
  },
  {
   "cell_type": "code",
   "execution_count": 23,
   "id": "fbe0e219",
   "metadata": {},
   "outputs": [],
   "source": [
    "model = XGBClassifier(use_label_encoder=False)"
   ]
  },
  {
   "cell_type": "code",
   "execution_count": 24,
   "id": "746c2126",
   "metadata": {},
   "outputs": [
    {
     "name": "stdout",
     "output_type": "stream",
     "text": [
      "[13:38:08] WARNING: D:\\bld\\xgboost-split_1637426510059\\work\\src\\learner.cc:1115: Starting in XGBoost 1.3.0, the default evaluation metric used with the objective 'binary:logistic' was changed from 'error' to 'logloss'. Explicitly set eval_metric if you'd like to restore the old behavior.\n"
     ]
    },
    {
     "data": {
      "text/plain": [
       "XGBClassifier(base_score=0.5, booster='gbtree', colsample_bylevel=1,\n",
       "              colsample_bynode=1, colsample_bytree=1, enable_categorical=False,\n",
       "              gamma=0, gpu_id=-1, importance_type=None,\n",
       "              interaction_constraints='', learning_rate=0.300000012,\n",
       "              max_delta_step=0, max_depth=6, min_child_weight=1, missing=nan,\n",
       "              monotone_constraints='()', n_estimators=100, n_jobs=8,\n",
       "              num_parallel_tree=1, predictor='auto', random_state=0,\n",
       "              reg_alpha=0, reg_lambda=1, scale_pos_weight=1, subsample=1,\n",
       "              tree_method='exact', use_label_encoder=False,\n",
       "              validate_parameters=1, verbosity=None)"
      ]
     },
     "execution_count": 24,
     "metadata": {},
     "output_type": "execute_result"
    }
   ],
   "source": [
    "model.fit(X_train, Y_train)"
   ]
  },
  {
   "cell_type": "code",
   "execution_count": 25,
   "id": "c21512d6",
   "metadata": {},
   "outputs": [],
   "source": [
    "Y_pred = model.predict(X_test)"
   ]
  },
  {
   "cell_type": "markdown",
   "id": "75fa2396",
   "metadata": {},
   "source": [
    "### Evaluación"
   ]
  },
  {
   "cell_type": "code",
   "execution_count": 26,
   "id": "8d56ac6d",
   "metadata": {},
   "outputs": [
    {
     "data": {
      "text/plain": [
       "0.6548697526864905"
      ]
     },
     "execution_count": 26,
     "metadata": {},
     "output_type": "execute_result"
    }
   ],
   "source": [
    "metrics.accuracy_score(Y_test, Y_pred)"
   ]
  },
  {
   "cell_type": "code",
   "execution_count": 27,
   "id": "97079869",
   "metadata": {},
   "outputs": [
    {
     "name": "stdout",
     "output_type": "stream",
     "text": [
      "Matriz de confusión\n",
      "[[  4909   2040]\n",
      " [121547 229592]]\n",
      "Matriz de confusión normalizada\n",
      "[[0.70643258 0.29356742]\n",
      " [0.34615067 0.65384933]]\n"
     ]
    },
    {
     "data": {
      "image/png": "[encoded data removed]",
      "text/plain": [
       "<Figure size 432x288 with 2 Axes>"
      ]
     },
     "metadata": {
      "needs_background": "light"
     },
     "output_type": "display_data"
    },
    {
     "data": {
      "image/png": "[encoded data removed]",
      "text/plain": [
       "<Figure size 432x288 with 2 Axes>"
      ]
     },
     "metadata": {
      "needs_background": "light"
     },
     "output_type": "display_data"
    }
   ],
   "source": [
    "titles_options = [\n",
    "    (\"Matriz de confusión\", None),\n",
    "    (\"Matriz de confusión normalizada\", \"true\"),\n",
    "]\n",
    "for title, normalize in titles_options:\n",
    "    disp = ConfusionMatrixDisplay.from_estimator(\n",
    "        model,\n",
    "        X_test,\n",
    "        Y_test,\n",
    "        display_labels=['Fallecido', 'Vivo'],\n",
    "        cmap=plt.cm.Blues,\n",
    "        normalize=normalize,\n",
    "    )\n",
    "    disp.ax_.set_title(title)\n",
    "\n",
    "    print(title)\n",
    "    print(disp.confusion_matrix)\n",
    "\n",
    "plt.show()"
   ]
  },
  {
   "cell_type": "code",
   "execution_count": 28,
   "id": "ac749762",
   "metadata": {},
   "outputs": [
    {
     "name": "stdout",
     "output_type": "stream",
     "text": [
      "Classification Report\n",
      "              precision    recall  f1-score   support\n",
      "\n",
      "           0       0.04      0.71      0.07      6949\n",
      "           1       0.99      0.65      0.79    351139\n",
      "\n",
      "    accuracy                           0.65    358088\n",
      "   macro avg       0.52      0.68      0.43    358088\n",
      "weighted avg       0.97      0.65      0.77    358088\n",
      "\n"
     ]
    }
   ],
   "source": [
    "print(\"Classification Report\")\n",
    "print(classification_report(Y_test, Y_pred))"
   ]
  },
  {
   "cell_type": "code",
   "execution_count": 29,
   "id": "fed6b678",
   "metadata": {},
   "outputs": [
    {
     "data": {
      "image/png": "[encoded data removed]",
      "text/plain": [
       "<Figure size 432x288 with 1 Axes>"
      ]
     },
     "metadata": {
      "needs_background": "light"
     },
     "output_type": "display_data"
    }
   ],
   "source": [
    "# Curva ROC\n",
    "# keep probabilities for the positive outcome only\n",
    "yhat = Y_pred\n",
    "# calculate roc curves\n",
    "fpr, tpr, thresholds = roc_curve(Y_test, yhat)\n",
    "# plot the roc curve for the model\n",
    "plt.plot([0,1], [0,1], linestyle='--', label='No Skill')\n",
    "plt.plot(fpr, tpr, marker='.', label='XGB-Boost')\n",
    "# axis labels\n",
    "plt.xlabel('False Positive Rate')\n",
    "plt.ylabel('True Positive Rate')\n",
    "plt.legend()\n",
    "# show the plot\n",
    "plt.show()"
   ]
  },
  {
   "cell_type": "code",
   "execution_count": 30,
   "id": "50953f01",
   "metadata": {},
   "outputs": [
    {
     "data": {
      "text/plain": [
       "0.7016064168665215"
      ]
     },
     "execution_count": 30,
     "metadata": {},
     "output_type": "execute_result"
    }
   ],
   "source": [
    "fbeta_score(Y_test, Y_pred, average='binary', beta=2)"
   ]
  },
  {
   "cell_type": "markdown",
   "id": "8bbfcd46",
   "metadata": {},
   "source": [
    "## 4.7 Modelo LigthGBM"
   ]
  },
  {
   "cell_type": "code",
   "execution_count": 31,
   "id": "8bfc7770",
   "metadata": {},
   "outputs": [],
   "source": [
    "model = lightgbm.LGBMClassifier()"
   ]
  },
  {
   "cell_type": "code",
   "execution_count": 32,
   "id": "be42d597",
   "metadata": {},
   "outputs": [
    {
     "data": {
      "text/plain": [
       "LGBMClassifier()"
      ]
     },
     "execution_count": 32,
     "metadata": {},
     "output_type": "execute_result"
    }
   ],
   "source": [
    "model.fit(X_train, Y_train)"
   ]
  },
  {
   "cell_type": "code",
   "execution_count": 33,
   "id": "a3212f53",
   "metadata": {},
   "outputs": [],
   "source": [
    "Y_pred = model.predict(X_test)"
   ]
  },
  {
   "cell_type": "markdown",
   "id": "a23208a4",
   "metadata": {},
   "source": [
    "### Evaluación"
   ]
  },
  {
   "cell_type": "code",
   "execution_count": 34,
   "id": "97f529f5",
   "metadata": {},
   "outputs": [
    {
     "data": {
      "text/plain": [
       "0.6621919751569446"
      ]
     },
     "execution_count": 34,
     "metadata": {},
     "output_type": "execute_result"
    }
   ],
   "source": [
    "metrics.accuracy_score(Y_test, Y_pred)"
   ]
  },
  {
   "cell_type": "code",
   "execution_count": 35,
   "id": "818fb1be",
   "metadata": {},
   "outputs": [
    {
     "name": "stdout",
     "output_type": "stream",
     "text": [
      "Matriz de confusión\n",
      "[[  4896   2053]\n",
      " [118912 232227]]\n",
      "Matriz de confusión normalizada\n",
      "[[0.70456181 0.29543819]\n",
      " [0.33864652 0.66135348]]\n"
     ]
    },
    {
     "data": {
      "image/png": "[encoded data removed]",
      "text/plain": [
       "<Figure size 432x288 with 2 Axes>"
      ]
     },
     "metadata": {
      "needs_background": "light"
     },
     "output_type": "display_data"
    },
    {
     "data": {
      "image/png": "[encoded data removed]",
      "text/plain": [
       "<Figure size 432x288 with 2 Axes>"
      ]
     },
     "metadata": {
      "needs_background": "light"
     },
     "output_type": "display_data"
    }
   ],
   "source": [
    "titles_options = [\n",
    "    (\"Matriz de confusión\", None),\n",
    "    (\"Matriz de confusión normalizada\", \"true\"),\n",
    "]\n",
    "for title, normalize in titles_options:\n",
    "    disp = ConfusionMatrixDisplay.from_estimator(\n",
    "        model,\n",
    "        X_test,\n",
    "        Y_test,\n",
    "        display_labels=['Con Fall.', 'Sin Fall.'],\n",
    "        cmap=plt.cm.Blues,\n",
    "        normalize=normalize,\n",
    "    )\n",
    "    disp.ax_.set_title(title)\n",
    "\n",
    "    print(title)\n",
    "    print(disp.confusion_matrix)\n",
    "\n",
    "plt.show()"
   ]
  },
  {
   "cell_type": "code",
   "execution_count": 36,
   "id": "bf9d511e",
   "metadata": {},
   "outputs": [
    {
     "name": "stdout",
     "output_type": "stream",
     "text": [
      "Classification Report\n",
      "              precision    recall  f1-score   support\n",
      "\n",
      "           0       0.04      0.70      0.07      6949\n",
      "           1       0.99      0.66      0.79    351139\n",
      "\n",
      "    accuracy                           0.66    358088\n",
      "   macro avg       0.52      0.68      0.43    358088\n",
      "weighted avg       0.97      0.66      0.78    358088\n",
      "\n"
     ]
    }
   ],
   "source": [
    "print(\"Classification Report\")\n",
    "print(classification_report(Y_test, Y_pred))"
   ]
  },
  {
   "cell_type": "code",
   "execution_count": 37,
   "id": "436cd15b",
   "metadata": {},
   "outputs": [
    {
     "data": {
      "image/png": "[encoded data removed]",
      "text/plain": [
       "<Figure size 432x288 with 1 Axes>"
      ]
     },
     "metadata": {
      "needs_background": "light"
     },
     "output_type": "display_data"
    }
   ],
   "source": [
    "# Curva ROC\n",
    "# keep probabilities for the positive outcome only\n",
    "yhat = Y_pred\n",
    "# calculate roc curves\n",
    "fpr, tpr, thresholds = roc_curve(Y_test, yhat)\n",
    "# plot the roc curve for the model\n",
    "plt.plot([0,1], [0,1], linestyle='--', label='No Skill')\n",
    "plt.plot(fpr, tpr, marker='.', label='LightGBM')\n",
    "# axis labels\n",
    "plt.xlabel('False Positive Rate')\n",
    "plt.ylabel('True Positive Rate')\n",
    "plt.legend()\n",
    "# show the plot\n",
    "plt.show()"
   ]
  },
  {
   "cell_type": "code",
   "execution_count": 38,
   "id": "c487bb2f",
   "metadata": {},
   "outputs": [
    {
     "data": {
      "text/plain": [
       "0.708512017065771"
      ]
     },
     "execution_count": 38,
     "metadata": {},
     "output_type": "execute_result"
    }
   ],
   "source": [
    "fbeta_score(Y_test, Y_pred, average='binary', beta=2)"
   ]
  },
  {
   "cell_type": "markdown",
   "id": "fd56757f",
   "metadata": {},
   "source": [
    "---"
   ]
  },
  {
   "cell_type": "markdown",
   "id": "0b2c81ce",
   "metadata": {},
   "source": [
    "<div style='text-align:center'>Elaborado por Álvaro Serrano del Rincón (<i>a.serranodelrincon@cunef.edu</i>)</div> \n",
    "<div style='text-align:center'>y Carlos Viñals Guitart (<i>carlos.vinals@cunef.edu</i>)</div> "
   ]
  }
 ],
 "metadata": {
  "kernelspec": {
   "display_name": "Python [conda env:ML_P1]",
   "language": "python",
   "name": "conda-env-ML_P1-py"
  },
  "language_info": {
   "codemirror_mode": {
    "name": "ipython",
    "version": 3
   },
   "file_extension": ".py",
   "mimetype": "text/x-python",
   "name": "python",
   "nbconvert_exporter": "python",
   "pygments_lexer": "ipython3",
   "version": "3.9.7"
  }
 },
 "nbformat": 4,
 "nbformat_minor": 5
}
