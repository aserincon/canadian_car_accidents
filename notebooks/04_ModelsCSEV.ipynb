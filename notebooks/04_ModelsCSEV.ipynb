{
 "cells": [
  {
   "cell_type": "markdown",
   "id": "12d2babb",
   "metadata": {},
   "source": [
    "<p align=\"center\">\n",
    "    <!--If notebook is in folder notebooks change scr by \"../images/logo.png\"-->\n",
    "  <img width=\"100\" height=\"100\" src=\"../images/logo.png\">\n",
    "</p>"
   ]
  },
  {
   "cell_type": "markdown",
   "id": "c0b39481",
   "metadata": {},
   "source": [
    "<div>\n",
    "<h1>04. Modelos C_SEV</h1> \n",
    "\n",
    "Canadian Car Accidents Practice <br>\n",
    "<strong>Aprendizaje Automático</strong> <br>\n",
    "<strong>Master Universitario en Ciencia de Datos</strong>\n",
    "</div>"
   ]
  },
  {
   "cell_type": "markdown",
   "id": "e96bed03",
   "metadata": {},
   "source": [
    "<div style='text-align:right'>Álvaro Serrano del Rincón (<i>a.serranodelrincon@cunef.edu</i>)</div>\n",
    "<div style='text-align:right'>Carlos Viñals Guitart (<i>carlos.vinals@cunef.edu</i>)</div>"
   ]
  },
  {
   "cell_type": "markdown",
   "id": "3420292a",
   "metadata": {},
   "source": [
    "---\n"
   ]
  },
  {
   "cell_type": "markdown",
   "id": "75d33bed",
   "metadata": {},
   "source": [
    "## 4.0 Introducción\n",
    "\n",
    "En este notebook creamos distintos modelos y realizamos una evaluación de los mismos con el objetivo de encontrar el que mejor permita clasificar los accidentes. \n",
    "\n",
    "Para este trabajo estamos utilizando un entorno de propósito espécifico."
   ]
  },
  {
   "cell_type": "code",
   "execution_count": 1,
   "id": "adac98eb",
   "metadata": {},
   "outputs": [
    {
     "name": "stdout",
     "output_type": "stream",
     "text": [
      "\n",
      "     active environment : ML_P1\n",
      "    active env location : C:\\Users\\carviagu\\anaconda3\\envs\\ML_P1\n",
      "            shell level : 2\n",
      "       user config file : C:\\Users\\carviagu\\.condarc\n",
      " populated config files : \n",
      "          conda version : 4.10.3\n",
      "    conda-build version : 3.21.4\n",
      "         python version : 3.8.8.final.0\n",
      "       virtual packages : __cuda=11.3=0\n",
      "                          __win=0=0\n",
      "                          __archspec=1=x86_64\n",
      "       base environment : C:\\Users\\carviagu\\anaconda3  (writable)\n",
      "      conda av data dir : C:\\Users\\carviagu\\anaconda3\\etc\\conda\n",
      "  conda av metadata url : None\n",
      "           channel URLs : https://repo.anaconda.com/pkgs/main/win-64\n",
      "                          https://repo.anaconda.com/pkgs/main/noarch\n",
      "                          https://repo.anaconda.com/pkgs/r/win-64\n",
      "                          https://repo.anaconda.com/pkgs/r/noarch\n",
      "                          https://repo.anaconda.com/pkgs/msys2/win-64\n",
      "                          https://repo.anaconda.com/pkgs/msys2/noarch\n",
      "          package cache : C:\\Users\\carviagu\\anaconda3\\pkgs\n",
      "                          C:\\Users\\carviagu\\.conda\\pkgs\n",
      "                          C:\\Users\\carviagu\\AppData\\Local\\conda\\conda\\pkgs\n",
      "       envs directories : C:\\Users\\carviagu\\anaconda3\\envs\n",
      "                          C:\\Users\\carviagu\\.conda\\envs\n",
      "                          C:\\Users\\carviagu\\AppData\\Local\\conda\\conda\\envs\n",
      "               platform : win-64\n",
      "             user-agent : conda/4.10.3 requests/2.25.1 CPython/3.8.8 Windows/10 Windows/10.0.19041\n",
      "          administrator : False\n",
      "             netrc file : None\n",
      "           offline mode : False\n",
      "\n"
     ]
    }
   ],
   "source": [
    "!conda info"
   ]
  },
  {
   "cell_type": "markdown",
   "id": "21e94544",
   "metadata": {},
   "source": [
    "### 4.0.1 Estructura"
   ]
  },
  {
   "cell_type": "markdown",
   "id": "be188598",
   "metadata": {},
   "source": [
    "## Librerías"
   ]
  },
  {
   "cell_type": "code",
   "execution_count": 2,
   "id": "90a0ba0e",
   "metadata": {},
   "outputs": [],
   "source": [
    "import pandas as pd\n",
    "import numpy as np\n",
    "import matplotlib.pyplot as plt\n",
    "import seaborn as sns\n",
    "import pickle\n",
    "\n",
    "# MÉTRICAS\n",
    "from sklearn import metrics\n",
    "from sklearn.model_selection import cross_val_score\n",
    "from sklearn.metrics import ConfusionMatrixDisplay, classification_report, roc_curve, fbeta_score\n",
    "\n",
    "# MODELOS\n",
    "from sklearn.linear_model import LogisticRegression\n",
    "from sklearn.svm import SVC\n",
    "from sklearn.ensemble import RandomForestClassifier\n",
    "import lightgbm\n",
    "from xgboost import XGBClassifier"
   ]
  },
  {
   "cell_type": "markdown",
   "id": "7a7c39a1",
   "metadata": {},
   "source": [
    "## Scripts"
   ]
  },
  {
   "cell_type": "code",
   "execution_count": 3,
   "id": "6ae03c5e",
   "metadata": {},
   "outputs": [],
   "source": [
    "import sys\n",
    "\n",
    "import sys  \n",
    "sys.path.insert(0, '../scripts/')\n",
    "\n",
    "import csv_tools\n",
    "import model_tools"
   ]
  },
  {
   "cell_type": "markdown",
   "id": "6d4d93f1",
   "metadata": {},
   "source": [
    "## 4.1 Datos\n",
    "Para desarrollar este modelo básico haremos uso de los datos sin tratamiento alguno, pues nuestro objetivo es tener un punto de partida que permita valorar las mejoras realizadas con los modelos tratados. \n",
    "\n",
    "Por lo tanto leeremos los datos directamente:"
   ]
  },
  {
   "cell_type": "code",
   "execution_count": 4,
   "id": "d6b361a8",
   "metadata": {},
   "outputs": [],
   "source": [
    "full_train = pd.read_csv(\"../data/csev/fulltrainCSEVscal.csv\")\n",
    "full_test = pd.read_csv(\"../data/csev/fulltestCSEVscal.csv\")"
   ]
  },
  {
   "cell_type": "code",
   "execution_count": 5,
   "id": "12be9a10",
   "metadata": {},
   "outputs": [
    {
     "data": {
      "text/plain": [
       "0    27794\n",
       "1    27794\n",
       "Name: C_SEV, dtype: int64"
      ]
     },
     "execution_count": 5,
     "metadata": {},
     "output_type": "execute_result"
    }
   ],
   "source": [
    "Y_train = full_train['C_SEV']\n",
    "X_train = full_train.drop(['C_SEV'], axis=1)\n",
    "Y_train.value_counts()"
   ]
  },
  {
   "cell_type": "code",
   "execution_count": 6,
   "id": "2fab6e99",
   "metadata": {},
   "outputs": [
    {
     "data": {
      "text/plain": [
       "1    351139\n",
       "0      6949\n",
       "Name: C_SEV, dtype: int64"
      ]
     },
     "execution_count": 6,
     "metadata": {},
     "output_type": "execute_result"
    }
   ],
   "source": [
    "Y_test = full_test['C_SEV']\n",
    "X_test = full_test.drop(['C_SEV'], axis=1)\n",
    "Y_test.value_counts()"
   ]
  },
  {
   "cell_type": "markdown",
   "id": "fffe6fd7",
   "metadata": {},
   "source": [
    "## 4.2 Modelado"
   ]
  },
  {
   "cell_type": "markdown",
   "id": "41dc7b74",
   "metadata": {},
   "source": [
    "A continuación probaremos distintos modelos con el objetivo de encontrar el más adecuado para solventar el problema en el que nos encontramos. En concreto haremos uso de 5 modelos:\n",
    "* GLM (Logistic Regression)\n",
    "* SVM\n",
    "* Random Forest\n",
    "* XGBBoost\n",
    "* LightGBM\n",
    "\n",
    "Adicionalmente tendremos un modelo base, como punto de partida para comparar las métricas.\n",
    "\n",
    "**Métricas de evaluación**\n",
    "\n",
    "Para poder compara los modelos haremos uso de métricas de valoración. Al encontrarnos con un problema drásticamente desbalanceado, resulta muy complicado hacer uso de la mayoría de métricas disponibles. Por ello haremos uso de la matriz de confusión normalizada y de las métricas de *precission* y *recall* que permitirán analizar en detalle si el modelo es adecuado. \n",
    "\n",
    "Si bien se calculará para poder comparar en algunos casos, no hacemos uso de métricas como el *accuracy* para determinar que modeo es mejor, pues este puede ser elevado acertando la clase mayoritaria pero fallando de manera considerable la clase minoritaria. Podremos observar esta situación con el modelo base que calcularemos a continuación."
   ]
  },
  {
   "cell_type": "code",
   "execution_count": 7,
   "id": "7981cb68",
   "metadata": {},
   "outputs": [],
   "source": [
    "# Diccionario para guardar las predicciones realizadas por cada modelo\n",
    "predictions = {}\n",
    "models = {}"
   ]
  },
  {
   "cell_type": "markdown",
   "id": "941e4642",
   "metadata": {},
   "source": [
    "### 4.2.1 Modelo base\n",
    "El modelo base utiliza el algoritmo de la clase mayoritaria, es decir, asginará a las predicciones el valor mayoritario del conjunto de la muestra. En nuestro caso no fallecidos (1)."
   ]
  },
  {
   "cell_type": "code",
   "execution_count": 8,
   "id": "dae9108c",
   "metadata": {},
   "outputs": [],
   "source": [
    "Y_pred = pd.Series(data = [1] * len(Y_test), index = Y_test.index)"
   ]
  },
  {
   "cell_type": "code",
   "execution_count": 9,
   "id": "783e0b06",
   "metadata": {},
   "outputs": [],
   "source": [
    "predictions['Base'] = Y_pred"
   ]
  },
  {
   "cell_type": "markdown",
   "id": "4c148920",
   "metadata": {},
   "source": [
    "#### Evaluación"
   ]
  },
  {
   "cell_type": "code",
   "execution_count": 10,
   "id": "f6f8abbe",
   "metadata": {},
   "outputs": [
    {
     "data": {
      "text/plain": [
       "0.98059415562655"
      ]
     },
     "execution_count": 10,
     "metadata": {},
     "output_type": "execute_result"
    }
   ],
   "source": [
    "model_tools.accuracy(Y_test, Y_pred)"
   ]
  },
  {
   "cell_type": "code",
   "execution_count": 11,
   "id": "708529b0",
   "metadata": {},
   "outputs": [
    {
     "name": "stdout",
     "output_type": "stream",
     "text": [
      "Matriz de confusión\n",
      "[[     0   6949]\n",
      " [     0 351139]]\n",
      "Matriz de confusión normalizada\n",
      "[[0. 1.]\n",
      " [0. 1.]]\n"
     ]
    },
    {
     "data": {
      "image/png": "[encoded data removed]",
      "text/plain": [
       "<Figure size 432x288 with 2 Axes>"
      ]
     },
     "metadata": {
      "needs_background": "light"
     },
     "output_type": "display_data"
    },
    {
     "data": {
      "image/png": "[encoded data removed]",
      "text/plain": [
       "<Figure size 432x288 with 2 Axes>"
      ]
     },
     "metadata": {
      "needs_background": "light"
     },
     "output_type": "display_data"
    }
   ],
   "source": [
    "titles_options = [\n",
    "    (\"Matriz de confusión\", None),\n",
    "    (\"Matriz de confusión normalizada\", \"true\"),\n",
    "]\n",
    "\n",
    "model_tools.confusion_matrix(titles_options, Y_test, Y_pred, \n",
    "                            ['Mortal', 'No Mortal'])"
   ]
  },
  {
   "cell_type": "markdown",
   "id": "7dc36f81",
   "metadata": {},
   "source": [
    "El modelo base se limita a afirmar que, la predicción de nuevas observaciones será de la clase mayoritaria. En este caso, la clase mayoritaria es que no habrá accidentes mortales, por lo que según el modelo no habrá accidentes mortales. "
   ]
  },
  {
   "cell_type": "markdown",
   "id": "c5cef065",
   "metadata": {},
   "source": [
    "### 4.2.2 Modelo GLM \n",
    "\n",
    "Ref: https://towardsdatascience.com/generalized-linear-models-9cbf848bb8ab\n",
    "\n",
    "Se trata de un modelo lineal de Machine Learning que emplea la función logística como clasificador. Este modelo se emplea para predecir valores de una variable continua (y) como una combinación lineal de la variable x. Un modelo GLM está compuesto por tres partes: un **predictor lineal**, una **función de link** y una **función de probabilidad** (por ejemplo la Poisson).\n",
    "\n",
    "Para este modelo GLM, utilizaremos como clasificador un Regresor Logístico."
   ]
  },
  {
   "cell_type": "code",
   "execution_count": 12,
   "id": "7f82e63c",
   "metadata": {},
   "outputs": [],
   "source": [
    "model = LogisticRegression()"
   ]
  },
  {
   "cell_type": "code",
   "execution_count": 13,
   "id": "58659f3c",
   "metadata": {},
   "outputs": [
    {
     "data": {
      "text/plain": [
       "LogisticRegression()"
      ]
     },
     "execution_count": 13,
     "metadata": {},
     "output_type": "execute_result"
    }
   ],
   "source": [
    "model.fit(X_train, Y_train)"
   ]
  },
  {
   "cell_type": "code",
   "execution_count": 14,
   "id": "ef1973fa",
   "metadata": {},
   "outputs": [],
   "source": [
    "Y_pred = model.predict(X_test)"
   ]
  },
  {
   "cell_type": "code",
   "execution_count": 15,
   "id": "774673e4",
   "metadata": {},
   "outputs": [],
   "source": [
    "predictions['GLM'] = Y_pred\n",
    "models['GLM'] = model"
   ]
  },
  {
   "cell_type": "code",
   "execution_count": 16,
   "id": "3b89df14",
   "metadata": {},
   "outputs": [],
   "source": [
    "file_name = \"../models/glm_model.sav\"\n",
    "pickle.dump(model, open(file_name, \"wb\"))"
   ]
  },
  {
   "cell_type": "markdown",
   "id": "aaa4936d",
   "metadata": {},
   "source": [
    "#### Evaluación"
   ]
  },
  {
   "cell_type": "code",
   "execution_count": 17,
   "id": "8a4864f3",
   "metadata": {},
   "outputs": [
    {
     "data": {
      "text/plain": [
       "0.6030612586850159"
      ]
     },
     "execution_count": 17,
     "metadata": {},
     "output_type": "execute_result"
    }
   ],
   "source": [
    "model_tools.accuracy(Y_test, Y_pred)"
   ]
  },
  {
   "cell_type": "code",
   "execution_count": 18,
   "id": "47e5aacc",
   "metadata": {},
   "outputs": [
    {
     "name": "stdout",
     "output_type": "stream",
     "text": [
      "Matriz de confusión\n",
      "[[  4888   2061]\n",
      " [140078 211061]]\n",
      "Matriz de confusión normalizada\n",
      "[[0.70341056 0.29658944]\n",
      " [0.39892464 0.60107536]]\n"
     ]
    },
    {
     "data": {
      "image/png": "[encoded data removed]",
      "text/plain": [
       "<Figure size 432x288 with 2 Axes>"
      ]
     },
     "metadata": {
      "needs_background": "light"
     },
     "output_type": "display_data"
    },
    {
     "data": {
      "image/png": "[encoded data removed]",
      "text/plain": [
       "<Figure size 432x288 with 2 Axes>"
      ]
     },
     "metadata": {
      "needs_background": "light"
     },
     "output_type": "display_data"
    }
   ],
   "source": [
    "titles_options = [\n",
    "    (\"Matriz de confusión\", None),\n",
    "    (\"Matriz de confusión normalizada\", \"true\"),\n",
    "]\n",
    "model_tools.confusion_matrix(titles_options, Y_test, Y_pred, \n",
    "                            ['Mortal', 'No Mortal'])"
   ]
  },
  {
   "cell_type": "code",
   "execution_count": 19,
   "id": "c100704e",
   "metadata": {},
   "outputs": [
    {
     "data": {
      "image/png": "[encoded data removed]",
      "text/plain": [
       "<Figure size 432x288 with 1 Axes>"
      ]
     },
     "metadata": {
      "needs_background": "light"
     },
     "output_type": "display_data"
    }
   ],
   "source": [
    "pred_prob = model.predict_proba(X_test)[:,1]\n",
    "model_tools.roc_curve(Y_test, pred_prob, 'GLM')"
   ]
  },
  {
   "cell_type": "markdown",
   "id": "c4eb2cdf",
   "metadata": {},
   "source": [
    "Se observa que se mejora notablemente los resultados del modelo base, alcanzando un 70% de precisión a la hora de predecir los accidentes con fallecidos, y un 60% de los accidentes no mortales. \n",
    "\n",
    "Cabe mencionar que, con un dataset tan desequilibrado, no debemos guiarnos por el accuracy de los modelos a la hora de compararlos (porque favorecen a la clase mayoritaria), sino más por la matriz de confusión normalizada y la curva ROC."
   ]
  },
  {
   "cell_type": "markdown",
   "id": "77e68686",
   "metadata": {},
   "source": [
    "### 4.2.3 Modelo SVM\n",
    "\n",
    "Ref: https://towardsdatascience.com/support-vector-machines-svm-c9ef22815589\n",
    "\n",
    "El SVM (Support Vector Machine) es un algoritmo de aprendizaje automático no supervisado, que puede ser utilizado tanto como clasificador (SVC. Support Vector Classifier) como regresor (SVR. Support Vector Regressor). \n",
    "\n",
    "En este caso, nos centraremos en el **SVC**, que trata de encontrar un hiperplano que pueda separar las dos categorías: accidentes mortales y accidentes sin muertos. Es por ello que se trata de un algoritmo muy pesado y que requiere mucho tiempo de cálculo, pues tiene que probar todas las combinaciones posibles de planos para separar las variables objetivo. "
   ]
  },
  {
   "cell_type": "code",
   "execution_count": 20,
   "id": "32dcb5e7",
   "metadata": {},
   "outputs": [],
   "source": [
    "svc = SVC(gamma = 'auto')"
   ]
  },
  {
   "cell_type": "code",
   "execution_count": 21,
   "id": "942be7d6",
   "metadata": {},
   "outputs": [
    {
     "data": {
      "text/plain": [
       "SVC(gamma='auto')"
      ]
     },
     "execution_count": 21,
     "metadata": {},
     "output_type": "execute_result"
    }
   ],
   "source": [
    "svc.fit(X_train, Y_train)"
   ]
  },
  {
   "cell_type": "code",
   "execution_count": null,
   "id": "bfd449a5",
   "metadata": {},
   "outputs": [],
   "source": [
    "Y_pred = svc.predict(X_test)"
   ]
  },
  {
   "cell_type": "code",
   "execution_count": null,
   "id": "278deac6",
   "metadata": {},
   "outputs": [],
   "source": [
    "predictions['SVM'] = Y_pred\n",
    "models['SVM'] = model"
   ]
  },
  {
   "cell_type": "code",
   "execution_count": null,
   "id": "82e90f1a",
   "metadata": {},
   "outputs": [],
   "source": [
    "file_name = \"../models/svm_model.sav\"\n",
    "pickle.dump(model, open(file_name, \"wb\"))"
   ]
  },
  {
   "cell_type": "markdown",
   "id": "192eed6d",
   "metadata": {},
   "source": [
    "#### Evaluación"
   ]
  },
  {
   "cell_type": "code",
   "execution_count": null,
   "id": "9eb969c4",
   "metadata": {},
   "outputs": [],
   "source": [
    "model_tools.accuracy(Y_test, Y_pred)"
   ]
  },
  {
   "cell_type": "code",
   "execution_count": null,
   "id": "18ce0553",
   "metadata": {},
   "outputs": [],
   "source": [
    "titles_options = [\n",
    "    (\"Matriz de confusión\", None),\n",
    "    (\"Matriz de confusión normalizada\", \"true\"),\n",
    "]\n",
    "model_tools.confusion_matrix(titles_options, Y_test, Y_pred, \n",
    "                           ['Mortal', 'No Mortal'])"
   ]
  },
  {
   "cell_type": "code",
   "execution_count": null,
   "id": "d52d71c7",
   "metadata": {},
   "outputs": [],
   "source": [
    "pred_prob = model.predict_proba(X_test)[:,1]\n",
    "model_tools.roc_curve(Y_test, pred_prob, 'SVM')"
   ]
  },
  {
   "cell_type": "markdown",
   "id": "bc521ada",
   "metadata": {},
   "source": [
    "Los resultados de este modelo están más equilibrados que en el GLM, acertando casi un 70% de las veces los accidentes mortales, y un 66% los no mortales. No obstante, dicho modelo es mucho más pesado, y ha requerido mucho tiempo de computación para poder mostrar los resultados. "
   ]
  },
  {
   "cell_type": "markdown",
   "id": "7fdd8642",
   "metadata": {},
   "source": [
    "### 4.2.4 Modelo RandomForest\n",
    "\n",
    "Ref: https://towardsdatascience.com/understanding-random-forest-58381e0602d2\n",
    "\n",
    "El Random Forest consiste en una serie de árboles de decisión que funcionan de manera conjunta, en el que cada **decision tree** aporta una predicción, de manera que la clase que haya sido la predicción de más modelos, se convertirá en la predicción del modelo. \n",
    "\n",
    "Los Random Forests han mostrado ser muy efectivos, debido a la poca correlación existente entre cada uno de los árboles, pues ello implica que los errores de cada árbol no estén correlacionados, es decir, que no se está dejando por explicar la información del modelo. "
   ]
  },
  {
   "cell_type": "code",
   "execution_count": null,
   "id": "03d8f8d9",
   "metadata": {},
   "outputs": [],
   "source": [
    "model = RandomForestClassifier()"
   ]
  },
  {
   "cell_type": "code",
   "execution_count": null,
   "id": "9dc14e21",
   "metadata": {},
   "outputs": [],
   "source": [
    "model.fit(X_train, Y_train)"
   ]
  },
  {
   "cell_type": "code",
   "execution_count": null,
   "id": "34bacbb0",
   "metadata": {},
   "outputs": [],
   "source": [
    "Y_pred = model.predict(X_test)"
   ]
  },
  {
   "cell_type": "code",
   "execution_count": null,
   "id": "9176b291",
   "metadata": {},
   "outputs": [],
   "source": [
    "predictions['Random Forest'] = Y_pred\n",
    "models['Random Forest'] = model"
   ]
  },
  {
   "cell_type": "code",
   "execution_count": null,
   "id": "f3478a91",
   "metadata": {},
   "outputs": [],
   "source": [
    "file_name = \"../models/rf_model.sav\"\n",
    "pickle.dump(model, open(file_name, \"wb\"))"
   ]
  },
  {
   "cell_type": "markdown",
   "id": "6c1c9757",
   "metadata": {},
   "source": [
    "#### Evaluación"
   ]
  },
  {
   "cell_type": "code",
   "execution_count": null,
   "id": "329219a9",
   "metadata": {},
   "outputs": [],
   "source": [
    "model_tools.accuracy(Y_test, Y_pred)"
   ]
  },
  {
   "cell_type": "code",
   "execution_count": null,
   "id": "dbe410f4",
   "metadata": {},
   "outputs": [],
   "source": [
    "titles_options = [\n",
    "    (\"Matriz de confusión\", None),\n",
    "    (\"Matriz de confusión normalizada\", \"true\"),\n",
    "]\n",
    "model_tools.confusion_matrix(titles_options, Y_test, Y_pred, \n",
    "                            ['Mortal', 'No Mortal'])"
   ]
  },
  {
   "cell_type": "code",
   "execution_count": null,
   "id": "784ff6b8",
   "metadata": {},
   "outputs": [],
   "source": [
    "pred_prob = model.predict_proba(X_test)[:,1]\n",
    "model_tools.roc_curve(Y_test, pred_prob, 'Random Forest')"
   ]
  },
  {
   "cell_type": "markdown",
   "id": "d990198a",
   "metadata": {},
   "source": [
    "El Random Forest muestra unas predicciones menos precisas que el SVM (prestando atención a la matriz de confusión), aunque con un tiempo de ejecución mucho menor. No obstante, no parece que vaya a ser el modelo más apropiado."
   ]
  },
  {
   "cell_type": "markdown",
   "id": "1cda6254",
   "metadata": {},
   "source": [
    "### 4.2.5 Modelo XGBBoost\n",
    "\n",
    "Ref: https://towardsdatascience.com/xgboost-theory-and-practice-fb8912930ad6\n",
    "\n",
    "Es un algoritmo supervisado de machine learning, dentro de los modelos de gradient boosting trees. Esto significa que es un modelo de árbol, al igual que el Random Forest, pero a diferencia de este, el XGBoost (eXtreme Gradient Boosting) es un algoritmo de boosting, que se encarga de combinar varios modelos en uno, pues realiza la predicción basándose secuencialmente en la decisión en el error de la predicción anterior.\n",
    "\n",
    "De esta manera, el modelo busca minimizar el error de la función (mediante derivadas), aproximandose al mínimo de la misma de forma secuencial."
   ]
  },
  {
   "cell_type": "code",
   "execution_count": null,
   "id": "fbe0e219",
   "metadata": {},
   "outputs": [],
   "source": [
    "model = XGBClassifier(use_label_encoder=False, eval_metric=\"error\") # Default values"
   ]
  },
  {
   "cell_type": "code",
   "execution_count": null,
   "id": "746c2126",
   "metadata": {},
   "outputs": [],
   "source": [
    "model.fit(X_train, Y_train)"
   ]
  },
  {
   "cell_type": "code",
   "execution_count": null,
   "id": "c21512d6",
   "metadata": {},
   "outputs": [],
   "source": [
    "Y_pred = model.predict(X_test)"
   ]
  },
  {
   "cell_type": "code",
   "execution_count": null,
   "id": "f8df8a5f",
   "metadata": {},
   "outputs": [],
   "source": [
    "predictions['XGB'] = Y_pred\n",
    "models['XGB'] = model"
   ]
  },
  {
   "cell_type": "code",
   "execution_count": null,
   "id": "77a42595",
   "metadata": {},
   "outputs": [],
   "source": [
    "file_name = \"../models/xgb_model.sav\"\n",
    "pickle.dump(model, open(file_name, \"wb\"))"
   ]
  },
  {
   "cell_type": "markdown",
   "id": "75fa2396",
   "metadata": {},
   "source": [
    "#### Evaluación"
   ]
  },
  {
   "cell_type": "code",
   "execution_count": null,
   "id": "8d56ac6d",
   "metadata": {},
   "outputs": [],
   "source": [
    "model_tools.accuracy(Y_test, Y_pred)"
   ]
  },
  {
   "cell_type": "code",
   "execution_count": null,
   "id": "97079869",
   "metadata": {},
   "outputs": [],
   "source": [
    "titles_options = [\n",
    "    (\"Matriz de confusión\", None),\n",
    "    (\"Matriz de confusión normalizada\", \"true\"),\n",
    "]\n",
    "model_tools.confusion_matrix(titles_options, Y_test, Y_pred, \n",
    "                            ['Mortal', 'No Mortal'])"
   ]
  },
  {
   "cell_type": "code",
   "execution_count": null,
   "id": "fed6b678",
   "metadata": {},
   "outputs": [],
   "source": [
    "pred_prob = model.predict_proba(X_test)[:,1]\n",
    "model_tools.roc_curve(Y_test, pred_prob, 'XGB')"
   ]
  },
  {
   "cell_type": "markdown",
   "id": "c9bab0fb",
   "metadata": {},
   "source": [
    "El XGBoost es hasta ahora, el modelo que ha arrojado unos mejores resultados, acertando un 71% de las veces a la hora de determinar accidentes mortales, y con un 65% de acierto en los accidentes no mortales, maximizando de esa manera la curva ROC. "
   ]
  },
  {
   "cell_type": "markdown",
   "id": "8bbfcd46",
   "metadata": {},
   "source": [
    "### 4.2.6 Modelo LigthGBM\n",
    "Ref: https://towardsdatascience.com/catboost-vs-light-gbm-vs-xgboost-5f93620723db\n",
    "\n",
    "Se trata de otro algoritmo de aprendizaje automático supervisado de boosting trees, de la misma familia que XGBoost. LightGBM fue lanzado por Microsoft en 2017, y se diferencia de XGBoost en que, mientras este último emplea algoritmos pre-clasificados y basados en histogramas para determinar la división óptima, el LightGBM utiliza una técnica más sofisticada llamada **Gradient-based One-Side Sampling (GOSS)** para filtrar los datos y poder encontrar la mejor división posible.\n",
    "\n",
    "Esta técnica funciona tan bien porque el *gradiente* representa la pendiente de la tangente de la función de pérdida, de modo que si estos gradientes de estos puntos son grandes, ayudan a encontrar el split óptimo, pues tienen un mayor error. En otras palabras, se centra en computar la información que genera un gradient mayor, pues estos juegan un rol más importante a la hora de computar la ganancia de información. "
   ]
  },
  {
   "cell_type": "code",
   "execution_count": null,
   "id": "8bfc7770",
   "metadata": {},
   "outputs": [],
   "source": [
    "model = lightgbm.LGBMClassifier()"
   ]
  },
  {
   "cell_type": "code",
   "execution_count": null,
   "id": "be42d597",
   "metadata": {},
   "outputs": [],
   "source": [
    "model.fit(X_train, Y_train)"
   ]
  },
  {
   "cell_type": "code",
   "execution_count": null,
   "id": "a3212f53",
   "metadata": {},
   "outputs": [],
   "source": [
    "Y_pred = model.predict(X_test)"
   ]
  },
  {
   "cell_type": "code",
   "execution_count": null,
   "id": "e029a1db",
   "metadata": {},
   "outputs": [],
   "source": [
    "predictions['LightGBM'] = Y_pred\n",
    "models['LightGBM'] = model"
   ]
  },
  {
   "cell_type": "code",
   "execution_count": null,
   "id": "8a841452",
   "metadata": {},
   "outputs": [],
   "source": [
    "file_name = \"../models/lgbm_model.sav\"\n",
    "pickle.dump(model, open(file_name, \"wb\"))"
   ]
  },
  {
   "cell_type": "markdown",
   "id": "a23208a4",
   "metadata": {},
   "source": [
    "#### Evaluación"
   ]
  },
  {
   "cell_type": "code",
   "execution_count": null,
   "id": "97f529f5",
   "metadata": {},
   "outputs": [],
   "source": [
    "model_tools.accuracy(Y_test, Y_pred)"
   ]
  },
  {
   "cell_type": "code",
   "execution_count": null,
   "id": "818fb1be",
   "metadata": {},
   "outputs": [],
   "source": [
    "titles_options = [\n",
    "    (\"Matriz de confusión\", None),\n",
    "    (\"Matriz de confusión normalizada\", \"true\"),\n",
    "]\n",
    "model_tools.confusion_matrix(titles_options, Y_test, Y_pred, \n",
    "                            ['Mortal', 'No Mortal'])"
   ]
  },
  {
   "cell_type": "code",
   "execution_count": null,
   "id": "436cd15b",
   "metadata": {},
   "outputs": [],
   "source": [
    "pred_prob = model.predict_proba(X_test)[:,1]\n",
    "model_tools.roc_curve(Y_test, pred_prob, 'LightGBM')"
   ]
  },
  {
   "cell_type": "markdown",
   "id": "4a233718",
   "metadata": {},
   "source": [
    "Los resultados del modelo LightGBM son muy similares a los del XGBoost, si bien muestra un poco menos de precisión a la hora de determinar los accidentes mortales, pero se trata sin duda de un modelo que funciona muy bien, y que maximiza la ROC curve."
   ]
  },
  {
   "cell_type": "markdown",
   "id": "112cf8a5",
   "metadata": {},
   "source": [
    "## 4.3 Valoración\n",
    "A continuación, procedemos a valorar los modelos de forma conjunta, para poder escoger el mejor modelo."
   ]
  },
  {
   "cell_type": "markdown",
   "id": "b2c6f6d9",
   "metadata": {},
   "source": [
    "Analizamos las curvas ROC de los modelos. Primero, realizamos una representación básica que incluya el modelo base."
   ]
  },
  {
   "cell_type": "code",
   "execution_count": null,
   "id": "e26bdd75",
   "metadata": {},
   "outputs": [],
   "source": [
    "# Curva por defecto\n",
    "plt.plot([0,1], [0,1], linestyle='--', label='No Skill')\n",
    "\n",
    "# Curva de cada modelo\n",
    "for key in predictions:\n",
    "    # calculate roc curves (no prob)\n",
    "    fpr, tpr, thresholds = metrics.roc_curve(Y_test, predictions[key])\n",
    "    plt.plot(fpr, tpr, marker='.', label=key)\n",
    "\n",
    "# axis labels\n",
    "plt.xlabel('False Positive Rate')\n",
    "plt.ylabel('True Positive Rate')\n",
    "plt.title('Comparativa de modelos')\n",
    "plt.legend()"
   ]
  },
  {
   "cell_type": "markdown",
   "id": "45f21d39",
   "metadata": {},
   "source": [
    "Observamos que el modelo base, es un modelo sin ningún tipo de aprendizaje por lo que su curva es igual a un modelo *No Skill*. Y que los modelos Boost (XGB y LightGBM) presentan unas curvas más próximas a un modelo con un mejor entrenamiento.\n",
    "\n",
    "Ahora representaremos la curva con probabilidades de predicción."
   ]
  },
  {
   "cell_type": "code",
   "execution_count": null,
   "id": "9d7e0453",
   "metadata": {},
   "outputs": [],
   "source": [
    "# Curva por defecto\n",
    "plt.plot([0,1], [0,1], linestyle='--', label='No Skill')\n",
    "\n",
    "# Curva de cada modelo\n",
    "for key in models:\n",
    "        yhat = models[key].predict_proba(X_test)[:,1]\n",
    "        fpr, tpr, thresholds = metrics.roc_curve(Y_test, yhat)\n",
    "        plt.plot(fpr, tpr, marker='.', label=key)\n",
    "\n",
    "# axis labels\n",
    "plt.xlabel('False Positive Rate')\n",
    "plt.ylabel('True Positive Rate')\n",
    "plt.title('Comparativa de modelos')\n",
    "plt.legend()"
   ]
  },
  {
   "cell_type": "markdown",
   "id": "946a49aa",
   "metadata": {},
   "source": [
    "Parece que los modelos Boost (XGBoost y LightGBM) son los mejores, pues maximizan la curva ROC.\n",
    "\n",
    "Ahora representaremos sus valores de precision y recall."
   ]
  },
  {
   "cell_type": "code",
   "execution_count": null,
   "id": "050b69cc",
   "metadata": {},
   "outputs": [],
   "source": [
    "scores = pd.DataFrame(data = predictions.keys(), columns = ['Models'], index = [0, 1, 2, 3, 4, 5])\n",
    "\n",
    "pres = list()\n",
    "rec = list()\n",
    "roc = list()\n",
    "\n",
    "for key in predictions:\n",
    "    # Precision\n",
    "    pres.append(metrics.precision_score(Y_test, predictions[key], zero_division = 0.0, labels=[0], average='weighted'))\n",
    "    # Recall\n",
    "    rec.append(metrics.recall_score(Y_test, predictions[key], zero_division = 0.0, labels=[0], average='weighted'))\n",
    "    # RocAUC\n",
    "    if (key == 'Base'):\n",
    "        roc.append(0.00)\n",
    "    else:\n",
    "        roc.append(metrics.roc_auc_score(Y_test, models[key].predict_proba(X_test)[:,1]))\n",
    "\n",
    "scores['Precision'] = pres\n",
    "scores['Recall'] = rec\n",
    "scores['Roc_Auc'] = roc\n",
    "\n",
    "scores"
   ]
  },
  {
   "cell_type": "markdown",
   "id": "ef5efd4e",
   "metadata": {},
   "source": [
    "A la hora de valorar los modelos la precision no es muy útil pues el problema está desbalanceado, por lo que haremos uso del recall como métrica principal. Paralelamente utilizamos el ROC_AUC, es decir, el área de la curva ROC, observamos que es ligeramente superior en el LightGBM, pues este es más equilibrado, sin embargo nos interesa que el modelo prediga mejor los accidentes con fallecidos, pues ese es el eje central del modelo, y la clase que es a priori más difícil de pronosticar (por lo desbalanceado que está el dataset)."
   ]
  },
  {
   "cell_type": "markdown",
   "id": "e6d5906e",
   "metadata": {},
   "source": [
    "## 4.4 Elección y conclusiones\n",
    "\n",
    "#### Modelo seleccionado\n",
    "En resumen, y a tenor de lo anteriormente explicado, el modelo elegido es el **XGBoost**, pues pese a tener una curva ROC y resultados muy similares al *LightGBM*, el primero acierta más a la hora de predecir la clase minoritaria, lo que ha resultado determinante para poder tomar la decisión. Los demás modelos, pese a arrojar buenos resultados, se encuentran un paso por detrás de los modelos de boosting. \n",
    "\n",
    "#### Siguientes pasos\n",
    "A continuación, y una vez que se ha elegido (basándonos en las métricas, pero con un componente subjetivo) el modelo más adecuado, es el momento de afinarlo para poder mejorar tanto la precisión como el recall de las predicciones. En el notebook ```05_Optimization```, se optimizarán los hiperparámetros del modelo XGBoost. "
   ]
  },
  {
   "cell_type": "markdown",
   "id": "fd56757f",
   "metadata": {},
   "source": [
    "---"
   ]
  },
  {
   "cell_type": "markdown",
   "id": "0b2c81ce",
   "metadata": {},
   "source": [
    "<div style='text-align:center'>Elaborado por Álvaro Serrano del Rincón (<i>a.serranodelrincon@cunef.edu</i>)</div> \n",
    "<div style='text-align:center'>y Carlos Viñals Guitart (<i>carlos.vinals@cunef.edu</i>)</div> "
   ]
  }
 ],
 "metadata": {
  "kernelspec": {
   "display_name": "Python [conda env:ML_P1]",
   "language": "python",
   "name": "conda-env-ML_P1-py"
  },
  "language_info": {
   "codemirror_mode": {
    "name": "ipython",
    "version": 3
   },
   "file_extension": ".py",
   "mimetype": "text/x-python",
   "name": "python",
   "nbconvert_exporter": "python",
   "pygments_lexer": "ipython3",
   "version": "3.9.7"
  }
 },
 "nbformat": 4,
 "nbformat_minor": 5
}
