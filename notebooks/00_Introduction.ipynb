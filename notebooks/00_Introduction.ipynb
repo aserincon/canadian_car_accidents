{
 "cells": [
  {
   "cell_type": "markdown",
   "id": "ccc31ad4",
   "metadata": {},
   "source": [
    "<p align=\"center\">\n",
    "  <img width=\"100\" height=\"100\" src=\"../images/logo.png\">\n",
    "</p>"
   ]
  },
  {
   "cell_type": "markdown",
   "id": "e3d1ac88",
   "metadata": {},
   "source": [
    "<div>\n",
    "<h1>00. Introducción</h1> \n",
    "\n",
    "Canadian Car Accidents Practice <br>\n",
    "<strong>Aprendizaje Automático</strong> <br>\n",
    "<strong>Master Universitario en Ciencia de Datos<strong>\n",
    "</div>"
   ]
  },
  {
   "cell_type": "markdown",
   "id": "9b2c89a2",
   "metadata": {},
   "source": [
    "<div style='text-align:right'>Álvaro Serrano del Rincón (<i>a.serranodelrincon@cunef.edu</i>)</div>\n",
    "<div style='text-align:right'>Carlos Viñals Guitart (<i>carlos.vinals@cunef.edu</i>)</div>"
   ]
  },
  {
   "cell_type": "markdown",
   "id": "8f574b45",
   "metadata": {},
   "source": [
    "---"
   ]
  },
  {
   "cell_type": "markdown",
   "id": "da5330d6",
   "metadata": {},
   "source": [
    "## Introducción\n",
    "En este proyecto se encuentra el trabajo de creación de un modelo de aprendizaje automático para el dataset de *Canadian Car Accidents*. Como parte de la práctica de Aprendizaje Automático del Máster Universitario en Ciencia de Datos de CUNEF UNIVERSIDAD.\n",
    "\n",
    "En este notebook se explicará el objetivo(s) de negocio buscado en este trabajo y los contenidos en los que se estructura el mismo. "
   ]
  },
  {
   "cell_type": "markdown",
   "id": "348b09e1",
   "metadata": {},
   "source": [
    "## Objetivo de negocio\n",
    "En este trabajo a priori se pretende conocer el capital a inmobilizar por parte de las aseguradoras con la idea de poder suplir los incidentes en sus asegurados en relación a seguros de vehículos. \n",
    "\n",
    "Esto puede incluir la existencia o no de fallecidos en el mismo, la necesidad de un tratamiento médico posterior al accidente y las contingencias a las que haya que hacer frente ante un suceso de tales características.\n",
    "\n",
    "Algunas preguntas que nos podemos hacer son:\n",
    "- ¿Qué tipos de vehículos (modelos, antigüedad, etc.) y conductores son más propensos a tener accidentes (acción correctiva en prima)?\n",
    "- ¿Qué tipos de vehículos (modelos, antigüedad, etc.) y conductores son menos propensos a tener accidentes (descuento en prima)?\n",
    "- ¿Qué es lo que más contribuye a que existan fallecimientos en un accidente?\n",
    "- Dado un accidente, ¿se puede generar un modelo que prediga si habrá fallecimientos o no? ¿Si se va a necesitar tratamiento médico o no? Las aseguradoras tienen que inmovilizar capital para pagar estas casuísticas. \n"
   ]
  },
  {
   "cell_type": "markdown",
   "id": "15bc3916",
   "metadata": {},
   "source": [
    "## Los datos\n",
    "Para realizar este trabajo disponemos de un conjunto de datos referentes a personas involucradas en accidentes de coche en Canada. En concreto se dispone de información sobre la persona o personas, el vehículo donde viajaban y las características del lugar del accidente, así como otros datos relacionados con el tiempo (año, mes y día de semana).\n",
    "\n",
    "Se realizará un estudio detallado de estos datos con el objetivo de conocer mejor su composición y tratamiento."
   ]
  },
  {
   "cell_type": "markdown",
   "id": "05ef7603",
   "metadata": {},
   "source": [
    "## Estructuración"
   ]
  },
  {
   "cell_type": "markdown",
   "id": "b7baaf67",
   "metadata": {},
   "source": [
    "---"
   ]
  },
  {
   "cell_type": "markdown",
   "id": "3ecc7f12",
   "metadata": {},
   "source": [
    "<div style='text-align:center'>Elaborado por Álvaro Serrano del Rincón (<i>a.serranodelrincon@cunef.edu</i>)</div> \n",
    "<div style='text-align:center'>y Carlos Viñals Guitart (<i>carlos.vinals@cunef.edu</i>)</div> "
   ]
  }
 ],
 "metadata": {
  "interpreter": {
   "hash": "894f340193c41f12f2ad2c5acdc4753fc38d435e21d2507739dfff3cc0eea455"
  },
  "kernelspec": {
   "display_name": "Python 3 (ipykernel)",
   "language": "python",
   "name": "python3"
  },
  "language_info": {
   "codemirror_mode": {
    "name": "ipython",
    "version": 3
   },
   "file_extension": ".py",
   "mimetype": "text/x-python",
   "name": "python",
   "nbconvert_exporter": "python",
   "pygments_lexer": "ipython3",
   "version": "3.8.12"
  }
 },
 "nbformat": 4,
 "nbformat_minor": 5
}
