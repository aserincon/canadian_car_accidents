{
 "cells": [
  {
   "cell_type": "markdown",
   "id": "ccc31ad4",
   "metadata": {},
   "source": [
    "<p align=\"center\">\n",
    "  <img width=\"100\" height=\"100\" src=\"../images/logo.png\">\n",
    "</p>"
   ]
  },
  {
   "cell_type": "markdown",
   "id": "e3d1ac88",
   "metadata": {},
   "source": [
    "<div>\n",
    "<h1>00. Introducción</h1> \n",
    "\n",
    "Canadian Car Accidents Practice <br>\n",
    "<strong>Aprendizaje Automático</strong> <br>\n",
    "<strong>Master Universitario en Ciencia de Datos<strong>\n",
    "</div>"
   ]
  },
  {
   "cell_type": "markdown",
   "id": "9b2c89a2",
   "metadata": {},
   "source": [
    "<div style='text-align:right'>Álvaro Serrano del Rincón (<i>a.serranodelrincon@cunef.edu</i>)</div>\n",
    "<div style='text-align:right'>Carlos Viñals Guitart (<i>carlos.vinals@cunef.edu</i>)</div>"
   ]
  },
  {
   "cell_type": "markdown",
   "id": "8f574b45",
   "metadata": {},
   "source": [
    "---"
   ]
  },
  {
   "cell_type": "markdown",
   "id": "da5330d6",
   "metadata": {},
   "source": [
    "## Introducción\n",
    "En este proyecto se encuentra el trabajo de creación de un modelo de aprendizaje automático para el dataset de *Canadian Car Accidents*. Como parte de la práctica de Aprendizaje Automático del Máster Universitario en Ciencia de Datos de CUNEF UNIVERSIDAD.\n",
    "\n",
    "En este notebook se explicará el objetivo(s) de negocio buscado en este trabajo y los contenidos en los que se estructura el mismo. "
   ]
  },
  {
   "cell_type": "markdown",
   "id": "348b09e1",
   "metadata": {},
   "source": [
    "## Objetivo de negocio\n",
    "En este trabajo supone la creación de un modelo de Machine Learning de accidentes de tráfico, basándose en un dataset de accidentes de Canadá, de manera que pueda servir como herramienta de negocio para una aseguradora. Por lo tanto, el enfoque del trabajo será desde la perspectiva de una aseguradora, que empleará dicha investigación como base de cara a tomar decisiones empresariales, como conocer el capital a inmobilizar para posibles indemnizaciones, subir o bajar las primas en función del perfil de riesgo del asegurado, o bien determinar las primas de seguros de vida por citar algunos ejemplos. \n",
    "\n",
    "Por lo tanto, algunas de las preguntas a las que se tratará de responder son:\n",
    "- ¿Qué tipos de vehículos (modelos, antigüedad, etc.) y conductores son más propensos a tener accidentes (acción correctiva en prima)?\n",
    "- ¿Qué tipos de vehículos (modelos, antigüedad, etc.) y conductores son menos propensos a tener accidentes (descuento en prima)?\n",
    "- ¿Qué es lo que más contribuye a que existan fallecimientos en un accidente?\n",
    "- Dado un accidente, ¿se puede generar un modelo que prediga si habrá fallecimientos o no? ¿Se va a necesitar tratamiento médico o no? Las aseguradoras tienen que inmovilizar capital para pagar estas casuísticas. \n"
   ]
  },
  {
   "cell_type": "markdown",
   "id": "15bc3916",
   "metadata": {},
   "source": [
    "## Los datos\n",
    "Los datos empleados para realizar el análisis incluyen información sobre la persona o personas involucradas en el siniestro, el vehículo donde viajaban, las características del lugar del accidente, datos relacionados con el tiempo (año, mes y día de semana), la existencia o no de fallecidos en el mismo o la necesidad de un tratamiento médico posterior al accidente, por citar algunos ejemplos.\n",
    "\n",
    "Las variables del modelo se explican detalladamente en el archivo ```DiccionarioDatos.pdf``` de la carpeta docs.\n"
   ]
  },
  {
   "cell_type": "markdown",
   "id": "05ef7603",
   "metadata": {},
   "source": [
    "## Estructuración"
   ]
  },
  {
   "cell_type": "markdown",
   "id": "b7baaf67",
   "metadata": {},
   "source": [
    "---"
   ]
  },
  {
   "cell_type": "markdown",
   "id": "3ecc7f12",
   "metadata": {},
   "source": [
    "<div style='text-align:center'>Elaborado por Álvaro Serrano del Rincón (<i>a.serranodelrincon@cunef.edu</i>)</div> \n",
    "<div style='text-align:center'>y Carlos Viñals Guitart (<i>carlos.vinals@cunef.edu</i>)</div> "
   ]
  }
 ],
 "metadata": {
  "interpreter": {
   "hash": "894f340193c41f12f2ad2c5acdc4753fc38d435e21d2507739dfff3cc0eea455"
  },
  "kernelspec": {
   "display_name": "Python 3 (ipykernel)",
   "language": "python",
   "name": "python3"
  },
  "language_info": {
   "codemirror_mode": {
    "name": "ipython",
    "version": 3
   },
   "file_extension": ".py",
   "mimetype": "text/x-python",
   "name": "python",
   "nbconvert_exporter": "python",
   "pygments_lexer": "ipython3",
   "version": "3.8.12"
  }
 },
 "nbformat": 4,
 "nbformat_minor": 5
}
