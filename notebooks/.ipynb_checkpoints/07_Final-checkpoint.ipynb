{
 "cells": [
  {
   "cell_type": "markdown",
   "id": "12d2babb",
   "metadata": {},
   "source": [
    "<p align=\"center\">\n",
    "    <!--If notebook is in folder notebooks change scr by \"../images/logo.png\"-->\n",
    "  <img width=\"100\" height=\"100\" src=\"../images/logo.png\">\n",
    "</p>"
   ]
  },
  {
   "cell_type": "markdown",
   "id": "c0b39481",
   "metadata": {},
   "source": [
    "<div>\n",
    "<h1>07. Conclusiones finales</h1>\n",
    "\n",
    "Canadian Car Accidents Practice <br>\n",
    "<strong>Aprendizaje Automático</strong> <br>\n",
    "<strong>Master Universitario en Ciencia de Datos</strong>\n",
    "</div>"
   ]
  },
  {
   "cell_type": "markdown",
   "id": "e96bed03",
   "metadata": {},
   "source": [
    "<div style='text-align:right'>Álvaro Serrano del Rincón (<i>a.serranodelrincon@cunef.edu</i>)</div>\n",
    "<div style='text-align:right'>Carlos Viñals Guitart (<i>carlos.vinals@cunef.edu</i>)</div>"
   ]
  },
  {
   "cell_type": "markdown",
   "id": "3420292a",
   "metadata": {},
   "source": [
    "---\n"
   ]
  },
  {
   "cell_type": "markdown",
   "id": "75d33bed",
   "metadata": {},
   "source": [
    "## 7.0 Introducción\n",
    "En este notebook enunciaremos las conclusiones relativas al trabajo realizado en el conjunto de las fases de este proyecto.\n",
    "Nos centraremos en las distintas etapas realizadas y finalmente extraeremos conclusiones general. También, enunciaremos tareas futuras y pendientes a raíz del trabajo realizado. \n",
    "\n",
    "Para este trabajo estamos utilizando un entorno de propósito espécifico."
   ]
  },
  {
   "cell_type": "code",
   "execution_count": 4,
   "id": "adac98eb",
   "metadata": {},
   "outputs": [
    {
     "name": "stdout",
     "output_type": "stream",
     "text": [
      "\n",
      "     active environment : ML_P1\n",
      "    active env location : C:\\Users\\carviagu\\anaconda3\\envs\\ML_P1\n",
      "            shell level : 2\n",
      "       user config file : C:\\Users\\carviagu\\.condarc\n",
      " populated config files : \n",
      "          conda version : 4.10.3\n",
      "    conda-build version : 3.21.4\n",
      "         python version : 3.8.8.final.0\n",
      "       virtual packages : __cuda=11.3=0\n",
      "                          __win=0=0\n",
      "                          __archspec=1=x86_64\n",
      "       base environment : C:\\Users\\carviagu\\anaconda3  (writable)\n",
      "      conda av data dir : C:\\Users\\carviagu\\anaconda3\\etc\\conda\n",
      "  conda av metadata url : None\n",
      "           channel URLs : https://repo.anaconda.com/pkgs/main/win-64\n",
      "                          https://repo.anaconda.com/pkgs/main/noarch\n",
      "                          https://repo.anaconda.com/pkgs/r/win-64\n",
      "                          https://repo.anaconda.com/pkgs/r/noarch\n",
      "                          https://repo.anaconda.com/pkgs/msys2/win-64\n",
      "                          https://repo.anaconda.com/pkgs/msys2/noarch\n",
      "          package cache : C:\\Users\\carviagu\\anaconda3\\pkgs\n",
      "                          C:\\Users\\carviagu\\.conda\\pkgs\n",
      "                          C:\\Users\\carviagu\\AppData\\Local\\conda\\conda\\pkgs\n",
      "       envs directories : C:\\Users\\carviagu\\anaconda3\\envs\n",
      "                          C:\\Users\\carviagu\\.conda\\envs\n",
      "                          C:\\Users\\carviagu\\AppData\\Local\\conda\\conda\\envs\n",
      "               platform : win-64\n",
      "             user-agent : conda/4.10.3 requests/2.25.1 CPython/3.8.8 Windows/10 Windows/10.0.19041\n",
      "          administrator : False\n",
      "             netrc file : None\n",
      "           offline mode : False\n",
      "\n"
     ]
    }
   ],
   "source": [
    "!conda info"
   ]
  },
  {
   "cell_type": "markdown",
   "id": "21e94544",
   "metadata": {},
   "source": [
    "### 7.0.1 Estructura\n",
    "1. Resumiendo\n",
    "2. Problemas encontrados\n",
    "3. Trabajos futuros\n",
    "    - API\n",
    "    - Otras pruebas de modelos\n",
    "    - El modelo P_ISEV"
   ]
  },
  {
   "cell_type": "markdown",
   "id": "6d4d93f1",
   "metadata": {},
   "source": [
    "## 7.1 Resumiendo\n",
    "\n",
    "En este trabajo nos hemos dedicado a desarollar un modelo de *machine learning* para predecir la mortalidad de un accidente de tráfico. Todo esto enfocado al ámbito de los seguros con el objetivo de poder conocer las necesidades de inmovilización de capital para poder hacer frente a estas contingencias. \n",
    "\n",
    "Primero hemos realizado un análisis de los datos. Nos hemos centrado en comprender su composición, características principales y como podíamos utilizarlo para elaborar modelos útiles. \n",
    "\n",
    "El dataset nos aporta información de las personas involucradas en un accidente. En concreto hemos determinado que podía utilizarse para predecir la mortalidad de un accidente realizando un agregado del mismo por accidentes, ya que solo esa información nos resultaría útil para un accidente en concreto. Por otro lado, se ha estudiado otro modelo basado en datos personales con el objetivo de determinar las necesidades médicas ante un accidente. En el trabajo nos hemos centrado en el primer modelo. \n",
    "\n",
    "Se ha realiado un estudio del dataset centrado en la agrupación de los datos para el modelo de ```C_SEV``` que predicirá la mortalidad de un accidente. Se eliminaron variables anómalas del conjunto de datos, redujeron categorías para facilitar el aprendizaje y analizado las relaciones existentes entre variables. Finalmente, se realizó un preprocesado del dataset final, posterior a su división en *train* y *test*. \n",
    "\n",
    "Destacamos el tratamiento de valores anómalos y especiales, donde se eliminaron o agruparon en la categoría que cumplía unas características similares. Además se realizó un *undersampling* de la variable mayoritaria en el *train* para solventar el importante desbalanceo existente durante el aprendizaje. \n",
    "\n",
    "En el modelo, creamos 5 modelos. El modelo ganador, es decir, el que obtuvo los mejores resultados a nivel de *recall* y *AUC* fue XGBoost. Se procedió a realizar una optimización del mismo donde mediante la técnica de *GridSearchCV* se balanceó las predicciones de ambas clases incrementando el valor *AUC* y sin perder *recall*. \n",
    "\n",
    "Finalmente, realizamos una interpretabilidad del modelo mediante la librería *SHAP*. Nos centramos en comprender su funcionamiento, las variables más relevantes para el mismo y que aspectos determinaban la probabilidad de ser clasificado de una determinada forma. "
   ]
  },
  {
   "cell_type": "markdown",
   "id": "6a8d095a",
   "metadata": {},
   "source": [
    "## 7.2 Problemas encontrados\n",
    "Durante la realización de este trabajo se han encontrado algunos problemas a los que nos hemos tenido que enfrentar con el objetivo de poder desarrollar nuestra labor. A continuación describimos algunos:\n",
    "- **Trabajo colaborativo**: Este trabajo se desarrolla en equipo, esto hace necesario establecer una metodolodía de trabajo que permita poder repartir tareas. La dependencia existente entre las fases del proyecto y la imposibilida de trabajar dos personas a la vez en el mismo notebook de manera remota requería un reparto equitativo y un sistema de control y disponibilidad rápida del trabajo realizado por cada uno. Ante este problema decidimos trabajar mediante un repositorio remoto en GitHub y haciendo uso del esquema de trabajo de Git ir realizando distintas partes del trabajo y poner a disponibilidad de la forma más rápida los últimos cambios realizados. Además junto al servicio de red Discord, estar en contacto continuo y realizando reuniniones periódicas para poner en común y resolver problemas. \n",
    "- **Recursos y tiempo**: En los trabajos de *machine learning* un aspecto clave que puede significar un cuello de botella es la ejecución de modelos, optimización y otros scripts necesarios. Los equipos que poseemos poseen una capacidad respetable pero no son del todo idóneos para poder obtener resultados en un tiempo razonable. En algunos casos, como la optimización, se ha optado por realizar una búsqueda de hiperparámetros por pasos, donde nos centramso en uno o dos hiperparámetros y vamos optimizando poco a poco el modelo. Así reduciamos el tiempo de espera y podiamos tomar deiciones de manera más frecuente para mejorar el mismo. "
   ]
  },
  {
   "cell_type": "markdown",
   "id": "3f165f2c",
   "metadata": {},
   "source": [
    "## 7.3 Trabajos futuros\n",
    "Para finalizar enunciamos algunas tareas pendientes y posibles formas de continuar el trabajo realizado:\n",
    "1. **API**: Una tarea pendiente que se pretende abordar es la elaboración de una *API*, a través de la cual se pueda solicitar al modelo de manera remota predicciones antes los datos de un accidente que le pasemos. Esta implementación se quiere realizar el framework de desarrollo web *Flask*, en python. \n",
    "2. **Otras pruebas de modelos**: El modelo actual utiliza unos datos siguiendo una codificación y características determinadas mediante una serie de decisiones a raíz del análisis. Sin embargo quedaría pendiente probar otras codificiones que no hayamos visto hasta ahora, incluso probar otros modelos. También probar una versión con valores nulos sin tratar para el XGBoost, pues este puede trabajr con estas variables. \n",
    "3. **Modelo P_ISEV**: Como se comenta en este trabajo otro modelo propuesto que no se ha desarrollado finalmente, es el de predicción de necesidades médicas. Quedaría pendiente desarrollar este modelo en un trabajo futuro. "
   ]
  },
  {
   "cell_type": "markdown",
   "id": "fd56757f",
   "metadata": {},
   "source": [
    "---"
   ]
  },
  {
   "cell_type": "markdown",
   "id": "0b2c81ce",
   "metadata": {},
   "source": [
    "<div style='text-align:center'>Elaborado por Álvaro Serrano del Rincón (<i>a.serranodelrincon@cunef.edu</i>)</div> \n",
    "<div style='text-align:center'>y Carlos Viñals Guitart (<i>carlos.vinals@cunef.edu</i>)</div> "
   ]
  }
 ],
 "metadata": {
  "kernelspec": {
   "display_name": "Python [conda env:ML_P1]",
   "language": "python",
   "name": "conda-env-ML_P1-py"
  },
  "language_info": {
   "codemirror_mode": {
    "name": "ipython",
    "version": 3
   },
   "file_extension": ".py",
   "mimetype": "text/x-python",
   "name": "python",
   "nbconvert_exporter": "python",
   "pygments_lexer": "ipython3",
   "version": "3.9.7"
  }
 },
 "nbformat": 4,
 "nbformat_minor": 5
}
