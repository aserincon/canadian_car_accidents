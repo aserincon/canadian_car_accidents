{
 "cells": [
  {
   "cell_type": "markdown",
   "id": "4a0b782f",
   "metadata": {},
   "source": [
    "<p align=\"center\">\n",
    "  <img width=\"100\" height=\"100\" src=\"../images/logo.png\">\n",
    "</p>"
   ]
  },
  {
   "cell_type": "markdown",
   "id": "8f7b8820",
   "metadata": {},
   "source": [
    "<div>\n",
    "<h1>03. Preproceso: Modelo C_SEV</h1> \n",
    "\n",
    "Canadian Car Accidents Practice <br>\n",
    "<strong>Aprendizaje Automático</strong> <br>\n",
    "<strong>Master Universitario en Ciencia de Datos<strong>\n",
    "</div>"
   ]
  },
  {
   "cell_type": "markdown",
   "id": "65f538c4",
   "metadata": {},
   "source": [
    "<div style='text-align:right'>Álvaro Serrano del Rincón (<i>a.serranodelrincon@cunef.edu</i>)</div>\n",
    "<div style='text-align:right'>Carlos Viñals Guitart (<i>carlos.vinals@cunef.edu</i>)</div>"
   ]
  },
  {
   "cell_type": "markdown",
   "id": "80ddd49a",
   "metadata": {},
   "source": [
    "---"
   ]
  },
  {
   "cell_type": "markdown",
   "id": "1cde5d6b",
   "metadata": {},
   "source": [
    "## 3.0 Introducción\n",
    "\n",
    "En este notebook realizaremos el preprocesado de los datos del dataset conforme al análisis realizado en el notebook EDA \n",
    "```01_EDA```. Para ello procederemos a explicar paso a paso las decisiones tomadas en cuanto a su preprocesado.\n",
    "\n",
    "Para este trabajo estamos utilizando un entorno de propósito espécifico."
   ]
  },
  {
   "cell_type": "code",
   "execution_count": 1,
   "id": "d6e740ea",
   "metadata": {},
   "outputs": [
    {
     "name": "stdout",
     "output_type": "stream",
     "text": [
      "\n",
      "     active environment : ML_P1\n",
      "    active env location : C:\\Users\\carviagu\\anaconda3\\envs\\ML_P1\n",
      "            shell level : 2\n",
      "       user config file : C:\\Users\\carviagu\\.condarc\n",
      " populated config files : \n",
      "          conda version : 4.10.3\n",
      "    conda-build version : 3.21.4\n",
      "         python version : 3.8.8.final.0\n",
      "       virtual packages : __cuda=11.3=0\n",
      "                          __win=0=0\n",
      "                          __archspec=1=x86_64\n",
      "       base environment : C:\\Users\\carviagu\\anaconda3  (writable)\n",
      "      conda av data dir : C:\\Users\\carviagu\\anaconda3\\etc\\conda\n",
      "  conda av metadata url : None\n",
      "           channel URLs : https://repo.anaconda.com/pkgs/main/win-64\n",
      "                          https://repo.anaconda.com/pkgs/main/noarch\n",
      "                          https://repo.anaconda.com/pkgs/r/win-64\n",
      "                          https://repo.anaconda.com/pkgs/r/noarch\n",
      "                          https://repo.anaconda.com/pkgs/msys2/win-64\n",
      "                          https://repo.anaconda.com/pkgs/msys2/noarch\n",
      "          package cache : C:\\Users\\carviagu\\anaconda3\\pkgs\n",
      "                          C:\\Users\\carviagu\\.conda\\pkgs\n",
      "                          C:\\Users\\carviagu\\AppData\\Local\\conda\\conda\\pkgs\n",
      "       envs directories : C:\\Users\\carviagu\\anaconda3\\envs\n",
      "                          C:\\Users\\carviagu\\.conda\\envs\n",
      "                          C:\\Users\\carviagu\\AppData\\Local\\conda\\conda\\envs\n",
      "               platform : win-64\n",
      "             user-agent : conda/4.10.3 requests/2.25.1 CPython/3.8.8 Windows/10 Windows/10.0.19041\n",
      "          administrator : False\n",
      "             netrc file : None\n",
      "           offline mode : False\n",
      "\n"
     ]
    }
   ],
   "source": [
    "# Verificamos el entorno: ML_P1\n",
    "!conda info"
   ]
  },
  {
   "cell_type": "markdown",
   "id": "59cb9541",
   "metadata": {},
   "source": [
    "### 3.0.1 Estructura\n",
    "\n",
    "<< PONER ESTRUCTURA >>"
   ]
  },
  {
   "cell_type": "markdown",
   "id": "37289651",
   "metadata": {},
   "source": [
    "## Librerías"
   ]
  },
  {
   "cell_type": "code",
   "execution_count": 2,
   "id": "597a182a",
   "metadata": {},
   "outputs": [],
   "source": [
    "import pandas as pd\n",
    "import numpy as np\n",
    "import seaborn as sns\n",
    "from matplotlib import pyplot as plt\n",
    "import matplotlib.ticker as ticker\n",
    "import plotly.express as px\n",
    "\n",
    "%matplotlib inline\n",
    "\n",
    "from sklearn.utils import resample\n",
    "from sklearn.model_selection import train_test_split\n",
    "from sklearn import preprocessing\n",
    "from sklearn.feature_selection import SelectFromModel\n",
    "from sklearn.linear_model import LogisticRegression"
   ]
  },
  {
   "cell_type": "markdown",
   "id": "1b1a24d6",
   "metadata": {},
   "source": [
    "## Scripts\n",
    "En este notebook procedemos a importar dos scripts con funciones útiles, previamente utilizadas en el EDA y que permitirán verificar el proceso de realización de las muestras de train y test."
   ]
  },
  {
   "cell_type": "code",
   "execution_count": 3,
   "id": "93e89e5f",
   "metadata": {},
   "outputs": [],
   "source": [
    "import sys\n",
    "\n",
    "import sys  \n",
    "sys.path.insert(0, '../scripts/')\n",
    "\n",
    "import csv_tools\n",
    "import eda_tools"
   ]
  },
  {
   "cell_type": "markdown",
   "id": "2be658ea",
   "metadata": {},
   "source": [
    "## 3.1 Lectura y preparación\n",
    "\n",
    "A continuación leeremos el dataset, de la misma forma que lo hicimos en el EDA."
   ]
  },
  {
   "cell_type": "code",
   "execution_count": 4,
   "id": "6854d062",
   "metadata": {},
   "outputs": [
    {
     "name": "stdout",
     "output_type": "stream",
     "text": [
      "Reading file...\n",
      "Reading ended.\n"
     ]
    }
   ],
   "source": [
    "# Función propia que verifica que existe el fichero de datos previamente.\n",
    "accidents_df = csv_tools.csv_import(origin=\"../data/sev_df_03.csv\")"
   ]
  },
  {
   "cell_type": "code",
   "execution_count": 5,
   "id": "f2a1f0ad",
   "metadata": {},
   "outputs": [
    {
     "data": {
      "text/html": [
       "<div>\n",
       "<style scoped>\n",
       "    .dataframe tbody tr th:only-of-type {\n",
       "        vertical-align: middle;\n",
       "    }\n",
       "\n",
       "    .dataframe tbody tr th {\n",
       "        vertical-align: top;\n",
       "    }\n",
       "\n",
       "    .dataframe thead th {\n",
       "        text-align: right;\n",
       "    }\n",
       "</style>\n",
       "<table border=\"1\" class=\"dataframe\">\n",
       "  <thead>\n",
       "    <tr style=\"text-align: right;\">\n",
       "      <th></th>\n",
       "      <th>C_YEAR</th>\n",
       "      <th>C_MNTH</th>\n",
       "      <th>C_WDAY</th>\n",
       "      <th>C_HOUR</th>\n",
       "      <th>C_SEV</th>\n",
       "      <th>C_VEHS</th>\n",
       "      <th>C_CONF</th>\n",
       "      <th>C_RCFG</th>\n",
       "      <th>C_WTHR</th>\n",
       "      <th>C_RSUR</th>\n",
       "      <th>C_RALN</th>\n",
       "      <th>C_TRAF</th>\n",
       "      <th>C_PERS</th>\n",
       "    </tr>\n",
       "  </thead>\n",
       "  <tbody>\n",
       "    <tr>\n",
       "      <th>0</th>\n",
       "      <td>1999</td>\n",
       "      <td>oto/inv</td>\n",
       "      <td>week</td>\n",
       "      <td>night</td>\n",
       "      <td>2</td>\n",
       "      <td>01</td>\n",
       "      <td>one vehicle</td>\n",
       "      <td>normal</td>\n",
       "      <td>normal</td>\n",
       "      <td>dragged</td>\n",
       "      <td>normal</td>\n",
       "      <td>unsafe</td>\n",
       "      <td>1</td>\n",
       "    </tr>\n",
       "    <tr>\n",
       "      <th>1</th>\n",
       "      <td>1999</td>\n",
       "      <td>oto/inv</td>\n",
       "      <td>week</td>\n",
       "      <td>night</td>\n",
       "      <td>2</td>\n",
       "      <td>01</td>\n",
       "      <td>one vehicle</td>\n",
       "      <td>normal</td>\n",
       "      <td>normal</td>\n",
       "      <td>dragged</td>\n",
       "      <td>normal</td>\n",
       "      <td>unsafe</td>\n",
       "      <td>1</td>\n",
       "    </tr>\n",
       "    <tr>\n",
       "      <th>2</th>\n",
       "      <td>1999</td>\n",
       "      <td>oto/inv</td>\n",
       "      <td>week</td>\n",
       "      <td>night</td>\n",
       "      <td>2</td>\n",
       "      <td>01</td>\n",
       "      <td>one vehicle</td>\n",
       "      <td>normal</td>\n",
       "      <td>bad</td>\n",
       "      <td>normal</td>\n",
       "      <td>normal</td>\n",
       "      <td>unsafe</td>\n",
       "      <td>1</td>\n",
       "    </tr>\n",
       "    <tr>\n",
       "      <th>3</th>\n",
       "      <td>1999</td>\n",
       "      <td>oto/inv</td>\n",
       "      <td>week</td>\n",
       "      <td>night</td>\n",
       "      <td>2</td>\n",
       "      <td>01</td>\n",
       "      <td>one vehicle</td>\n",
       "      <td>normal</td>\n",
       "      <td>bad</td>\n",
       "      <td>dragged</td>\n",
       "      <td>curve/ramp</td>\n",
       "      <td>unsafe</td>\n",
       "      <td>2</td>\n",
       "    </tr>\n",
       "    <tr>\n",
       "      <th>4</th>\n",
       "      <td>1999</td>\n",
       "      <td>oto/inv</td>\n",
       "      <td>week</td>\n",
       "      <td>night</td>\n",
       "      <td>2</td>\n",
       "      <td>01</td>\n",
       "      <td>one vehicle</td>\n",
       "      <td>UU</td>\n",
       "      <td>normal</td>\n",
       "      <td>normal</td>\n",
       "      <td>curve/ramp</td>\n",
       "      <td>unsafe</td>\n",
       "      <td>1</td>\n",
       "    </tr>\n",
       "  </tbody>\n",
       "</table>\n",
       "</div>"
      ],
      "text/plain": [
       "   C_YEAR   C_MNTH C_WDAY C_HOUR  C_SEV C_VEHS       C_CONF  C_RCFG  C_WTHR  \\\n",
       "0    1999  oto/inv   week  night      2     01  one vehicle  normal  normal   \n",
       "1    1999  oto/inv   week  night      2     01  one vehicle  normal  normal   \n",
       "2    1999  oto/inv   week  night      2     01  one vehicle  normal     bad   \n",
       "3    1999  oto/inv   week  night      2     01  one vehicle  normal     bad   \n",
       "4    1999  oto/inv   week  night      2     01  one vehicle      UU  normal   \n",
       "\n",
       "    C_RSUR      C_RALN  C_TRAF  C_PERS  \n",
       "0  dragged      normal  unsafe       1  \n",
       "1  dragged      normal  unsafe       1  \n",
       "2   normal      normal  unsafe       1  \n",
       "3  dragged  curve/ramp  unsafe       2  \n",
       "4   normal  curve/ramp  unsafe       1  "
      ]
     },
     "execution_count": 5,
     "metadata": {},
     "output_type": "execute_result"
    }
   ],
   "source": [
    "accidents_df.head()"
   ]
  },
  {
   "cell_type": "markdown",
   "id": "f8dffbcd",
   "metadata": {},
   "source": [
    "## 3.2 Train y Test\n",
    "A continuación vamos a proceder a crear y dividir los datos en Train (muestra de entrenamiento) y test (muestra de test) que usaremos para nuestros modelos. "
   ]
  },
  {
   "cell_type": "code",
   "execution_count": 6,
   "id": "0f89e7e0",
   "metadata": {},
   "outputs": [],
   "source": [
    "# Separamos los valores (X) de la variable objetivo (Y)\n",
    "X = accidents_df.drop('C_SEV', axis=1)\n",
    "Y = accidents_df['C_SEV']\n",
    "\n",
    "# Realizamos la división de train y test\n",
    "X_train, X_test, Y_train, Y_test = train_test_split(X, Y, test_size=0.20, random_state=1234, stratify=Y)"
   ]
  },
  {
   "cell_type": "markdown",
   "id": "e7c61150",
   "metadata": {},
   "source": [
    "## 3.3 Balanceo de la variable objetivo en Train\n",
    "En el EDA pudimos apreciar como había un importante desequilibrio en la variable objetivo, existiendo un 98% y 2% de accidentes no mortales y mortales respectivamente. "
   ]
  },
  {
   "cell_type": "code",
   "execution_count": 7,
   "id": "be4415b6",
   "metadata": {},
   "outputs": [
    {
     "data": {
      "text/html": [
       "<div>\n",
       "<style scoped>\n",
       "    .dataframe tbody tr th:only-of-type {\n",
       "        vertical-align: middle;\n",
       "    }\n",
       "\n",
       "    .dataframe tbody tr th {\n",
       "        vertical-align: top;\n",
       "    }\n",
       "\n",
       "    .dataframe thead th {\n",
       "        text-align: right;\n",
       "    }\n",
       "</style>\n",
       "<table border=\"1\" class=\"dataframe\">\n",
       "  <thead>\n",
       "    <tr style=\"text-align: right;\">\n",
       "      <th></th>\n",
       "      <th>index</th>\n",
       "      <th>percentaje</th>\n",
       "      <th>C_SEV</th>\n",
       "    </tr>\n",
       "  </thead>\n",
       "  <tbody>\n",
       "    <tr>\n",
       "      <th>0</th>\n",
       "      <td>2</td>\n",
       "      <td>98.059574</td>\n",
       "      <td>1405027</td>\n",
       "    </tr>\n",
       "    <tr>\n",
       "      <th>1</th>\n",
       "      <td>1</td>\n",
       "      <td>1.940426</td>\n",
       "      <td>27803</td>\n",
       "    </tr>\n",
       "  </tbody>\n",
       "</table>\n",
       "</div>"
      ],
      "text/plain": [
       "   index  percentaje    C_SEV\n",
       "0      2   98.059574  1405027\n",
       "1      1    1.940426    27803"
      ]
     },
     "execution_count": 7,
     "metadata": {},
     "output_type": "execute_result"
    }
   ],
   "source": [
    "X_train_sev = pd.concat([X_train, Y_train], axis=1)\n",
    "eda_tools.classes_overview(df = X_train_sev, obj_val = 'C_SEV')"
   ]
  },
  {
   "cell_type": "markdown",
   "id": "c8774272",
   "metadata": {},
   "source": [
    "Para que nuestro modelo entrene de la forma más adecuada vamos a realizar un balanceo de la variable objetivo en Train. Este no se realiza en test pues no nos importa su composición de la variable objetivo al no utilizarse como muestra de entrenamiento del modelo.\n",
    "\n",
    "Para ello realizaremos un remuestreo de los datos mediante la técnica de **subsampling** con el objetivo de reducir el número de muestras de la clase 2 (ningún fallecido) frente a las de 1 (al menos un fallecido). Para ello:\n",
    "* Primero, dividimos el dataset dos dataset, uno por clase.\n",
    "* Segundo, realizamos un resample de la clase mayoritaria, para extraer una muestra del mismo. \n",
    "* Finalmente, juntaremos ambos datasets para formar la muestra a utilizar. "
   ]
  },
  {
   "cell_type": "code",
   "execution_count": 8,
   "id": "35d7eb76",
   "metadata": {},
   "outputs": [],
   "source": [
    "# Dividimos la clases\n",
    "sev01_df = X_train_sev[X_train_sev['C_SEV'] == 1]\n",
    "sev02_df = X_train_sev[X_train_sev['C_SEV'] == 2]"
   ]
  },
  {
   "cell_type": "markdown",
   "id": "74887324",
   "metadata": {},
   "source": [
    "Realizamos una muestra de ```sev02_df``` con un tamaño superior al 5% de ```sev01_df```. Esto se realiza para que pese a reducir el desequilibrio existente, buscamos que se asemeje a la realidad y por lo tanto mantenga cierto grado de desequilibrio. \n",
    "\n",
    "Destacar que usamos como semilla el valor 0. Este se ha determinado de forma arbitraria, permitirá replicar los resultados en caso de querer realizar más pruebas."
   ]
  },
  {
   "cell_type": "code",
   "execution_count": 9,
   "id": "3d448ffe",
   "metadata": {},
   "outputs": [
    {
     "data": {
      "text/plain": [
       "1    27803\n",
       "2    27803\n",
       "Name: C_SEV, dtype: int64"
      ]
     },
     "execution_count": 9,
     "metadata": {},
     "output_type": "execute_result"
    }
   ],
   "source": [
    "# Tamaño a muestrear\n",
    "sample_size = int(sev01_df.shape[0] * (1.00))\n",
    "\n",
    "# Realizamos una muestra del sev02_df\n",
    "sev02_sam_df = resample(sev02_df, replace=True, n_samples = sample_size, random_state=0)\n",
    "\n",
    "# Juntamos y creamos la versión a utilizar\n",
    "X_train_sev = pd.concat([sev01_df, sev02_sam_df])\n",
    "X_train_sev['C_SEV'].value_counts()"
   ]
  },
  {
   "cell_type": "markdown",
   "id": "4f623848",
   "metadata": {},
   "source": [
    "Observamos como se ha reducido considerablemente la muestra de accidentes no mortales, y hemos podido equilibrar en cierto grado el dataset. "
   ]
  },
  {
   "cell_type": "code",
   "execution_count": 10,
   "id": "179c6eca",
   "metadata": {},
   "outputs": [],
   "source": [
    "Y_train = X_train_sev['C_SEV']\n",
    "X_train = X_train_sev.drop(['C_SEV'], axis=1)"
   ]
  },
  {
   "cell_type": "markdown",
   "id": "a260895e",
   "metadata": {},
   "source": [
    "## 3.4 Tratamiento\n",
    "A continuación procederemos a realizar la limpieza de los datos y su procesamiento:"
   ]
  },
  {
   "cell_type": "markdown",
   "id": "3422337b",
   "metadata": {},
   "source": [
    "Analizamos tipos:"
   ]
  },
  {
   "cell_type": "code",
   "execution_count": 11,
   "id": "6dad976a",
   "metadata": {},
   "outputs": [
    {
     "data": {
      "text/html": [
       "<div>\n",
       "<style scoped>\n",
       "    .dataframe tbody tr th:only-of-type {\n",
       "        vertical-align: middle;\n",
       "    }\n",
       "\n",
       "    .dataframe tbody tr th {\n",
       "        vertical-align: top;\n",
       "    }\n",
       "\n",
       "    .dataframe thead th {\n",
       "        text-align: right;\n",
       "    }\n",
       "</style>\n",
       "<table border=\"1\" class=\"dataframe\">\n",
       "  <thead>\n",
       "    <tr style=\"text-align: right;\">\n",
       "      <th></th>\n",
       "      <th>columna</th>\n",
       "      <th>tipo_dato</th>\n",
       "      <th>nulos</th>\n",
       "      <th>nulos%</th>\n",
       "    </tr>\n",
       "  </thead>\n",
       "  <tbody>\n",
       "    <tr>\n",
       "      <th>0</th>\n",
       "      <td>C_YEAR</td>\n",
       "      <td>int64</td>\n",
       "      <td>0</td>\n",
       "      <td>0.0</td>\n",
       "    </tr>\n",
       "    <tr>\n",
       "      <th>1</th>\n",
       "      <td>C_MNTH</td>\n",
       "      <td>object</td>\n",
       "      <td>0</td>\n",
       "      <td>0.0</td>\n",
       "    </tr>\n",
       "    <tr>\n",
       "      <th>2</th>\n",
       "      <td>C_WDAY</td>\n",
       "      <td>object</td>\n",
       "      <td>0</td>\n",
       "      <td>0.0</td>\n",
       "    </tr>\n",
       "    <tr>\n",
       "      <th>3</th>\n",
       "      <td>C_HOUR</td>\n",
       "      <td>object</td>\n",
       "      <td>0</td>\n",
       "      <td>0.0</td>\n",
       "    </tr>\n",
       "    <tr>\n",
       "      <th>4</th>\n",
       "      <td>C_VEHS</td>\n",
       "      <td>object</td>\n",
       "      <td>0</td>\n",
       "      <td>0.0</td>\n",
       "    </tr>\n",
       "    <tr>\n",
       "      <th>5</th>\n",
       "      <td>C_CONF</td>\n",
       "      <td>object</td>\n",
       "      <td>0</td>\n",
       "      <td>0.0</td>\n",
       "    </tr>\n",
       "    <tr>\n",
       "      <th>6</th>\n",
       "      <td>C_RCFG</td>\n",
       "      <td>object</td>\n",
       "      <td>0</td>\n",
       "      <td>0.0</td>\n",
       "    </tr>\n",
       "    <tr>\n",
       "      <th>7</th>\n",
       "      <td>C_WTHR</td>\n",
       "      <td>object</td>\n",
       "      <td>0</td>\n",
       "      <td>0.0</td>\n",
       "    </tr>\n",
       "    <tr>\n",
       "      <th>8</th>\n",
       "      <td>C_RSUR</td>\n",
       "      <td>object</td>\n",
       "      <td>0</td>\n",
       "      <td>0.0</td>\n",
       "    </tr>\n",
       "    <tr>\n",
       "      <th>9</th>\n",
       "      <td>C_RALN</td>\n",
       "      <td>object</td>\n",
       "      <td>0</td>\n",
       "      <td>0.0</td>\n",
       "    </tr>\n",
       "    <tr>\n",
       "      <th>10</th>\n",
       "      <td>C_TRAF</td>\n",
       "      <td>object</td>\n",
       "      <td>0</td>\n",
       "      <td>0.0</td>\n",
       "    </tr>\n",
       "    <tr>\n",
       "      <th>11</th>\n",
       "      <td>C_PERS</td>\n",
       "      <td>int64</td>\n",
       "      <td>0</td>\n",
       "      <td>0.0</td>\n",
       "    </tr>\n",
       "  </tbody>\n",
       "</table>\n",
       "</div>"
      ],
      "text/plain": [
       "   columna tipo_dato  nulos  nulos%\n",
       "0   C_YEAR     int64      0     0.0\n",
       "1   C_MNTH    object      0     0.0\n",
       "2   C_WDAY    object      0     0.0\n",
       "3   C_HOUR    object      0     0.0\n",
       "4   C_VEHS    object      0     0.0\n",
       "5   C_CONF    object      0     0.0\n",
       "6   C_RCFG    object      0     0.0\n",
       "7   C_WTHR    object      0     0.0\n",
       "8   C_RSUR    object      0     0.0\n",
       "9   C_RALN    object      0     0.0\n",
       "10  C_TRAF    object      0     0.0\n",
       "11  C_PERS     int64      0     0.0"
      ]
     },
     "execution_count": 11,
     "metadata": {},
     "output_type": "execute_result"
    }
   ],
   "source": [
    "eda_tools.dataset_overview(data = X_train)"
   ]
  },
  {
   "cell_type": "markdown",
   "id": "6a3f7b5a",
   "metadata": {},
   "source": [
    "### 3.4.2 Valores faltantes\n",
    "Para llevar a cabo este proceso realizaremos la conversión correspondiente por tipo de variable, esto es, pues el signficado que estas tienen es distinto. \n",
    "\n",
    "A nivel general si el porcentaje es inferior a 0.1 dedicidimos eliminar esas variables, en caso contrario aplicaremos una técnicas de sustitución de ese valor. Consideramos que un valor inferior a 0.1 no es relevante para los datos.\n",
    "\n",
    "Primero veamos como está la muestra de train:"
   ]
  },
  {
   "cell_type": "code",
   "execution_count": 12,
   "id": "b90fcd94",
   "metadata": {},
   "outputs": [
    {
     "data": {
      "text/html": [
       "<div>\n",
       "<style scoped>\n",
       "    .dataframe tbody tr th:only-of-type {\n",
       "        vertical-align: middle;\n",
       "    }\n",
       "\n",
       "    .dataframe tbody tr th {\n",
       "        vertical-align: top;\n",
       "    }\n",
       "\n",
       "    .dataframe thead th {\n",
       "        text-align: right;\n",
       "    }\n",
       "</style>\n",
       "<table border=\"1\" class=\"dataframe\">\n",
       "  <thead>\n",
       "    <tr style=\"text-align: right;\">\n",
       "      <th></th>\n",
       "      <th>column_name</th>\n",
       "      <th>U</th>\n",
       "      <th>U%</th>\n",
       "      <th>Q</th>\n",
       "      <th>Q%</th>\n",
       "      <th>total</th>\n",
       "      <th>total%</th>\n",
       "    </tr>\n",
       "  </thead>\n",
       "  <tbody>\n",
       "    <tr>\n",
       "      <th>0</th>\n",
       "      <td>C_YEAR</td>\n",
       "      <td>0</td>\n",
       "      <td>[0.0]</td>\n",
       "      <td>0</td>\n",
       "      <td>[0.0]</td>\n",
       "      <td>0</td>\n",
       "      <td>0.0</td>\n",
       "    </tr>\n",
       "    <tr>\n",
       "      <th>1</th>\n",
       "      <td>C_MNTH</td>\n",
       "      <td>2</td>\n",
       "      <td>[0.004]</td>\n",
       "      <td>0</td>\n",
       "      <td>[0.0]</td>\n",
       "      <td>2</td>\n",
       "      <td>0.0</td>\n",
       "    </tr>\n",
       "    <tr>\n",
       "      <th>2</th>\n",
       "      <td>C_WDAY</td>\n",
       "      <td>11</td>\n",
       "      <td>[0.02]</td>\n",
       "      <td>0</td>\n",
       "      <td>[0.0]</td>\n",
       "      <td>11</td>\n",
       "      <td>0.0</td>\n",
       "    </tr>\n",
       "    <tr>\n",
       "      <th>3</th>\n",
       "      <td>C_HOUR</td>\n",
       "      <td>792</td>\n",
       "      <td>[1.424]</td>\n",
       "      <td>0</td>\n",
       "      <td>[0.0]</td>\n",
       "      <td>792</td>\n",
       "      <td>1.4</td>\n",
       "    </tr>\n",
       "    <tr>\n",
       "      <th>4</th>\n",
       "      <td>C_VEHS</td>\n",
       "      <td>5</td>\n",
       "      <td>[0.009]</td>\n",
       "      <td>0</td>\n",
       "      <td>[0.0]</td>\n",
       "      <td>5</td>\n",
       "      <td>0.0</td>\n",
       "    </tr>\n",
       "    <tr>\n",
       "      <th>5</th>\n",
       "      <td>C_CONF</td>\n",
       "      <td>1577</td>\n",
       "      <td>[2.836]</td>\n",
       "      <td>3038</td>\n",
       "      <td>[5.463]</td>\n",
       "      <td>4615</td>\n",
       "      <td>8.3</td>\n",
       "    </tr>\n",
       "    <tr>\n",
       "      <th>6</th>\n",
       "      <td>C_RCFG</td>\n",
       "      <td>4654</td>\n",
       "      <td>[8.37]</td>\n",
       "      <td>1966</td>\n",
       "      <td>[3.536]</td>\n",
       "      <td>6620</td>\n",
       "      <td>11.9</td>\n",
       "    </tr>\n",
       "    <tr>\n",
       "      <th>7</th>\n",
       "      <td>C_WTHR</td>\n",
       "      <td>836</td>\n",
       "      <td>[1.503]</td>\n",
       "      <td>169</td>\n",
       "      <td>[0.304]</td>\n",
       "      <td>1005</td>\n",
       "      <td>1.8</td>\n",
       "    </tr>\n",
       "    <tr>\n",
       "      <th>8</th>\n",
       "      <td>C_RSUR</td>\n",
       "      <td>728</td>\n",
       "      <td>[1.309]</td>\n",
       "      <td>1933</td>\n",
       "      <td>[3.476]</td>\n",
       "      <td>2661</td>\n",
       "      <td>4.8</td>\n",
       "    </tr>\n",
       "    <tr>\n",
       "      <th>9</th>\n",
       "      <td>C_RALN</td>\n",
       "      <td>3325</td>\n",
       "      <td>[5.98]</td>\n",
       "      <td>259</td>\n",
       "      <td>[0.466]</td>\n",
       "      <td>3584</td>\n",
       "      <td>6.4</td>\n",
       "    </tr>\n",
       "    <tr>\n",
       "      <th>10</th>\n",
       "      <td>C_TRAF</td>\n",
       "      <td>2385</td>\n",
       "      <td>[4.289]</td>\n",
       "      <td>868</td>\n",
       "      <td>[1.561]</td>\n",
       "      <td>3253</td>\n",
       "      <td>5.9</td>\n",
       "    </tr>\n",
       "    <tr>\n",
       "      <th>11</th>\n",
       "      <td>C_PERS</td>\n",
       "      <td>0</td>\n",
       "      <td>[0.0]</td>\n",
       "      <td>0</td>\n",
       "      <td>[0.0]</td>\n",
       "      <td>0</td>\n",
       "      <td>0.0</td>\n",
       "    </tr>\n",
       "  </tbody>\n",
       "</table>\n",
       "</div>"
      ],
      "text/plain": [
       "   column_name     U       U%     Q       Q%  total  total%\n",
       "0       C_YEAR     0    [0.0]     0    [0.0]      0     0.0\n",
       "1       C_MNTH     2  [0.004]     0    [0.0]      2     0.0\n",
       "2       C_WDAY    11   [0.02]     0    [0.0]     11     0.0\n",
       "3       C_HOUR   792  [1.424]     0    [0.0]    792     1.4\n",
       "4       C_VEHS     5  [0.009]     0    [0.0]      5     0.0\n",
       "5       C_CONF  1577  [2.836]  3038  [5.463]   4615     8.3\n",
       "6       C_RCFG  4654   [8.37]  1966  [3.536]   6620    11.9\n",
       "7       C_WTHR   836  [1.503]   169  [0.304]   1005     1.8\n",
       "8       C_RSUR   728  [1.309]  1933  [3.476]   2661     4.8\n",
       "9       C_RALN  3325   [5.98]   259  [0.466]   3584     6.4\n",
       "10      C_TRAF  2385  [4.289]   868  [1.561]   3253     5.9\n",
       "11      C_PERS     0    [0.0]     0    [0.0]      0     0.0"
      ]
     },
     "execution_count": 12,
     "metadata": {},
     "output_type": "execute_result"
    }
   ],
   "source": [
    "especial_values = [['U', 'UU', 'UUUU'], ['Q', 'QQ', 'QQQQ']]\n",
    "\n",
    "# Valoración del train\n",
    "eda_tools.special_values_summary(df = X_train, vals = especial_values)"
   ]
  },
  {
   "cell_type": "code",
   "execution_count": 13,
   "id": "74e55e4b",
   "metadata": {},
   "outputs": [
    {
     "data": {
      "text/html": [
       "<div>\n",
       "<style scoped>\n",
       "    .dataframe tbody tr th:only-of-type {\n",
       "        vertical-align: middle;\n",
       "    }\n",
       "\n",
       "    .dataframe tbody tr th {\n",
       "        vertical-align: top;\n",
       "    }\n",
       "\n",
       "    .dataframe thead th {\n",
       "        text-align: right;\n",
       "    }\n",
       "</style>\n",
       "<table border=\"1\" class=\"dataframe\">\n",
       "  <thead>\n",
       "    <tr style=\"text-align: right;\">\n",
       "      <th></th>\n",
       "      <th>column_name</th>\n",
       "      <th>U</th>\n",
       "      <th>U%</th>\n",
       "      <th>Q</th>\n",
       "      <th>Q%</th>\n",
       "      <th>total</th>\n",
       "      <th>total%</th>\n",
       "    </tr>\n",
       "  </thead>\n",
       "  <tbody>\n",
       "    <tr>\n",
       "      <th>0</th>\n",
       "      <td>C_YEAR</td>\n",
       "      <td>0</td>\n",
       "      <td>[0.0]</td>\n",
       "      <td>0</td>\n",
       "      <td>[0.0]</td>\n",
       "      <td>0</td>\n",
       "      <td>0.0</td>\n",
       "    </tr>\n",
       "    <tr>\n",
       "      <th>1</th>\n",
       "      <td>C_MNTH</td>\n",
       "      <td>24</td>\n",
       "      <td>[0.007]</td>\n",
       "      <td>0</td>\n",
       "      <td>[0.0]</td>\n",
       "      <td>24</td>\n",
       "      <td>0.0</td>\n",
       "    </tr>\n",
       "    <tr>\n",
       "      <th>2</th>\n",
       "      <td>C_WDAY</td>\n",
       "      <td>96</td>\n",
       "      <td>[0.027]</td>\n",
       "      <td>0</td>\n",
       "      <td>[0.0]</td>\n",
       "      <td>96</td>\n",
       "      <td>0.0</td>\n",
       "    </tr>\n",
       "    <tr>\n",
       "      <th>3</th>\n",
       "      <td>C_HOUR</td>\n",
       "      <td>4540</td>\n",
       "      <td>[1.267]</td>\n",
       "      <td>0</td>\n",
       "      <td>[0.0]</td>\n",
       "      <td>4540</td>\n",
       "      <td>1.3</td>\n",
       "    </tr>\n",
       "    <tr>\n",
       "      <th>4</th>\n",
       "      <td>C_VEHS</td>\n",
       "      <td>24</td>\n",
       "      <td>[0.007]</td>\n",
       "      <td>0</td>\n",
       "      <td>[0.0]</td>\n",
       "      <td>24</td>\n",
       "      <td>0.0</td>\n",
       "    </tr>\n",
       "    <tr>\n",
       "      <th>5</th>\n",
       "      <td>C_CONF</td>\n",
       "      <td>13009</td>\n",
       "      <td>[3.632]</td>\n",
       "      <td>21035</td>\n",
       "      <td>[5.872]</td>\n",
       "      <td>34044</td>\n",
       "      <td>9.5</td>\n",
       "    </tr>\n",
       "    <tr>\n",
       "      <th>6</th>\n",
       "      <td>C_RCFG</td>\n",
       "      <td>35766</td>\n",
       "      <td>[9.985]</td>\n",
       "      <td>11890</td>\n",
       "      <td>[3.319]</td>\n",
       "      <td>47656</td>\n",
       "      <td>13.3</td>\n",
       "    </tr>\n",
       "    <tr>\n",
       "      <th>7</th>\n",
       "      <td>C_WTHR</td>\n",
       "      <td>6782</td>\n",
       "      <td>[1.893]</td>\n",
       "      <td>1099</td>\n",
       "      <td>[0.307]</td>\n",
       "      <td>7881</td>\n",
       "      <td>2.2</td>\n",
       "    </tr>\n",
       "    <tr>\n",
       "      <th>8</th>\n",
       "      <td>C_RSUR</td>\n",
       "      <td>5849</td>\n",
       "      <td>[1.633]</td>\n",
       "      <td>12546</td>\n",
       "      <td>[3.502]</td>\n",
       "      <td>18395</td>\n",
       "      <td>5.1</td>\n",
       "    </tr>\n",
       "    <tr>\n",
       "      <th>9</th>\n",
       "      <td>C_RALN</td>\n",
       "      <td>29573</td>\n",
       "      <td>[8.256]</td>\n",
       "      <td>2208</td>\n",
       "      <td>[0.616]</td>\n",
       "      <td>31781</td>\n",
       "      <td>8.9</td>\n",
       "    </tr>\n",
       "    <tr>\n",
       "      <th>10</th>\n",
       "      <td>C_TRAF</td>\n",
       "      <td>17558</td>\n",
       "      <td>[4.902]</td>\n",
       "      <td>6179</td>\n",
       "      <td>[1.725]</td>\n",
       "      <td>23737</td>\n",
       "      <td>6.6</td>\n",
       "    </tr>\n",
       "    <tr>\n",
       "      <th>11</th>\n",
       "      <td>C_PERS</td>\n",
       "      <td>0</td>\n",
       "      <td>[0.0]</td>\n",
       "      <td>0</td>\n",
       "      <td>[0.0]</td>\n",
       "      <td>0</td>\n",
       "      <td>0.0</td>\n",
       "    </tr>\n",
       "  </tbody>\n",
       "</table>\n",
       "</div>"
      ],
      "text/plain": [
       "   column_name      U       U%      Q       Q%  total  total%\n",
       "0       C_YEAR      0    [0.0]      0    [0.0]      0     0.0\n",
       "1       C_MNTH     24  [0.007]      0    [0.0]     24     0.0\n",
       "2       C_WDAY     96  [0.027]      0    [0.0]     96     0.0\n",
       "3       C_HOUR   4540  [1.267]      0    [0.0]   4540     1.3\n",
       "4       C_VEHS     24  [0.007]      0    [0.0]     24     0.0\n",
       "5       C_CONF  13009  [3.632]  21035  [5.872]  34044     9.5\n",
       "6       C_RCFG  35766  [9.985]  11890  [3.319]  47656    13.3\n",
       "7       C_WTHR   6782  [1.893]   1099  [0.307]   7881     2.2\n",
       "8       C_RSUR   5849  [1.633]  12546  [3.502]  18395     5.1\n",
       "9       C_RALN  29573  [8.256]   2208  [0.616]  31781     8.9\n",
       "10      C_TRAF  17558  [4.902]   6179  [1.725]  23737     6.6\n",
       "11      C_PERS      0    [0.0]      0    [0.0]      0     0.0"
      ]
     },
     "execution_count": 13,
     "metadata": {},
     "output_type": "execute_result"
    }
   ],
   "source": [
    "# Valoración del test\n",
    "eda_tools.special_values_summary(df = X_test, vals = especial_values)"
   ]
  },
  {
   "cell_type": "markdown",
   "id": "27009912",
   "metadata": {},
   "source": [
    "Generalmente analizaremos primero el porcentaje de valores especiales, siendo igual o inferior a 0.1% el criterio de eliminación de estos del dataset. En el resto se analizará la variable objetivo mayoritaria y se buscará el valor más frecuente con la misma variable objetivo para realizar la clasificación. En el caso de las variables ```Q``` se seguirá el mismo criterio si bien en algunos casos por razones de que no se tratan de simples datos faltantes deberán categorizarse de manera específica.\n",
    "Lo analizamos a continuación:"
   ]
  },
  {
   "cell_type": "markdown",
   "id": "f8f505e0",
   "metadata": {},
   "source": [
    "```C_MNTH```: Observamos valores ```U```, estos son inferiores a un 0.1% lo que los hace insignificantes dentro y por lo tanto los eliminamos."
   ]
  },
  {
   "cell_type": "code",
   "execution_count": 14,
   "id": "b3dbe33f",
   "metadata": {},
   "outputs": [],
   "source": [
    "# Train\n",
    "to_drop = X_train[X_train['C_MNTH'] == 'UU'].index\n",
    "X_train = X_train.drop(to_drop, axis=0)\n",
    "Y_train = Y_train.drop(to_drop, axis=0)\n",
    "\n",
    "# Test\n",
    "to_drop = X_test[X_test['C_MNTH'] == 'UU'].index\n",
    "X_test = X_test.drop(to_drop, axis=0)\n",
    "Y_test = Y_test.drop(to_drop, axis=0)"
   ]
  },
  {
   "cell_type": "markdown",
   "id": "0d356ee5",
   "metadata": {},
   "source": [
    "```C_WDAY```: Observamos valores ```U```, estos son inferiores a un 0.1% lo que los hace insignificantes dentro y por lo tanto los eliminamos."
   ]
  },
  {
   "cell_type": "code",
   "execution_count": 15,
   "id": "f3bd3d65",
   "metadata": {},
   "outputs": [],
   "source": [
    "# Train\n",
    "to_drop = X_train[X_train['C_WDAY'] == 'U'].index\n",
    "X_train = X_train.drop(to_drop, axis=0)\n",
    "Y_train = Y_train.drop(to_drop, axis=0)\n",
    "\n",
    "# Test\n",
    "to_drop = X_test[X_test['C_WDAY'] == 'U'].index\n",
    "X_test = X_test.drop(to_drop, axis=0)\n",
    "Y_test = Y_test.drop(to_drop, axis=0)"
   ]
  },
  {
   "cell_type": "markdown",
   "id": "1f1118bd",
   "metadata": {},
   "source": [
    "```C_HOUR```: Observamos que hay valores ```U```. Hacemos uso de una tabla resumen que muestra el porcentaje de valores por categoría y la variable objetivo mayoritaria de esa categoría."
   ]
  },
  {
   "cell_type": "code",
   "execution_count": 16,
   "id": "411b7ac1",
   "metadata": {},
   "outputs": [
    {
     "data": {
      "text/html": [
       "<div>\n",
       "<style scoped>\n",
       "    .dataframe tbody tr th:only-of-type {\n",
       "        vertical-align: middle;\n",
       "    }\n",
       "\n",
       "    .dataframe tbody tr th {\n",
       "        vertical-align: top;\n",
       "    }\n",
       "\n",
       "    .dataframe thead th {\n",
       "        text-align: right;\n",
       "    }\n",
       "</style>\n",
       "<table border=\"1\" class=\"dataframe\">\n",
       "  <thead>\n",
       "    <tr style=\"text-align: right;\">\n",
       "      <th></th>\n",
       "      <th>index</th>\n",
       "      <th>percentaje</th>\n",
       "      <th>C_HOUR</th>\n",
       "      <th>C_SEV</th>\n",
       "    </tr>\n",
       "  </thead>\n",
       "  <tbody>\n",
       "    <tr>\n",
       "      <th>0</th>\n",
       "      <td>afternoon</td>\n",
       "      <td>36.044608</td>\n",
       "      <td>20039</td>\n",
       "      <td>2</td>\n",
       "    </tr>\n",
       "    <tr>\n",
       "      <th>1</th>\n",
       "      <td>night</td>\n",
       "      <td>31.288785</td>\n",
       "      <td>17395</td>\n",
       "      <td>1</td>\n",
       "    </tr>\n",
       "    <tr>\n",
       "      <th>2</th>\n",
       "      <td>morning</td>\n",
       "      <td>31.247414</td>\n",
       "      <td>17372</td>\n",
       "      <td>2</td>\n",
       "    </tr>\n",
       "    <tr>\n",
       "      <th>3</th>\n",
       "      <td>UU</td>\n",
       "      <td>1.419192</td>\n",
       "      <td>789</td>\n",
       "      <td>1</td>\n",
       "    </tr>\n",
       "  </tbody>\n",
       "</table>\n",
       "</div>"
      ],
      "text/plain": [
       "       index  percentaje  C_HOUR  C_SEV\n",
       "0  afternoon   36.044608   20039      2\n",
       "1      night   31.288785   17395      1\n",
       "2    morning   31.247414   17372      2\n",
       "3         UU    1.419192     789      1"
      ]
     },
     "execution_count": 16,
     "metadata": {},
     "output_type": "execute_result"
    }
   ],
   "source": [
    "XY_train = X_train.copy()\n",
    "XY_train['C_SEV'] = Y_train\n",
    "eda_tools.classes_overview_target(df = XY_train, target = 'C_SEV', obj_val = 'C_HOUR')"
   ]
  },
  {
   "cell_type": "markdown",
   "id": "c2f7fbcf",
   "metadata": {},
   "source": [
    "Categorizaremos los valores ```UU``` como accidentes nocturnos (```night```), pues es la variable mayoritaria con su misma variable objetivo."
   ]
  },
  {
   "cell_type": "code",
   "execution_count": 17,
   "id": "93a64ca6",
   "metadata": {},
   "outputs": [],
   "source": [
    "X_train['C_HOUR'] = X_train['C_HOUR'].replace(to_replace = 'UU', value = 'night')\n",
    "X_test['C_HOUR'] = X_test['C_HOUR'].replace(to_replace = 'UU', value = 'night')"
   ]
  },
  {
   "cell_type": "markdown",
   "id": "18ce10dd",
   "metadata": {},
   "source": [
    "```C_VEHS```: Observamos valores ```U```, estos son inferiores a un 0.1% lo que los hace insignificantes dentro y por lo tanto los eliminamos."
   ]
  },
  {
   "cell_type": "code",
   "execution_count": 18,
   "id": "cd7dd9e9",
   "metadata": {},
   "outputs": [],
   "source": [
    "# Train\n",
    "to_drop = X_train[X_train['C_VEHS'] == 'UU'].index\n",
    "X_train = X_train.drop(to_drop, axis=0)\n",
    "Y_train = Y_train.drop(to_drop, axis=0)\n",
    "\n",
    "# Test\n",
    "to_drop = X_test[X_test['C_VEHS'] == 'UU'].index\n",
    "X_test = X_test.drop(to_drop, axis=0)\n",
    "Y_test = Y_test.drop(to_drop, axis=0)"
   ]
  },
  {
   "cell_type": "markdown",
   "id": "2806da87",
   "metadata": {},
   "source": [
    "```C_CONF```: Tiene valores ```U``` y ```Q```. Los valores ```Q``` por su naturaleza se asignan a la categoría ```other```, mientras que los valores ```U``` se categorizarán como ```back```, pues es el mayoritario con su misma variable objetivo."
   ]
  },
  {
   "cell_type": "code",
   "execution_count": 19,
   "id": "5d272809",
   "metadata": {},
   "outputs": [
    {
     "data": {
      "text/html": [
       "<div>\n",
       "<style scoped>\n",
       "    .dataframe tbody tr th:only-of-type {\n",
       "        vertical-align: middle;\n",
       "    }\n",
       "\n",
       "    .dataframe tbody tr th {\n",
       "        vertical-align: top;\n",
       "    }\n",
       "\n",
       "    .dataframe thead th {\n",
       "        text-align: right;\n",
       "    }\n",
       "</style>\n",
       "<table border=\"1\" class=\"dataframe\">\n",
       "  <thead>\n",
       "    <tr style=\"text-align: right;\">\n",
       "      <th></th>\n",
       "      <th>index</th>\n",
       "      <th>percentaje</th>\n",
       "      <th>C_CONF</th>\n",
       "      <th>C_SEV</th>\n",
       "    </tr>\n",
       "  </thead>\n",
       "  <tbody>\n",
       "    <tr>\n",
       "      <th>0</th>\n",
       "      <td>one vehicle</td>\n",
       "      <td>38.960245</td>\n",
       "      <td>21658</td>\n",
       "      <td>1</td>\n",
       "    </tr>\n",
       "    <tr>\n",
       "      <th>1</th>\n",
       "      <td>two opp dir</td>\n",
       "      <td>35.033279</td>\n",
       "      <td>19475</td>\n",
       "      <td>1</td>\n",
       "    </tr>\n",
       "    <tr>\n",
       "      <th>2</th>\n",
       "      <td>two same dir</td>\n",
       "      <td>17.710020</td>\n",
       "      <td>9845</td>\n",
       "      <td>2</td>\n",
       "    </tr>\n",
       "    <tr>\n",
       "      <th>3</th>\n",
       "      <td>QQ</td>\n",
       "      <td>5.461414</td>\n",
       "      <td>3036</td>\n",
       "      <td>2</td>\n",
       "    </tr>\n",
       "    <tr>\n",
       "      <th>4</th>\n",
       "      <td>UU</td>\n",
       "      <td>2.835042</td>\n",
       "      <td>1576</td>\n",
       "      <td>2</td>\n",
       "    </tr>\n",
       "  </tbody>\n",
       "</table>\n",
       "</div>"
      ],
      "text/plain": [
       "          index  percentaje  C_CONF  C_SEV\n",
       "0   one vehicle   38.960245   21658      1\n",
       "1   two opp dir   35.033279   19475      1\n",
       "2  two same dir   17.710020    9845      2\n",
       "3            QQ    5.461414    3036      2\n",
       "4            UU    2.835042    1576      2"
      ]
     },
     "execution_count": 19,
     "metadata": {},
     "output_type": "execute_result"
    }
   ],
   "source": [
    "XY_train = X_train.copy()\n",
    "XY_train['C_SEV'] = Y_train\n",
    "eda_tools.classes_overview_target(df = XY_train, target = 'C_SEV', obj_val = 'C_CONF')"
   ]
  },
  {
   "cell_type": "code",
   "execution_count": 20,
   "id": "c80f3b83",
   "metadata": {},
   "outputs": [],
   "source": [
    "# Valores QQ se engloban dentro de la categoría other\n",
    "X_train['C_CONF'] = X_train['C_CONF'].replace(to_replace = 'QQ', value = 'two same dir')\n",
    "X_test['C_CONF'] = X_test['C_CONF'].replace(to_replace = 'QQ', value = 'two same dir')\n",
    "\n",
    "# Valores UU se traspasan a la categoría de back\n",
    "X_train['C_CONF'] = X_train['C_CONF'].replace(to_replace = 'UU', value = 'two same dir')\n",
    "X_test['C_CONF'] = X_test['C_CONF'].replace(to_replace = 'UU', value = 'two same dir')"
   ]
  },
  {
   "cell_type": "markdown",
   "id": "d466ad16",
   "metadata": {},
   "source": [
    "```C_RCFG```: Tiene valores ```U``` y ```Q```. Los valores ```Q``` por su naturaleza se asignan a la categoría ```specific```, los valores ```U``` se categorizarán como ```specific``` también, pues coincide en variable objetivo. "
   ]
  },
  {
   "cell_type": "code",
   "execution_count": 21,
   "id": "89d674d0",
   "metadata": {},
   "outputs": [
    {
     "data": {
      "text/html": [
       "<div>\n",
       "<style scoped>\n",
       "    .dataframe tbody tr th:only-of-type {\n",
       "        vertical-align: middle;\n",
       "    }\n",
       "\n",
       "    .dataframe tbody tr th {\n",
       "        vertical-align: top;\n",
       "    }\n",
       "\n",
       "    .dataframe thead th {\n",
       "        text-align: right;\n",
       "    }\n",
       "</style>\n",
       "<table border=\"1\" class=\"dataframe\">\n",
       "  <thead>\n",
       "    <tr style=\"text-align: right;\">\n",
       "      <th></th>\n",
       "      <th>index</th>\n",
       "      <th>percentaje</th>\n",
       "      <th>C_RCFG</th>\n",
       "      <th>C_SEV</th>\n",
       "    </tr>\n",
       "  </thead>\n",
       "  <tbody>\n",
       "    <tr>\n",
       "      <th>0</th>\n",
       "      <td>normal</td>\n",
       "      <td>48.819932</td>\n",
       "      <td>27139</td>\n",
       "      <td>1</td>\n",
       "    </tr>\n",
       "    <tr>\n",
       "      <th>1</th>\n",
       "      <td>specific</td>\n",
       "      <td>39.282245</td>\n",
       "      <td>21837</td>\n",
       "      <td>2</td>\n",
       "    </tr>\n",
       "    <tr>\n",
       "      <th>2</th>\n",
       "      <td>UU</td>\n",
       "      <td>8.361216</td>\n",
       "      <td>4648</td>\n",
       "      <td>2</td>\n",
       "    </tr>\n",
       "    <tr>\n",
       "      <th>3</th>\n",
       "      <td>QQ</td>\n",
       "      <td>3.536607</td>\n",
       "      <td>1966</td>\n",
       "      <td>1</td>\n",
       "    </tr>\n",
       "  </tbody>\n",
       "</table>\n",
       "</div>"
      ],
      "text/plain": [
       "      index  percentaje  C_RCFG  C_SEV\n",
       "0    normal   48.819932   27139      1\n",
       "1  specific   39.282245   21837      2\n",
       "2        UU    8.361216    4648      2\n",
       "3        QQ    3.536607    1966      1"
      ]
     },
     "execution_count": 21,
     "metadata": {},
     "output_type": "execute_result"
    }
   ],
   "source": [
    "XY_train = X_train.copy()\n",
    "XY_train['C_SEV'] = Y_train\n",
    "eda_tools.classes_overview_target(df = XY_train, target = 'C_SEV', obj_val = 'C_RCFG')"
   ]
  },
  {
   "cell_type": "code",
   "execution_count": 22,
   "id": "d393339f",
   "metadata": {},
   "outputs": [],
   "source": [
    "# Valores QQ se engloban dentro de la categoría specific, no pueden ser normales\n",
    "X_train['C_RCFG'] = X_train['C_RCFG'].replace(to_replace = 'QQ', value = 'specific')\n",
    "X_test['C_RCFG'] = X_test['C_RCFG'].replace(to_replace = 'QQ', value = 'specific')\n",
    "\n",
    "# Valores UU se traspasan a la categoría de specific, misma C_SEV\n",
    "X_train['C_RCFG'] = X_train['C_RCFG'].replace(to_replace = 'UU', value = 'specific')\n",
    "X_test['C_RCFG'] = X_test['C_RCFG'].replace(to_replace = 'UU', value = 'specific')"
   ]
  },
  {
   "cell_type": "markdown",
   "id": "3c5f96a2",
   "metadata": {},
   "source": [
    "```C_WTHR```: Tiene valores ```U``` y ```Q```. Los valores ```Q``` por su naturaleza se asignan a la categoría ```bad```, asumimos que son condiciones poco habituales. En el caso de los valores ```U``` al no existir una coincidencia de variable objetivo asumimos que son condiciones normales y se clasificán como ```normal```."
   ]
  },
  {
   "cell_type": "code",
   "execution_count": 23,
   "id": "08fa50ec",
   "metadata": {},
   "outputs": [
    {
     "data": {
      "text/html": [
       "<div>\n",
       "<style scoped>\n",
       "    .dataframe tbody tr th:only-of-type {\n",
       "        vertical-align: middle;\n",
       "    }\n",
       "\n",
       "    .dataframe tbody tr th {\n",
       "        vertical-align: top;\n",
       "    }\n",
       "\n",
       "    .dataframe thead th {\n",
       "        text-align: right;\n",
       "    }\n",
       "</style>\n",
       "<table border=\"1\" class=\"dataframe\">\n",
       "  <thead>\n",
       "    <tr style=\"text-align: right;\">\n",
       "      <th></th>\n",
       "      <th>index</th>\n",
       "      <th>percentaje</th>\n",
       "      <th>C_WTHR</th>\n",
       "      <th>C_SEV</th>\n",
       "    </tr>\n",
       "  </thead>\n",
       "  <tbody>\n",
       "    <tr>\n",
       "      <th>0</th>\n",
       "      <td>normal</td>\n",
       "      <td>75.180788</td>\n",
       "      <td>41793</td>\n",
       "      <td>1</td>\n",
       "    </tr>\n",
       "    <tr>\n",
       "      <th>1</th>\n",
       "      <td>bad</td>\n",
       "      <td>23.011333</td>\n",
       "      <td>12792</td>\n",
       "      <td>1</td>\n",
       "    </tr>\n",
       "    <tr>\n",
       "      <th>2</th>\n",
       "      <td>U</td>\n",
       "      <td>1.503868</td>\n",
       "      <td>836</td>\n",
       "      <td>2</td>\n",
       "    </tr>\n",
       "    <tr>\n",
       "      <th>3</th>\n",
       "      <td>Q</td>\n",
       "      <td>0.304012</td>\n",
       "      <td>169</td>\n",
       "      <td>1</td>\n",
       "    </tr>\n",
       "  </tbody>\n",
       "</table>\n",
       "</div>"
      ],
      "text/plain": [
       "    index  percentaje  C_WTHR  C_SEV\n",
       "0  normal   75.180788   41793      1\n",
       "1     bad   23.011333   12792      1\n",
       "2       U    1.503868     836      2\n",
       "3       Q    0.304012     169      1"
      ]
     },
     "execution_count": 23,
     "metadata": {},
     "output_type": "execute_result"
    }
   ],
   "source": [
    "XY_train = X_train.copy()\n",
    "XY_train['C_SEV'] = Y_train\n",
    "eda_tools.classes_overview_target(df = XY_train, target = 'C_SEV', obj_val = 'C_WTHR')"
   ]
  },
  {
   "cell_type": "code",
   "execution_count": 24,
   "id": "381f12b7",
   "metadata": {},
   "outputs": [],
   "source": [
    "# Valores QQ se engloban dentro de la categoría bad, asumimos que son condiciones poco habituales\n",
    "X_train['C_WTHR'] = X_train['C_WTHR'].replace(to_replace = 'Q', value = 'bad')\n",
    "X_test['C_WTHR'] = X_test['C_WTHR'].replace(to_replace = 'Q', value = 'bad')\n",
    "\n",
    "# Valores UU se traspasan a la categoría de normal, variable mayoritaria (sin coincidencias de CSEV)\n",
    "X_train['C_WTHR'] = X_train['C_WTHR'].replace(to_replace = 'U', value = 'normal')\n",
    "X_test['C_WTHR'] = X_test['C_WTHR'].replace(to_replace = 'U', value = 'normal')"
   ]
  },
  {
   "cell_type": "markdown",
   "id": "e5ccf6fe",
   "metadata": {},
   "source": [
    "```C_RSUR```: Tiene valores ```U``` y ```Q```. Los cuales cuales clasificaremos como carreteras con problemas (```dragged```). Pues ambas poseen una variable objetivo mayoritaria común y, además, las ```Q``` por su razón de ser otro tipo de situación de carretera no contemplada la debemos de clasificar en esta segunda categoría."
   ]
  },
  {
   "cell_type": "code",
   "execution_count": 25,
   "id": "4d3a64ed",
   "metadata": {},
   "outputs": [
    {
     "data": {
      "text/html": [
       "<div>\n",
       "<style scoped>\n",
       "    .dataframe tbody tr th:only-of-type {\n",
       "        vertical-align: middle;\n",
       "    }\n",
       "\n",
       "    .dataframe tbody tr th {\n",
       "        vertical-align: top;\n",
       "    }\n",
       "\n",
       "    .dataframe thead th {\n",
       "        text-align: right;\n",
       "    }\n",
       "</style>\n",
       "<table border=\"1\" class=\"dataframe\">\n",
       "  <thead>\n",
       "    <tr style=\"text-align: right;\">\n",
       "      <th></th>\n",
       "      <th>index</th>\n",
       "      <th>percentaje</th>\n",
       "      <th>C_RSUR</th>\n",
       "      <th>C_SEV</th>\n",
       "    </tr>\n",
       "  </thead>\n",
       "  <tbody>\n",
       "    <tr>\n",
       "      <th>0</th>\n",
       "      <td>normal</td>\n",
       "      <td>81.111711</td>\n",
       "      <td>45090</td>\n",
       "      <td>1</td>\n",
       "    </tr>\n",
       "    <tr>\n",
       "      <th>1</th>\n",
       "      <td>dragged</td>\n",
       "      <td>14.101457</td>\n",
       "      <td>7839</td>\n",
       "      <td>2</td>\n",
       "    </tr>\n",
       "    <tr>\n",
       "      <th>2</th>\n",
       "      <td>Q</td>\n",
       "      <td>3.477244</td>\n",
       "      <td>1933</td>\n",
       "      <td>2</td>\n",
       "    </tr>\n",
       "    <tr>\n",
       "      <th>3</th>\n",
       "      <td>U</td>\n",
       "      <td>1.309588</td>\n",
       "      <td>728</td>\n",
       "      <td>2</td>\n",
       "    </tr>\n",
       "  </tbody>\n",
       "</table>\n",
       "</div>"
      ],
      "text/plain": [
       "     index  percentaje  C_RSUR  C_SEV\n",
       "0   normal   81.111711   45090      1\n",
       "1  dragged   14.101457    7839      2\n",
       "2        Q    3.477244    1933      2\n",
       "3        U    1.309588     728      2"
      ]
     },
     "execution_count": 25,
     "metadata": {},
     "output_type": "execute_result"
    }
   ],
   "source": [
    "XY_train = X_train.copy()\n",
    "XY_train['C_SEV'] = Y_train\n",
    "eda_tools.classes_overview_target(df = XY_train, target = 'C_SEV', obj_val = 'C_RSUR')"
   ]
  },
  {
   "cell_type": "code",
   "execution_count": 26,
   "id": "6d620ea3",
   "metadata": {},
   "outputs": [],
   "source": [
    "# Valores Q se engloban dentro de la categoría dragged, no pueden ser normales\n",
    "X_train['C_RSUR'] = X_train['C_RSUR'].replace(to_replace = 'Q', value = 'dragged')\n",
    "X_test['C_RSUR'] = X_test['C_RSUR'].replace(to_replace = 'Q', value = 'dragged')\n",
    "\n",
    "# Valores U se traspasan a la categoría de dragged, misma C_SEV\n",
    "X_train['C_RSUR'] = X_train['C_RSUR'].replace(to_replace = 'U', value = 'dragged')\n",
    "X_test['C_RSUR'] = X_test['C_RSUR'].replace(to_replace = 'U', value = 'dragged')"
   ]
  },
  {
   "cell_type": "markdown",
   "id": "116c772e",
   "metadata": {},
   "source": [
    "```C_RALN```: Observamos variables ```U``` y ```Q```. Las ```Q``` se clasifican como otros tipos de carreteras: ```curve/ramp```, pues no pueden ser de la otra categoría. En el caso de ```U```, siguiendo la mayoría de la variable objetivo se clasifica como ```normal```:"
   ]
  },
  {
   "cell_type": "code",
   "execution_count": 27,
   "id": "8fe5a2db",
   "metadata": {},
   "outputs": [
    {
     "data": {
      "text/html": [
       "<div>\n",
       "<style scoped>\n",
       "    .dataframe tbody tr th:only-of-type {\n",
       "        vertical-align: middle;\n",
       "    }\n",
       "\n",
       "    .dataframe tbody tr th {\n",
       "        vertical-align: top;\n",
       "    }\n",
       "\n",
       "    .dataframe thead th {\n",
       "        text-align: right;\n",
       "    }\n",
       "</style>\n",
       "<table border=\"1\" class=\"dataframe\">\n",
       "  <thead>\n",
       "    <tr style=\"text-align: right;\">\n",
       "      <th></th>\n",
       "      <th>index</th>\n",
       "      <th>percentaje</th>\n",
       "      <th>C_RALN</th>\n",
       "      <th>C_SEV</th>\n",
       "    </tr>\n",
       "  </thead>\n",
       "  <tbody>\n",
       "    <tr>\n",
       "      <th>0</th>\n",
       "      <td>normal</td>\n",
       "      <td>60.438928</td>\n",
       "      <td>33598</td>\n",
       "      <td>2</td>\n",
       "    </tr>\n",
       "    <tr>\n",
       "      <th>1</th>\n",
       "      <td>curve/ramp</td>\n",
       "      <td>33.117467</td>\n",
       "      <td>18410</td>\n",
       "      <td>1</td>\n",
       "    </tr>\n",
       "    <tr>\n",
       "      <th>2</th>\n",
       "      <td>U</td>\n",
       "      <td>5.979493</td>\n",
       "      <td>3324</td>\n",
       "      <td>2</td>\n",
       "    </tr>\n",
       "    <tr>\n",
       "      <th>3</th>\n",
       "      <td>Q</td>\n",
       "      <td>0.464112</td>\n",
       "      <td>258</td>\n",
       "      <td>2</td>\n",
       "    </tr>\n",
       "  </tbody>\n",
       "</table>\n",
       "</div>"
      ],
      "text/plain": [
       "        index  percentaje  C_RALN  C_SEV\n",
       "0      normal   60.438928   33598      2\n",
       "1  curve/ramp   33.117467   18410      1\n",
       "2           U    5.979493    3324      2\n",
       "3           Q    0.464112     258      2"
      ]
     },
     "execution_count": 27,
     "metadata": {},
     "output_type": "execute_result"
    }
   ],
   "source": [
    "XY_train = X_train.copy()\n",
    "XY_train['C_SEV'] = Y_train\n",
    "eda_tools.classes_overview_target(df = XY_train, target = 'C_SEV', obj_val = 'C_RALN')"
   ]
  },
  {
   "cell_type": "code",
   "execution_count": 28,
   "id": "33db5190",
   "metadata": {},
   "outputs": [],
   "source": [
    "# Valores Q se engloban dentro de la categoría curve/ramp, no pueden ser normales\n",
    "X_train['C_RALN'] = X_train['C_RALN'].replace(to_replace = 'Q', value = 'curve/ramp')\n",
    "X_test['C_RALN'] = X_test['C_RALN'].replace(to_replace = 'Q', value = 'curve/ramp')\n",
    "\n",
    "# Valores U se traspasan a la categoría normal, misma C_SEV\n",
    "X_train['C_RALN'] = X_train['C_RALN'].replace(to_replace = 'U', value = 'normal')\n",
    "X_test['C_RALN'] = X_test['C_RALN'].replace(to_replace = 'U', value = 'normal')"
   ]
  },
  {
   "cell_type": "markdown",
   "id": "aac90487",
   "metadata": {},
   "source": [
    "```C_TRAF```: Aquí se observa una situación similar a la anterior:"
   ]
  },
  {
   "cell_type": "code",
   "execution_count": 29,
   "id": "fbf93692",
   "metadata": {},
   "outputs": [
    {
     "data": {
      "text/html": [
       "<div>\n",
       "<style scoped>\n",
       "    .dataframe tbody tr th:only-of-type {\n",
       "        vertical-align: middle;\n",
       "    }\n",
       "\n",
       "    .dataframe tbody tr th {\n",
       "        vertical-align: top;\n",
       "    }\n",
       "\n",
       "    .dataframe thead th {\n",
       "        text-align: right;\n",
       "    }\n",
       "</style>\n",
       "<table border=\"1\" class=\"dataframe\">\n",
       "  <thead>\n",
       "    <tr style=\"text-align: right;\">\n",
       "      <th></th>\n",
       "      <th>index</th>\n",
       "      <th>percentaje</th>\n",
       "      <th>C_TRAF</th>\n",
       "      <th>C_SEV</th>\n",
       "    </tr>\n",
       "  </thead>\n",
       "  <tbody>\n",
       "    <tr>\n",
       "      <th>0</th>\n",
       "      <td>unsafe</td>\n",
       "      <td>66.837561</td>\n",
       "      <td>37155</td>\n",
       "      <td>1</td>\n",
       "    </tr>\n",
       "    <tr>\n",
       "      <th>1</th>\n",
       "      <td>safe</td>\n",
       "      <td>27.317863</td>\n",
       "      <td>15186</td>\n",
       "      <td>2</td>\n",
       "    </tr>\n",
       "    <tr>\n",
       "      <th>2</th>\n",
       "      <td>UU</td>\n",
       "      <td>4.283144</td>\n",
       "      <td>2381</td>\n",
       "      <td>2</td>\n",
       "    </tr>\n",
       "    <tr>\n",
       "      <th>3</th>\n",
       "      <td>QQ</td>\n",
       "      <td>1.561432</td>\n",
       "      <td>868</td>\n",
       "      <td>2</td>\n",
       "    </tr>\n",
       "  </tbody>\n",
       "</table>\n",
       "</div>"
      ],
      "text/plain": [
       "    index  percentaje  C_TRAF  C_SEV\n",
       "0  unsafe   66.837561   37155      1\n",
       "1    safe   27.317863   15186      2\n",
       "2      UU    4.283144    2381      2\n",
       "3      QQ    1.561432     868      2"
      ]
     },
     "execution_count": 29,
     "metadata": {},
     "output_type": "execute_result"
    }
   ],
   "source": [
    "XY_train = X_train.copy()\n",
    "XY_train['C_SEV'] = Y_train\n",
    "eda_tools.classes_overview_target(df = XY_train, target = 'C_SEV', obj_val = 'C_TRAF')"
   ]
  },
  {
   "cell_type": "code",
   "execution_count": 30,
   "id": "4837288a",
   "metadata": {},
   "outputs": [],
   "source": [
    "# Valores Q se engloban dentro de la categoría safe, otro tipo de medida de seguridad no contemplada\n",
    "X_train['C_TRAF'] = X_train['C_TRAF'].replace(to_replace = 'QQ', value = 'safe')\n",
    "X_test['C_TRAF'] = X_test['C_TRAF'].replace(to_replace = 'QQ', value = 'safe')\n",
    "\n",
    "# Valores U se traspasan a la categoría unsafe, misma C_SEV\n",
    "X_train['C_TRAF'] = X_train['C_TRAF'].replace(to_replace = 'UU', value = 'unsafe')\n",
    "X_test['C_TRAF'] = X_test['C_TRAF'].replace(to_replace = 'UU', value = 'unsafe')"
   ]
  },
  {
   "cell_type": "markdown",
   "id": "02d24797",
   "metadata": {},
   "source": [
    "Verificamos que todo es correcto:"
   ]
  },
  {
   "cell_type": "code",
   "execution_count": 31,
   "id": "71ccf7b1",
   "metadata": {},
   "outputs": [
    {
     "data": {
      "text/html": [
       "<div>\n",
       "<style scoped>\n",
       "    .dataframe tbody tr th:only-of-type {\n",
       "        vertical-align: middle;\n",
       "    }\n",
       "\n",
       "    .dataframe tbody tr th {\n",
       "        vertical-align: top;\n",
       "    }\n",
       "\n",
       "    .dataframe thead th {\n",
       "        text-align: right;\n",
       "    }\n",
       "</style>\n",
       "<table border=\"1\" class=\"dataframe\">\n",
       "  <thead>\n",
       "    <tr style=\"text-align: right;\">\n",
       "      <th></th>\n",
       "      <th>column_name</th>\n",
       "      <th>U</th>\n",
       "      <th>U%</th>\n",
       "      <th>Q</th>\n",
       "      <th>Q%</th>\n",
       "      <th>total</th>\n",
       "      <th>total%</th>\n",
       "    </tr>\n",
       "  </thead>\n",
       "  <tbody>\n",
       "    <tr>\n",
       "      <th>0</th>\n",
       "      <td>C_YEAR</td>\n",
       "      <td>0</td>\n",
       "      <td>[0.0]</td>\n",
       "      <td>0</td>\n",
       "      <td>[0.0]</td>\n",
       "      <td>0</td>\n",
       "      <td>0.0</td>\n",
       "    </tr>\n",
       "    <tr>\n",
       "      <th>1</th>\n",
       "      <td>C_MNTH</td>\n",
       "      <td>0</td>\n",
       "      <td>[0.0]</td>\n",
       "      <td>0</td>\n",
       "      <td>[0.0]</td>\n",
       "      <td>0</td>\n",
       "      <td>0.0</td>\n",
       "    </tr>\n",
       "    <tr>\n",
       "      <th>2</th>\n",
       "      <td>C_WDAY</td>\n",
       "      <td>0</td>\n",
       "      <td>[0.0]</td>\n",
       "      <td>0</td>\n",
       "      <td>[0.0]</td>\n",
       "      <td>0</td>\n",
       "      <td>0.0</td>\n",
       "    </tr>\n",
       "    <tr>\n",
       "      <th>3</th>\n",
       "      <td>C_HOUR</td>\n",
       "      <td>0</td>\n",
       "      <td>[0.0]</td>\n",
       "      <td>0</td>\n",
       "      <td>[0.0]</td>\n",
       "      <td>0</td>\n",
       "      <td>0.0</td>\n",
       "    </tr>\n",
       "    <tr>\n",
       "      <th>4</th>\n",
       "      <td>C_VEHS</td>\n",
       "      <td>0</td>\n",
       "      <td>[0.0]</td>\n",
       "      <td>0</td>\n",
       "      <td>[0.0]</td>\n",
       "      <td>0</td>\n",
       "      <td>0.0</td>\n",
       "    </tr>\n",
       "    <tr>\n",
       "      <th>5</th>\n",
       "      <td>C_CONF</td>\n",
       "      <td>0</td>\n",
       "      <td>[0.0]</td>\n",
       "      <td>0</td>\n",
       "      <td>[0.0]</td>\n",
       "      <td>0</td>\n",
       "      <td>0.0</td>\n",
       "    </tr>\n",
       "    <tr>\n",
       "      <th>6</th>\n",
       "      <td>C_RCFG</td>\n",
       "      <td>0</td>\n",
       "      <td>[0.0]</td>\n",
       "      <td>0</td>\n",
       "      <td>[0.0]</td>\n",
       "      <td>0</td>\n",
       "      <td>0.0</td>\n",
       "    </tr>\n",
       "    <tr>\n",
       "      <th>7</th>\n",
       "      <td>C_WTHR</td>\n",
       "      <td>0</td>\n",
       "      <td>[0.0]</td>\n",
       "      <td>0</td>\n",
       "      <td>[0.0]</td>\n",
       "      <td>0</td>\n",
       "      <td>0.0</td>\n",
       "    </tr>\n",
       "    <tr>\n",
       "      <th>8</th>\n",
       "      <td>C_RSUR</td>\n",
       "      <td>0</td>\n",
       "      <td>[0.0]</td>\n",
       "      <td>0</td>\n",
       "      <td>[0.0]</td>\n",
       "      <td>0</td>\n",
       "      <td>0.0</td>\n",
       "    </tr>\n",
       "    <tr>\n",
       "      <th>9</th>\n",
       "      <td>C_RALN</td>\n",
       "      <td>0</td>\n",
       "      <td>[0.0]</td>\n",
       "      <td>0</td>\n",
       "      <td>[0.0]</td>\n",
       "      <td>0</td>\n",
       "      <td>0.0</td>\n",
       "    </tr>\n",
       "    <tr>\n",
       "      <th>10</th>\n",
       "      <td>C_TRAF</td>\n",
       "      <td>0</td>\n",
       "      <td>[0.0]</td>\n",
       "      <td>0</td>\n",
       "      <td>[0.0]</td>\n",
       "      <td>0</td>\n",
       "      <td>0.0</td>\n",
       "    </tr>\n",
       "    <tr>\n",
       "      <th>11</th>\n",
       "      <td>C_PERS</td>\n",
       "      <td>0</td>\n",
       "      <td>[0.0]</td>\n",
       "      <td>0</td>\n",
       "      <td>[0.0]</td>\n",
       "      <td>0</td>\n",
       "      <td>0.0</td>\n",
       "    </tr>\n",
       "  </tbody>\n",
       "</table>\n",
       "</div>"
      ],
      "text/plain": [
       "   column_name  U     U%  Q     Q%  total  total%\n",
       "0       C_YEAR  0  [0.0]  0  [0.0]      0     0.0\n",
       "1       C_MNTH  0  [0.0]  0  [0.0]      0     0.0\n",
       "2       C_WDAY  0  [0.0]  0  [0.0]      0     0.0\n",
       "3       C_HOUR  0  [0.0]  0  [0.0]      0     0.0\n",
       "4       C_VEHS  0  [0.0]  0  [0.0]      0     0.0\n",
       "5       C_CONF  0  [0.0]  0  [0.0]      0     0.0\n",
       "6       C_RCFG  0  [0.0]  0  [0.0]      0     0.0\n",
       "7       C_WTHR  0  [0.0]  0  [0.0]      0     0.0\n",
       "8       C_RSUR  0  [0.0]  0  [0.0]      0     0.0\n",
       "9       C_RALN  0  [0.0]  0  [0.0]      0     0.0\n",
       "10      C_TRAF  0  [0.0]  0  [0.0]      0     0.0\n",
       "11      C_PERS  0  [0.0]  0  [0.0]      0     0.0"
      ]
     },
     "execution_count": 31,
     "metadata": {},
     "output_type": "execute_result"
    }
   ],
   "source": [
    "eda_tools.special_values_summary(df = X_train, vals = especial_values)"
   ]
  },
  {
   "cell_type": "code",
   "execution_count": 32,
   "id": "2d55594b",
   "metadata": {},
   "outputs": [
    {
     "data": {
      "text/html": [
       "<div>\n",
       "<style scoped>\n",
       "    .dataframe tbody tr th:only-of-type {\n",
       "        vertical-align: middle;\n",
       "    }\n",
       "\n",
       "    .dataframe tbody tr th {\n",
       "        vertical-align: top;\n",
       "    }\n",
       "\n",
       "    .dataframe thead th {\n",
       "        text-align: right;\n",
       "    }\n",
       "</style>\n",
       "<table border=\"1\" class=\"dataframe\">\n",
       "  <thead>\n",
       "    <tr style=\"text-align: right;\">\n",
       "      <th></th>\n",
       "      <th>column_name</th>\n",
       "      <th>U</th>\n",
       "      <th>U%</th>\n",
       "      <th>Q</th>\n",
       "      <th>Q%</th>\n",
       "      <th>total</th>\n",
       "      <th>total%</th>\n",
       "    </tr>\n",
       "  </thead>\n",
       "  <tbody>\n",
       "    <tr>\n",
       "      <th>0</th>\n",
       "      <td>C_YEAR</td>\n",
       "      <td>0</td>\n",
       "      <td>[0.0]</td>\n",
       "      <td>0</td>\n",
       "      <td>[0.0]</td>\n",
       "      <td>0</td>\n",
       "      <td>0.0</td>\n",
       "    </tr>\n",
       "    <tr>\n",
       "      <th>1</th>\n",
       "      <td>C_MNTH</td>\n",
       "      <td>0</td>\n",
       "      <td>[0.0]</td>\n",
       "      <td>0</td>\n",
       "      <td>[0.0]</td>\n",
       "      <td>0</td>\n",
       "      <td>0.0</td>\n",
       "    </tr>\n",
       "    <tr>\n",
       "      <th>2</th>\n",
       "      <td>C_WDAY</td>\n",
       "      <td>0</td>\n",
       "      <td>[0.0]</td>\n",
       "      <td>0</td>\n",
       "      <td>[0.0]</td>\n",
       "      <td>0</td>\n",
       "      <td>0.0</td>\n",
       "    </tr>\n",
       "    <tr>\n",
       "      <th>3</th>\n",
       "      <td>C_HOUR</td>\n",
       "      <td>0</td>\n",
       "      <td>[0.0]</td>\n",
       "      <td>0</td>\n",
       "      <td>[0.0]</td>\n",
       "      <td>0</td>\n",
       "      <td>0.0</td>\n",
       "    </tr>\n",
       "    <tr>\n",
       "      <th>4</th>\n",
       "      <td>C_VEHS</td>\n",
       "      <td>0</td>\n",
       "      <td>[0.0]</td>\n",
       "      <td>0</td>\n",
       "      <td>[0.0]</td>\n",
       "      <td>0</td>\n",
       "      <td>0.0</td>\n",
       "    </tr>\n",
       "    <tr>\n",
       "      <th>5</th>\n",
       "      <td>C_CONF</td>\n",
       "      <td>0</td>\n",
       "      <td>[0.0]</td>\n",
       "      <td>0</td>\n",
       "      <td>[0.0]</td>\n",
       "      <td>0</td>\n",
       "      <td>0.0</td>\n",
       "    </tr>\n",
       "    <tr>\n",
       "      <th>6</th>\n",
       "      <td>C_RCFG</td>\n",
       "      <td>0</td>\n",
       "      <td>[0.0]</td>\n",
       "      <td>0</td>\n",
       "      <td>[0.0]</td>\n",
       "      <td>0</td>\n",
       "      <td>0.0</td>\n",
       "    </tr>\n",
       "    <tr>\n",
       "      <th>7</th>\n",
       "      <td>C_WTHR</td>\n",
       "      <td>0</td>\n",
       "      <td>[0.0]</td>\n",
       "      <td>0</td>\n",
       "      <td>[0.0]</td>\n",
       "      <td>0</td>\n",
       "      <td>0.0</td>\n",
       "    </tr>\n",
       "    <tr>\n",
       "      <th>8</th>\n",
       "      <td>C_RSUR</td>\n",
       "      <td>0</td>\n",
       "      <td>[0.0]</td>\n",
       "      <td>0</td>\n",
       "      <td>[0.0]</td>\n",
       "      <td>0</td>\n",
       "      <td>0.0</td>\n",
       "    </tr>\n",
       "    <tr>\n",
       "      <th>9</th>\n",
       "      <td>C_RALN</td>\n",
       "      <td>0</td>\n",
       "      <td>[0.0]</td>\n",
       "      <td>0</td>\n",
       "      <td>[0.0]</td>\n",
       "      <td>0</td>\n",
       "      <td>0.0</td>\n",
       "    </tr>\n",
       "    <tr>\n",
       "      <th>10</th>\n",
       "      <td>C_TRAF</td>\n",
       "      <td>0</td>\n",
       "      <td>[0.0]</td>\n",
       "      <td>0</td>\n",
       "      <td>[0.0]</td>\n",
       "      <td>0</td>\n",
       "      <td>0.0</td>\n",
       "    </tr>\n",
       "    <tr>\n",
       "      <th>11</th>\n",
       "      <td>C_PERS</td>\n",
       "      <td>0</td>\n",
       "      <td>[0.0]</td>\n",
       "      <td>0</td>\n",
       "      <td>[0.0]</td>\n",
       "      <td>0</td>\n",
       "      <td>0.0</td>\n",
       "    </tr>\n",
       "  </tbody>\n",
       "</table>\n",
       "</div>"
      ],
      "text/plain": [
       "   column_name  U     U%  Q     Q%  total  total%\n",
       "0       C_YEAR  0  [0.0]  0  [0.0]      0     0.0\n",
       "1       C_MNTH  0  [0.0]  0  [0.0]      0     0.0\n",
       "2       C_WDAY  0  [0.0]  0  [0.0]      0     0.0\n",
       "3       C_HOUR  0  [0.0]  0  [0.0]      0     0.0\n",
       "4       C_VEHS  0  [0.0]  0  [0.0]      0     0.0\n",
       "5       C_CONF  0  [0.0]  0  [0.0]      0     0.0\n",
       "6       C_RCFG  0  [0.0]  0  [0.0]      0     0.0\n",
       "7       C_WTHR  0  [0.0]  0  [0.0]      0     0.0\n",
       "8       C_RSUR  0  [0.0]  0  [0.0]      0     0.0\n",
       "9       C_RALN  0  [0.0]  0  [0.0]      0     0.0\n",
       "10      C_TRAF  0  [0.0]  0  [0.0]      0     0.0\n",
       "11      C_PERS  0  [0.0]  0  [0.0]      0     0.0"
      ]
     },
     "execution_count": 32,
     "metadata": {},
     "output_type": "execute_result"
    }
   ],
   "source": [
    "eda_tools.special_values_summary(df = X_test, vals = especial_values)"
   ]
  },
  {
   "cell_type": "markdown",
   "id": "6572c202",
   "metadata": {},
   "source": [
    "Hemos tratado todos los valores especiales y ahora nuestro conjunto de datos no posee valores missings."
   ]
  },
  {
   "cell_type": "markdown",
   "id": "8bb81e91",
   "metadata": {},
   "source": [
    "### 3.4.3 Codificación de variables y tipos\n",
    "Ahora que hemos tratado los valores missings y especiales procedermos a modificar los tipos y codificaciones de las variables"
   ]
  },
  {
   "cell_type": "markdown",
   "id": "4e658002",
   "metadata": {},
   "source": [
    "#### 3.4.3.1 Variables numéricas\n",
    "Para este modelo consideramos variables numéricas: \n",
    "* ```C_YEAR```: Año del accidente\n",
    "* ```C_VEHS```: Número de vehículos implicados\n",
    "* ```C_PERS```: Número de personas implicadas\n",
    "\n",
    "Solo ```C_PERS``` es ya de tipo numérico. Convertimos las otras dos:"
   ]
  },
  {
   "cell_type": "code",
   "execution_count": 33,
   "id": "f0c30f3b",
   "metadata": {},
   "outputs": [],
   "source": [
    "numeric = ['C_YEAR', 'C_VEHS', 'C_PERS']\n",
    "for col in numeric:\n",
    "    X_train[col] = X_train[col].astype(float)\n",
    "    X_test[col] = X_test[col].astype(float)"
   ]
  },
  {
   "cell_type": "markdown",
   "id": "188a0441",
   "metadata": {},
   "source": [
    "#### 3.4.3.2 Variables categóricas: Encoding\n",
    "\n",
    "Vamos a codificar las variable categóricas. Repasemos primero la estructura de las categorías:"
   ]
  },
  {
   "cell_type": "code",
   "execution_count": 34,
   "id": "6fa5d5ec",
   "metadata": {},
   "outputs": [
    {
     "data": {
      "image/png": "[encoded data removed]",
      "text/plain": [
       "<Figure size 1080x2520 with 10 Axes>"
      ]
     },
     "metadata": {
      "needs_background": "light"
     },
     "output_type": "display_data"
    }
   ],
   "source": [
    "categorical = ['C_MNTH', 'C_WDAY', 'C_HOUR', 'C_CONF', \n",
    "               'C_RCFG', 'C_WTHR', 'C_RSUR', 'C_RALN', \n",
    "               'C_TRAF']\n",
    "\n",
    "XY_train = X_train.copy()\n",
    "XY_train['C_SEV'] = Y_train\n",
    "\n",
    "fig, axes = plt.subplots(5, 2, figsize=(15, 35), sharey=False)\n",
    "fig.suptitle('Categorial Values by Severity (normalized)')\n",
    "\n",
    "i = 0\n",
    "j = 0\n",
    "for cat in categorical:\n",
    "    temp = eda_tools.norm_category(df = XY_train, obj_val = 'C_SEV', cat_val = cat)\n",
    "    sns.barplot(data = temp, x = cat, y = 'group%', hue = 'C_SEV', ax = axes[i,j]);\n",
    "    if (j == 0): \n",
    "        j = 1\n",
    "    else:\n",
    "        j = 0\n",
    "        i += 1"
   ]
  },
  {
   "cell_type": "markdown",
   "id": "cec4ca87",
   "metadata": {},
   "source": [
    "Como norma general debido al elevado uso de categorías en algunas variables, se va a evitar utilizar téncicas como OneHotEncoder de manera abusiva pues crearía demasidas variables.\n",
    "\n",
    "**Label Encoder**\n",
    "\n",
    "Se hará uso del LabelEncoder para las variables con solo dos categorías. Estas son: ```C_RCFG```, ```C_WTHR```, ```C_RSUR```, ```C_RALN``` y ```C_TRAF```. Al tener únicamente dos categorías, resulta interesante hacer uso de 1 y 0 para poder diferenciarlas. \n",
    "\n",
    "Ref: https://scikit-learn.org/stable/modules/generated/sklearn.preprocessing.LabelEncoder.html"
   ]
  },
  {
   "cell_type": "code",
   "execution_count": 35,
   "id": "6a59487d",
   "metadata": {},
   "outputs": [],
   "source": [
    "labelCat = ['C_RCFG', 'C_WTHR', 'C_RSUR', 'C_RALN', 'C_TRAF', 'C_MNTH', 'C_WDAY']\n",
    "lb = preprocessing.LabelEncoder()"
   ]
  },
  {
   "cell_type": "code",
   "execution_count": 36,
   "id": "d75cc4e4",
   "metadata": {},
   "outputs": [],
   "source": [
    "for cat in labelCat:\n",
    "    X_train[cat] = lb.fit_transform(X_train[cat])\n",
    "    X_test[cat] = lb.fit_transform(X_test[cat])"
   ]
  },
  {
   "cell_type": "markdown",
   "id": "6b0b71d5",
   "metadata": {},
   "source": [
    "La variable objetivo hay que codificarla también:1 -> 0 y 2 -> 1"
   ]
  },
  {
   "cell_type": "code",
   "execution_count": 37,
   "id": "a7210cfa",
   "metadata": {},
   "outputs": [],
   "source": [
    "Y_train = lb.fit_transform(Y_train)\n",
    "Y_test = lb.fit_transform(Y_test)"
   ]
  },
  {
   "cell_type": "markdown",
   "id": "69de7da9",
   "metadata": {},
   "source": [
    "**One Hot Encoder**\n",
    "\n",
    "Finalmente, haremos uso del OneHotEncoder para la variable ```C_HOUR```. Esta solo tiene tres categorías lo que creará solo dos variables nuevas. \n",
    "\n",
    "Ref: https://scikit-learn.org/stable/modules/generated/sklearn.preprocessing.OneHotEncoder.html#sklearn.preprocessing.OneHotEncoder"
   ]
  },
  {
   "cell_type": "code",
   "execution_count": 38,
   "id": "3bc8db47",
   "metadata": {},
   "outputs": [],
   "source": [
    "ohe = preprocessing.OneHotEncoder()"
   ]
  },
  {
   "cell_type": "code",
   "execution_count": 39,
   "id": "84b19d81",
   "metadata": {},
   "outputs": [],
   "source": [
    "# Train\n",
    "categories = ohe.fit_transform(X_train[['C_HOUR']]).toarray()\n",
    "new_categories = ['C_HOUR_A', 'C_HOUR_M', 'C_HOUR_N']\n",
    "position = 0\n",
    "for nc in new_categories:\n",
    "    accum = list()\n",
    "    for enc in categories:\n",
    "        accum.append(enc[position])\n",
    "    X_train[nc] = accum\n",
    "    position += 1\n",
    "\n",
    "X_train = X_train.drop(['C_HOUR'], axis=1)"
   ]
  },
  {
   "cell_type": "code",
   "execution_count": 40,
   "id": "5adca973",
   "metadata": {},
   "outputs": [],
   "source": [
    "# Test\n",
    "categories = ohe.fit_transform(X_test[['C_HOUR']]).toarray()\n",
    "new_categories = ['C_HOUR_A', 'C_HOUR_M', 'C_HOUR_N']\n",
    "position = 0\n",
    "for nc in new_categories:\n",
    "    accum = list()\n",
    "    for enc in categories:\n",
    "        accum.append(enc[position])\n",
    "    X_test[nc] = accum\n",
    "    position += 1\n",
    "\n",
    "X_test = X_test.drop(['C_HOUR'], axis=1)"
   ]
  },
  {
   "cell_type": "code",
   "execution_count": 41,
   "id": "1c4ffc5b",
   "metadata": {},
   "outputs": [],
   "source": [
    "# Train\n",
    "categories = ohe.fit_transform(X_train[['C_CONF']]).toarray()\n",
    "new_categories = ['C_CONF_O', 'C_CONF_TO', 'C_CONF_TS']\n",
    "position = 0\n",
    "for nc in new_categories:\n",
    "    accum = list()\n",
    "    for enc in categories:\n",
    "        accum.append(enc[position])\n",
    "    X_train[nc] = accum\n",
    "    position += 1\n",
    "\n",
    "X_train = X_train.drop(['C_CONF'], axis=1)"
   ]
  },
  {
   "cell_type": "code",
   "execution_count": 42,
   "id": "942faeed",
   "metadata": {},
   "outputs": [],
   "source": [
    "# Test\n",
    "categories = ohe.fit_transform(X_test[['C_CONF']]).toarray()\n",
    "new_categories = ['C_CONF_O', 'C_CONF_TO', 'C_CONF_TS']\n",
    "position = 0\n",
    "for nc in new_categories:\n",
    "    accum = list()\n",
    "    for enc in categories:\n",
    "        accum.append(enc[position])\n",
    "    X_test[nc] = accum\n",
    "    position += 1\n",
    "\n",
    "X_test = X_test.drop(['C_CONF'], axis=1)"
   ]
  },
  {
   "cell_type": "markdown",
   "id": "26836cbf",
   "metadata": {},
   "source": [
    "### 3.4.4 Selección de variables\n",
    "\n",
    "#### 3.4.4.1 Correlaciones"
   ]
  },
  {
   "cell_type": "code",
   "execution_count": 43,
   "id": "f0bbddfe",
   "metadata": {},
   "outputs": [
    {
     "data": {
      "text/plain": [
       "<AxesSubplot:>"
      ]
     },
     "execution_count": 43,
     "metadata": {},
     "output_type": "execute_result"
    },
    {
     "data": {
      "image/png": "[encoded data removed]",
      "text/plain": [
       "<Figure size 432x288 with 2 Axes>"
      ]
     },
     "metadata": {
      "needs_background": "light"
     },
     "output_type": "display_data"
    }
   ],
   "source": [
    "XY_train = X_train.copy()\n",
    "XY_train['C_SEV'] = Y_train\n",
    "sns.heatmap(XY_train[['C_SEV', 'C_YEAR', 'C_VEHS', 'C_PERS']].corr(), annot = True)"
   ]
  },
  {
   "cell_type": "markdown",
   "id": "7f76d479",
   "metadata": {},
   "source": [
    "Analizamos las correlaciones de las variables continuas del modelo. Observamos como no existe una fuerte correlación con la variable objetivo, si bien las variables ```C_VEHS``` y ```C_PERS``` muestran un correlación a destacar. Esta es normal teniendo en cuenta que el número de vehículos involucrados tienen una relación con las personas involucradas al ser estas usuarios de estos vehículos."
   ]
  },
  {
   "cell_type": "markdown",
   "id": "34fd099c",
   "metadata": {},
   "source": [
    "#### 3.4.4.2 Regresión de Lasso\n",
    "A continuación procedemos a realizar una regresión de Lasso con el objetivo de valorar que variables del modelo son mayormente significativas e importantes para el mismo. De esta forma reducimos las variables y simplificamos el modelo."
   ]
  },
  {
   "cell_type": "code",
   "execution_count": 44,
   "id": "b93dab04",
   "metadata": {},
   "outputs": [
    {
     "data": {
      "text/plain": [
       "SelectFromModel(estimator=LogisticRegression(C=1, penalty='l1',\n",
       "                                             solver='liblinear'),\n",
       "                threshold=0.05)"
      ]
     },
     "execution_count": 44,
     "metadata": {},
     "output_type": "execute_result"
    }
   ],
   "source": [
    "sel_lasso = SelectFromModel(LogisticRegression(C=1, penalty='l1', \n",
    "                                          solver='liblinear'), threshold = 0.05) # jugar con el threshold\n",
    "sel_lasso.fit(X_train, Y_train)"
   ]
  },
  {
   "cell_type": "code",
   "execution_count": 45,
   "id": "51e8c752",
   "metadata": {},
   "outputs": [
    {
     "data": {
      "text/plain": [
       "Index(['C_MNTH', 'C_WDAY', 'C_VEHS', 'C_RCFG', 'C_RSUR', 'C_RALN', 'C_TRAF',\n",
       "       'C_HOUR_M', 'C_HOUR_N', 'C_CONF_TO', 'C_CONF_TS'],\n",
       "      dtype='object')"
      ]
     },
     "execution_count": 45,
     "metadata": {},
     "output_type": "execute_result"
    }
   ],
   "source": [
    "sel_lasso.get_support()\n",
    "selected_feat_lasso = X_train.columns[sel_lasso.get_support()]\n",
    "selected_feat_lasso"
   ]
  },
  {
   "cell_type": "code",
   "execution_count": 53,
   "id": "6fa8b821",
   "metadata": {},
   "outputs": [
    {
     "data": {
      "image/png": "[encoded data removed]",
      "text/plain": [
       "<Figure size 1080x2520 with 12 Axes>"
      ]
     },
     "metadata": {
      "needs_background": "light"
     },
     "output_type": "display_data"
    }
   ],
   "source": [
    "categorical = selected_feat_lasso\n",
    "\n",
    "XY_train = X_train.copy()\n",
    "XY_train['C_SEV'] = Y_train\n",
    "\n",
    "fig, axes = plt.subplots(6, 2, figsize=(15, 35), sharey=False)\n",
    "fig.suptitle('Categorial Values by Severity (normalized)')\n",
    "\n",
    "i = 0\n",
    "j = 0\n",
    "for cat in categorical:\n",
    "    temp = eda_tools.norm_category(df = XY_train, obj_val = 'C_SEV', cat_val = cat)\n",
    "    sns.barplot(data = temp, x = cat, y = 'group%', hue = 'C_SEV', ax = axes[i,j]);\n",
    "    if (j == 0): \n",
    "        j = 1\n",
    "    else:\n",
    "        j = 0\n",
    "        i += 1"
   ]
  },
  {
   "cell_type": "code",
   "execution_count": 46,
   "id": "77df59be",
   "metadata": {},
   "outputs": [
    {
     "data": {
      "image/png": "[encoded data removed]",
      "text/plain": [
       "<Figure size 1152x276.48 with 1 Axes>"
      ]
     },
     "metadata": {
      "needs_background": "light"
     },
     "output_type": "display_data"
    }
   ],
   "source": [
    "# Coeficientes del modelo\n",
    "# ==============================================================================\n",
    "df_coeficientes_lasso = pd.DataFrame(\n",
    "                        {'predictor': X_train.columns,\n",
    "                         'coef': sel_lasso.estimator_.coef_.flatten()}\n",
    "                  )\n",
    "\n",
    "fig, ax = plt.subplots(figsize=(16, 3.84))\n",
    "ax.stem(df_coeficientes_lasso.predictor, df_coeficientes_lasso.coef, markerfmt=' ')\n",
    "plt.xticks(rotation=90, ha='right', size=10)\n",
    "ax.set_xlabel('variable')\n",
    "ax.set_ylabel('coeficientes')\n",
    "ax.set_title('Coeficientes del modelo lasso');"
   ]
  },
  {
   "cell_type": "code",
   "execution_count": 47,
   "id": "a56406ca",
   "metadata": {},
   "outputs": [],
   "source": [
    "# Descomentar solo si hacemos uso de Lasso\n",
    "X_train = X_train[selected_feat_lasso]\n",
    "X_test = X_test[selected_feat_lasso]"
   ]
  },
  {
   "cell_type": "markdown",
   "id": "240c77d6",
   "metadata": {},
   "source": [
    "## 3.5 Modelo final"
   ]
  },
  {
   "cell_type": "markdown",
   "id": "a70d45c9",
   "metadata": {},
   "source": [
    "Finalmente, ya tenemos dos conjuntos procesados de train y test que podemos utilizar para realizar los modelos:"
   ]
  },
  {
   "cell_type": "markdown",
   "id": "783d5053",
   "metadata": {},
   "source": [
    "### 3.5.1 Train"
   ]
  },
  {
   "cell_type": "code",
   "execution_count": 48,
   "id": "a8fe0759",
   "metadata": {},
   "outputs": [
    {
     "data": {
      "text/html": [
       "<div>\n",
       "<style scoped>\n",
       "    .dataframe tbody tr th:only-of-type {\n",
       "        vertical-align: middle;\n",
       "    }\n",
       "\n",
       "    .dataframe tbody tr th {\n",
       "        vertical-align: top;\n",
       "    }\n",
       "\n",
       "    .dataframe thead th {\n",
       "        text-align: right;\n",
       "    }\n",
       "</style>\n",
       "<table border=\"1\" class=\"dataframe\">\n",
       "  <thead>\n",
       "    <tr style=\"text-align: right;\">\n",
       "      <th></th>\n",
       "      <th>C_MNTH</th>\n",
       "      <th>C_WDAY</th>\n",
       "      <th>C_VEHS</th>\n",
       "      <th>C_RCFG</th>\n",
       "      <th>C_RSUR</th>\n",
       "      <th>C_RALN</th>\n",
       "      <th>C_TRAF</th>\n",
       "      <th>C_HOUR_M</th>\n",
       "      <th>C_HOUR_N</th>\n",
       "      <th>C_CONF_TO</th>\n",
       "      <th>C_CONF_TS</th>\n",
       "    </tr>\n",
       "  </thead>\n",
       "  <tbody>\n",
       "    <tr>\n",
       "      <th>1592462</th>\n",
       "      <td>0</td>\n",
       "      <td>1</td>\n",
       "      <td>2.0</td>\n",
       "      <td>0</td>\n",
       "      <td>1</td>\n",
       "      <td>1</td>\n",
       "      <td>1</td>\n",
       "      <td>0.0</td>\n",
       "      <td>0.0</td>\n",
       "      <td>1.0</td>\n",
       "      <td>0.0</td>\n",
       "    </tr>\n",
       "    <tr>\n",
       "      <th>895090</th>\n",
       "      <td>1</td>\n",
       "      <td>0</td>\n",
       "      <td>2.0</td>\n",
       "      <td>0</td>\n",
       "      <td>1</td>\n",
       "      <td>0</td>\n",
       "      <td>1</td>\n",
       "      <td>0.0</td>\n",
       "      <td>1.0</td>\n",
       "      <td>1.0</td>\n",
       "      <td>0.0</td>\n",
       "    </tr>\n",
       "    <tr>\n",
       "      <th>527589</th>\n",
       "      <td>1</td>\n",
       "      <td>0</td>\n",
       "      <td>2.0</td>\n",
       "      <td>1</td>\n",
       "      <td>1</td>\n",
       "      <td>1</td>\n",
       "      <td>0</td>\n",
       "      <td>0.0</td>\n",
       "      <td>1.0</td>\n",
       "      <td>1.0</td>\n",
       "      <td>0.0</td>\n",
       "    </tr>\n",
       "    <tr>\n",
       "      <th>210194</th>\n",
       "      <td>1</td>\n",
       "      <td>1</td>\n",
       "      <td>1.0</td>\n",
       "      <td>1</td>\n",
       "      <td>1</td>\n",
       "      <td>1</td>\n",
       "      <td>1</td>\n",
       "      <td>1.0</td>\n",
       "      <td>0.0</td>\n",
       "      <td>0.0</td>\n",
       "      <td>0.0</td>\n",
       "    </tr>\n",
       "    <tr>\n",
       "      <th>540583</th>\n",
       "      <td>1</td>\n",
       "      <td>1</td>\n",
       "      <td>1.0</td>\n",
       "      <td>0</td>\n",
       "      <td>1</td>\n",
       "      <td>0</td>\n",
       "      <td>1</td>\n",
       "      <td>0.0</td>\n",
       "      <td>1.0</td>\n",
       "      <td>0.0</td>\n",
       "      <td>0.0</td>\n",
       "    </tr>\n",
       "  </tbody>\n",
       "</table>\n",
       "</div>"
      ],
      "text/plain": [
       "         C_MNTH  C_WDAY  C_VEHS  C_RCFG  C_RSUR  C_RALN  C_TRAF  C_HOUR_M  \\\n",
       "1592462       0       1     2.0       0       1       1       1       0.0   \n",
       "895090        1       0     2.0       0       1       0       1       0.0   \n",
       "527589        1       0     2.0       1       1       1       0       0.0   \n",
       "210194        1       1     1.0       1       1       1       1       1.0   \n",
       "540583        1       1     1.0       0       1       0       1       0.0   \n",
       "\n",
       "         C_HOUR_N  C_CONF_TO  C_CONF_TS  \n",
       "1592462       0.0        1.0        0.0  \n",
       "895090        1.0        1.0        0.0  \n",
       "527589        1.0        1.0        0.0  \n",
       "210194        0.0        0.0        0.0  \n",
       "540583        1.0        0.0        0.0  "
      ]
     },
     "execution_count": 48,
     "metadata": {},
     "output_type": "execute_result"
    }
   ],
   "source": [
    "X_train.head()"
   ]
  },
  {
   "cell_type": "code",
   "execution_count": 49,
   "id": "e6e18ba8",
   "metadata": {},
   "outputs": [],
   "source": [
    "# Guardado de train\n",
    "XY_train = X_train.copy()\n",
    "XY_train['C_SEV'] = Y_train\n",
    "\n",
    "# Revisar nombres antes de guardar (CUIDADO: Sobreescritura)\n",
    "# Crear nueva carpeta <model_x> si es nuevo\n",
    "XY_train.to_csv(\"../data/csev/model_4/trainCSEV.csv\", index=False)"
   ]
  },
  {
   "cell_type": "markdown",
   "id": "04b55aea",
   "metadata": {},
   "source": [
    "### 3.5.2 Test\n"
   ]
  },
  {
   "cell_type": "code",
   "execution_count": 50,
   "id": "1695cb2b",
   "metadata": {},
   "outputs": [
    {
     "data": {
      "text/html": [
       "<div>\n",
       "<style scoped>\n",
       "    .dataframe tbody tr th:only-of-type {\n",
       "        vertical-align: middle;\n",
       "    }\n",
       "\n",
       "    .dataframe tbody tr th {\n",
       "        vertical-align: top;\n",
       "    }\n",
       "\n",
       "    .dataframe thead th {\n",
       "        text-align: right;\n",
       "    }\n",
       "</style>\n",
       "<table border=\"1\" class=\"dataframe\">\n",
       "  <thead>\n",
       "    <tr style=\"text-align: right;\">\n",
       "      <th></th>\n",
       "      <th>C_MNTH</th>\n",
       "      <th>C_WDAY</th>\n",
       "      <th>C_VEHS</th>\n",
       "      <th>C_RCFG</th>\n",
       "      <th>C_RSUR</th>\n",
       "      <th>C_RALN</th>\n",
       "      <th>C_TRAF</th>\n",
       "      <th>C_HOUR_M</th>\n",
       "      <th>C_HOUR_N</th>\n",
       "      <th>C_CONF_TO</th>\n",
       "      <th>C_CONF_TS</th>\n",
       "    </tr>\n",
       "  </thead>\n",
       "  <tbody>\n",
       "    <tr>\n",
       "      <th>1573164</th>\n",
       "      <td>0</td>\n",
       "      <td>1</td>\n",
       "      <td>2.0</td>\n",
       "      <td>1</td>\n",
       "      <td>1</td>\n",
       "      <td>1</td>\n",
       "      <td>0</td>\n",
       "      <td>1.0</td>\n",
       "      <td>0.0</td>\n",
       "      <td>1.0</td>\n",
       "      <td>0.0</td>\n",
       "    </tr>\n",
       "    <tr>\n",
       "      <th>253000</th>\n",
       "      <td>0</td>\n",
       "      <td>0</td>\n",
       "      <td>4.0</td>\n",
       "      <td>0</td>\n",
       "      <td>1</td>\n",
       "      <td>1</td>\n",
       "      <td>1</td>\n",
       "      <td>0.0</td>\n",
       "      <td>1.0</td>\n",
       "      <td>0.0</td>\n",
       "      <td>0.0</td>\n",
       "    </tr>\n",
       "    <tr>\n",
       "      <th>1419439</th>\n",
       "      <td>1</td>\n",
       "      <td>1</td>\n",
       "      <td>1.0</td>\n",
       "      <td>1</td>\n",
       "      <td>1</td>\n",
       "      <td>0</td>\n",
       "      <td>1</td>\n",
       "      <td>0.0</td>\n",
       "      <td>1.0</td>\n",
       "      <td>0.0</td>\n",
       "      <td>0.0</td>\n",
       "    </tr>\n",
       "    <tr>\n",
       "      <th>271512</th>\n",
       "      <td>0</td>\n",
       "      <td>0</td>\n",
       "      <td>1.0</td>\n",
       "      <td>1</td>\n",
       "      <td>1</td>\n",
       "      <td>1</td>\n",
       "      <td>0</td>\n",
       "      <td>0.0</td>\n",
       "      <td>0.0</td>\n",
       "      <td>0.0</td>\n",
       "      <td>0.0</td>\n",
       "    </tr>\n",
       "    <tr>\n",
       "      <th>814279</th>\n",
       "      <td>1</td>\n",
       "      <td>1</td>\n",
       "      <td>1.0</td>\n",
       "      <td>1</td>\n",
       "      <td>1</td>\n",
       "      <td>1</td>\n",
       "      <td>1</td>\n",
       "      <td>0.0</td>\n",
       "      <td>1.0</td>\n",
       "      <td>0.0</td>\n",
       "      <td>0.0</td>\n",
       "    </tr>\n",
       "  </tbody>\n",
       "</table>\n",
       "</div>"
      ],
      "text/plain": [
       "         C_MNTH  C_WDAY  C_VEHS  C_RCFG  C_RSUR  C_RALN  C_TRAF  C_HOUR_M  \\\n",
       "1573164       0       1     2.0       1       1       1       0       1.0   \n",
       "253000        0       0     4.0       0       1       1       1       0.0   \n",
       "1419439       1       1     1.0       1       1       0       1       0.0   \n",
       "271512        0       0     1.0       1       1       1       0       0.0   \n",
       "814279        1       1     1.0       1       1       1       1       0.0   \n",
       "\n",
       "         C_HOUR_N  C_CONF_TO  C_CONF_TS  \n",
       "1573164       0.0        1.0        0.0  \n",
       "253000        1.0        0.0        0.0  \n",
       "1419439       1.0        0.0        0.0  \n",
       "271512        0.0        0.0        0.0  \n",
       "814279        1.0        0.0        0.0  "
      ]
     },
     "execution_count": 50,
     "metadata": {},
     "output_type": "execute_result"
    }
   ],
   "source": [
    "X_test.head()"
   ]
  },
  {
   "cell_type": "code",
   "execution_count": 51,
   "id": "523bffbd",
   "metadata": {},
   "outputs": [],
   "source": [
    "# Guardado de test\n",
    "XY_test = X_test.copy()\n",
    "XY_test['C_SEV'] = Y_test\n",
    "\n",
    "# Revisar nombres antes de guardar (CUIDADO: Sobreescritura)\n",
    "# Crear nueva carpeta <model_x> si es nuevo\n",
    "XY_test.to_csv(\"../data/csev/model_4/testCSEV.csv\", index=False)"
   ]
  },
  {
   "cell_type": "markdown",
   "id": "7ae79e60",
   "metadata": {},
   "source": [
    "---"
   ]
  },
  {
   "cell_type": "markdown",
   "id": "37753630",
   "metadata": {},
   "source": [
    "<div style='text-align:center'>Elaborado por Álvaro Serrano del Rincón (<i>a.serranodelrincon@cunef.edu</i>)</div> \n",
    "<div style='text-align:center'>y Carlos Viñals Guitart (<i>carlos.vinals@cunef.edu</i>)</div> "
   ]
  }
 ],
 "metadata": {
  "interpreter": {
   "hash": "894f340193c41f12f2ad2c5acdc4753fc38d435e21d2507739dfff3cc0eea455"
  },
  "kernelspec": {
   "display_name": "Python [conda env:ML_P1]",
   "language": "python",
   "name": "conda-env-ML_P1-py"
  },
  "language_info": {
   "codemirror_mode": {
    "name": "ipython",
    "version": 3
   },
   "file_extension": ".py",
   "mimetype": "text/x-python",
   "name": "python",
   "nbconvert_exporter": "python",
   "pygments_lexer": "ipython3",
   "version": "3.9.7"
  }
 },
 "nbformat": 4,
 "nbformat_minor": 5
}
