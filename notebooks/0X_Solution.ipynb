{
 "cells": [
  {
   "cell_type": "markdown",
   "id": "12d2babb",
   "metadata": {},
   "source": [
    "<p align=\"center\">\n",
    "    <!--If notebook is in folder notebooks change scr by \"../images/logo.png\"-->\n",
    "  <img width=\"100\" height=\"100\" src=\"../images/logo.png\">\n",
    "</p>"
   ]
  },
  {
   "cell_type": "markdown",
   "id": "c0b39481",
   "metadata": {},
   "source": [
    "<div>\n",
    "<h1>02. Solución al Problema</h1> \n",
    "\n",
    "Canadian Car Accidents Practice <br>\n",
    "<strong>Aprendizaje Automático</strong> <br>\n",
    "<strong>Master Universitario en Ciencia de Datos</strong>\n",
    "</div>"
   ]
  },
  {
   "cell_type": "markdown",
   "id": "e96bed03",
   "metadata": {},
   "source": [
    "<div style='text-align:right'>Álvaro Serrano del Rincón (<i>a.serranodelrincon@cunef.edu</i>)</div>\n",
    "<div style='text-align:right'>Carlos Viñals Guitart (<i>carlos.vinals@cunef.edu</i>)</div>"
   ]
  },
  {
   "cell_type": "markdown",
   "id": "3420292a",
   "metadata": {},
   "source": [
    "---\n"
   ]
  },
  {
   "cell_type": "markdown",
   "id": "75d33bed",
   "metadata": {},
   "source": [
    "## 2.0 Introducción\n",
    "\n",
    "A partir del análisis exploratorio realizado en el documento ```01_EDA.ipynb```, y una vez definidos los objetivos de negocio en ```00_Introduction.ipynb```, es el momento de explicar qué cómo se planteará como solucionar el problema en cuestión, y mostrar la estructura de los modelos que serán empleados."
   ]
  },
  {
   "cell_type": "markdown",
   "id": "6d4d93f1",
   "metadata": {},
   "source": [
    "## 2.1 Problema\n",
    "\n",
    "Tal y como se explica en el documento ```00_Introduction.ipynb```, el problema a resolver consiste en desarrollar modelos de Machine Learning que, dado un accidente con unas características concretas, determinen si. \n",
    "Es por ello que se definen dos ideas generales:\n",
    "\n",
    "1. Si en un accidente puede o no haber fallecimientos. **Modelos ```C_SEV```**. \n",
    "2. Si va a ser necesario un tratamiento médico dada una persona en un accidente. **Modelos ```P_ISEV```**.\n",
    "\n",
    "En resumen, se van a plantear dos grupos de modelos, con distintas variables objetivo. Estos modelos se presentan conceptualmente a continuación.\n",
    "\n",
    "Las aplicaciones de estos modelos pueden ser de lo más diversas, aplicable tanto para seguros de vehículos, de vida, de salud... De manera que puedan anticiparse a las contingencias que pueden generar los siniestros, determinando adecuadamente el capital a inmovilizar, los precios de las primas de los seguros entre otras muchas conclusiones.\n"
   ]
  },
  {
   "cell_type": "markdown",
   "id": "9b5c92f7",
   "metadata": {},
   "source": [
    "## 2.2 Predecir fallecimientos ```C_SEV```\n",
    "Para este problema, se busca elaborar un modelo que permite precedir si se producirán o no fallecimientos dado un accidente ```C_SEV```. No obstante, y tal y como se detalla en el ```01_EDA.ipynb```, los datos están referidos a personas en un accidente concreto, de manera que se puede prescindir de la información detallada sobre las personas y los vehículos **para estos modelos**, ya que no determinan si se van a producir accidentes. \n",
    "\n",
    "Si empleáramos los datos tal cual se encuentran en el dataset, estaríamos dando al modelo varias filas que representan el mismo accidente, si bien, cada una posee datos distintos de cada una de las personas, tal y como hemos observado en el ```01_EDA.ipynb```. Por ello, tiene más sentido dar al modelo únicamente datos del accidente en general, y en su caso crear información agregada a partir de la información que se tiene de las personas involucradas en el accidente.\n",
    "\n",
    "En conclusión, el modelo busca predecir la variable ```C_SEV``` que indica la existencia de al menos un fallecido en el accidente. Por lo tanto, proporcionaremos información general del accidente y agregada de los detalles que se conocen del mismo. En cuanto a la información agregada se considera que resulta interesante el número de personas involucradas y la edad media de estas. "
   ]
  },
  {
   "cell_type": "markdown",
   "id": "70bec310",
   "metadata": {},
   "source": [
    "## 2.3 Predecir necesidad de tratamiento médico ```P_ISEV```\n",
    "En este problema, se busca conocer si una persona en un accidente requerirá o no de un tratamiento médico```P_ISEV```. Para ello, necesitamos conocer, no sólo los datos del accidente a nivel general, sino también otra información más detallada, relativa a la persona en ese accidente. \n",
    "\n",
    "En este caso, el dataset proporciona una información muy precisa sobre la persona en el siniestro en cuestión, y por lo tanto son idóneos para poder determinar si habrá necesidad de tratamiento médico o no. \n",
    "\n",
    "Este modelo predecirá la variable ```P_ISEV``` que indica el estado de esa persona después del accidente, pudiendo resultar ileso, herido o fallecido. Asumiendo que si se está herido se requiere de un tratamiento médico y eliminando los datos referentes a fallecidos, de manera que el modelo ofrezca una clasificación binaria. "
   ]
  },
  {
   "cell_type": "markdown",
   "id": "5c5fb3d9",
   "metadata": {},
   "source": [
    "Puede observarse a continuación un dibujo esquema de los datos que alimentaran ambos modelos:\n",
    "<p align=\"center\">\n",
    "  <img width=\"700\" height=\"700\" src=\"../images/models.png\">\n",
    "</p>"
   ]
  },
  {
   "cell_type": "markdown",
   "id": "fd56757f",
   "metadata": {},
   "source": [
    "---"
   ]
  },
  {
   "cell_type": "markdown",
   "id": "0b2c81ce",
   "metadata": {},
   "source": [
    "<div style='text-align:center'>Elaborado por Álvaro Serrano del Rincón (<i>a.serranodelrincon@cunef.edu</i>)</div> \n",
    "<div style='text-align:center'>y Carlos Viñals Guitart (<i>carlos.vinals@cunef.edu</i>)</div> "
   ]
  }
 ],
 "metadata": {
  "kernelspec": {
   "display_name": "Python [conda env:ML_P1]",
   "language": "python",
   "name": "conda-env-ML_P1-py"
  },
  "language_info": {
   "codemirror_mode": {
    "name": "ipython",
    "version": 3
   },
   "file_extension": ".py",
   "mimetype": "text/x-python",
   "name": "python",
   "nbconvert_exporter": "python",
   "pygments_lexer": "ipython3",
   "version": "3.9.7"
  }
 },
 "nbformat": 4,
 "nbformat_minor": 5
}
