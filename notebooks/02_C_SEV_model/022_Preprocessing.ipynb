{
 "cells": [
  {
   "cell_type": "markdown",
   "id": "4a0b782f",
   "metadata": {},
   "source": [
    "<p align=\"center\">\n",
    "  <img width=\"100\" height=\"100\" src=\"../../images/logo.png\">\n",
    "</p>"
   ]
  },
  {
   "cell_type": "markdown",
   "id": "8f7b8820",
   "metadata": {},
   "source": [
    "<div>\n",
    "<h1>022. Preproceso: Modelo C_SEV</h1> \n",
    "\n",
    "Canadian Car Accidents Practice <br>\n",
    "<strong>Aprendizaje Automático</strong> <br>\n",
    "<strong>Master Universitario en Ciencia de Datos<strong>\n",
    "</div>"
   ]
  },
  {
   "cell_type": "markdown",
   "id": "65f538c4",
   "metadata": {},
   "source": [
    "<div style='text-align:right'>Álvaro Serrano del Rincón (<i>a.serranodelrincon@cunef.edu</i>)</div>\n",
    "<div style='text-align:right'>Carlos Viñals Guitart (<i>carlos.vinals@cunef.edu</i>)</div>"
   ]
  },
  {
   "cell_type": "markdown",
   "id": "80ddd49a",
   "metadata": {},
   "source": [
    "---"
   ]
  },
  {
   "cell_type": "markdown",
   "id": "1cde5d6b",
   "metadata": {},
   "source": [
    "## 22.0 Introducción\n",
    "\n",
    "En este notebook realizaremos el preprocesado de los datos del dataset conforme al análisis realizado en el notebook EDA \n",
    "```01_EDA```. Para ello procederemos a explicar paso a paso las decisiones tomadas en cuanto a su preprocesado.\n",
    "\n",
    "Para este trabajo estamos utilizando un entorno de propósito espécifico."
   ]
  },
  {
   "cell_type": "code",
   "execution_count": 2,
   "id": "d6e740ea",
   "metadata": {},
   "outputs": [
    {
     "name": "stdout",
     "output_type": "stream",
     "text": [
      "\n",
      "     active environment : ML_P1\n",
      "    active env location : C:\\Users\\carviagu\\anaconda3\\envs\\ML_P1\n",
      "            shell level : 2\n",
      "       user config file : C:\\Users\\carviagu\\.condarc\n",
      " populated config files : \n",
      "          conda version : 4.10.3\n",
      "    conda-build version : 3.21.4\n",
      "         python version : 3.8.8.final.0\n",
      "       virtual packages : __cuda=11.3=0\n",
      "                          __win=0=0\n",
      "                          __archspec=1=x86_64\n",
      "       base environment : C:\\Users\\carviagu\\anaconda3  (writable)\n",
      "      conda av data dir : C:\\Users\\carviagu\\anaconda3\\etc\\conda\n",
      "  conda av metadata url : None\n",
      "           channel URLs : https://repo.anaconda.com/pkgs/main/win-64\n",
      "                          https://repo.anaconda.com/pkgs/main/noarch\n",
      "                          https://repo.anaconda.com/pkgs/r/win-64\n",
      "                          https://repo.anaconda.com/pkgs/r/noarch\n",
      "                          https://repo.anaconda.com/pkgs/msys2/win-64\n",
      "                          https://repo.anaconda.com/pkgs/msys2/noarch\n",
      "          package cache : C:\\Users\\carviagu\\anaconda3\\pkgs\n",
      "                          C:\\Users\\carviagu\\.conda\\pkgs\n",
      "                          C:\\Users\\carviagu\\AppData\\Local\\conda\\conda\\pkgs\n",
      "       envs directories : C:\\Users\\carviagu\\anaconda3\\envs\n",
      "                          C:\\Users\\carviagu\\.conda\\envs\n",
      "                          C:\\Users\\carviagu\\AppData\\Local\\conda\\conda\\envs\n",
      "               platform : win-64\n",
      "             user-agent : conda/4.10.3 requests/2.25.1 CPython/3.8.8 Windows/10 Windows/10.0.19041\n",
      "          administrator : False\n",
      "             netrc file : None\n",
      "           offline mode : False\n",
      "\n"
     ]
    }
   ],
   "source": [
    "# Verificamos el entorno: ML_P1\n",
    "!conda info"
   ]
  },
  {
   "cell_type": "markdown",
   "id": "59cb9541",
   "metadata": {},
   "source": [
    "### 22.0.1 Estructura\n",
    "\n",
    "<< PONER ESTRUCTURA >>"
   ]
  },
  {
   "cell_type": "markdown",
   "id": "37289651",
   "metadata": {},
   "source": [
    "## Librerías"
   ]
  },
  {
   "cell_type": "code",
   "execution_count": 1,
   "id": "597a182a",
   "metadata": {},
   "outputs": [],
   "source": [
    "import pandas as pd\n",
    "import numpy as np\n",
    "import seaborn as sns\n",
    "from matplotlib import pyplot as plt\n",
    "import matplotlib.ticker as ticker\n",
    "import plotly.express as px\n",
    "\n",
    "%matplotlib inline\n",
    "\n",
    "from sklearn.utils import resample\n",
    "from sklearn.model_selection import train_test_split"
   ]
  },
  {
   "cell_type": "markdown",
   "id": "1b1a24d6",
   "metadata": {},
   "source": [
    "## Scripts\n",
    "En este notebook procedemos a importar dos scripts con funciones útiles, previamente utilizadas en el EDA y que permitirán verificar el proceso de realización de las muestras de train y test."
   ]
  },
  {
   "cell_type": "code",
   "execution_count": 2,
   "id": "93e89e5f",
   "metadata": {},
   "outputs": [],
   "source": [
    "import sys\n",
    "\n",
    "import sys  \n",
    "sys.path.insert(0, '../../scripts/')\n",
    "\n",
    "import csv_tools\n",
    "import eda_tools"
   ]
  },
  {
   "cell_type": "markdown",
   "id": "2be658ea",
   "metadata": {},
   "source": [
    "## 22.1 Lectura y preparación\n",
    "\n",
    "A continuación leeremos el dataset, de la misma forma que lo hicimos en el EDA."
   ]
  },
  {
   "cell_type": "code",
   "execution_count": 3,
   "id": "6854d062",
   "metadata": {},
   "outputs": [
    {
     "name": "stdout",
     "output_type": "stream",
     "text": [
      "Reading file...\n",
      "Reading ended.\n"
     ]
    }
   ],
   "source": [
    "# Función propia que verifica que existe el fichero de datos previamente.\n",
    "accidents_df = csv_tools.csv_import(origin=\"../../data/NCDB_1999_to_2014.csv\")"
   ]
  },
  {
   "cell_type": "code",
   "execution_count": 4,
   "id": "f2a1f0ad",
   "metadata": {},
   "outputs": [
    {
     "data": {
      "text/html": [
       "<div>\n",
       "<style scoped>\n",
       "    .dataframe tbody tr th:only-of-type {\n",
       "        vertical-align: middle;\n",
       "    }\n",
       "\n",
       "    .dataframe tbody tr th {\n",
       "        vertical-align: top;\n",
       "    }\n",
       "\n",
       "    .dataframe thead th {\n",
       "        text-align: right;\n",
       "    }\n",
       "</style>\n",
       "<table border=\"1\" class=\"dataframe\">\n",
       "  <thead>\n",
       "    <tr style=\"text-align: right;\">\n",
       "      <th></th>\n",
       "      <th>C_YEAR</th>\n",
       "      <th>C_MNTH</th>\n",
       "      <th>C_WDAY</th>\n",
       "      <th>C_HOUR</th>\n",
       "      <th>C_SEV</th>\n",
       "      <th>C_VEHS</th>\n",
       "      <th>C_CONF</th>\n",
       "      <th>C_RCFG</th>\n",
       "      <th>C_WTHR</th>\n",
       "      <th>C_RSUR</th>\n",
       "      <th>...</th>\n",
       "      <th>V_ID</th>\n",
       "      <th>V_TYPE</th>\n",
       "      <th>V_YEAR</th>\n",
       "      <th>P_ID</th>\n",
       "      <th>P_SEX</th>\n",
       "      <th>P_AGE</th>\n",
       "      <th>P_PSN</th>\n",
       "      <th>P_ISEV</th>\n",
       "      <th>P_SAFE</th>\n",
       "      <th>P_USER</th>\n",
       "    </tr>\n",
       "  </thead>\n",
       "  <tbody>\n",
       "    <tr>\n",
       "      <th>0</th>\n",
       "      <td>1999</td>\n",
       "      <td>01</td>\n",
       "      <td>1</td>\n",
       "      <td>20</td>\n",
       "      <td>2</td>\n",
       "      <td>02</td>\n",
       "      <td>34</td>\n",
       "      <td>UU</td>\n",
       "      <td>1</td>\n",
       "      <td>5</td>\n",
       "      <td>...</td>\n",
       "      <td>01</td>\n",
       "      <td>06</td>\n",
       "      <td>1990</td>\n",
       "      <td>01</td>\n",
       "      <td>M</td>\n",
       "      <td>41</td>\n",
       "      <td>11</td>\n",
       "      <td>1</td>\n",
       "      <td>UU</td>\n",
       "      <td>1</td>\n",
       "    </tr>\n",
       "    <tr>\n",
       "      <th>1</th>\n",
       "      <td>1999</td>\n",
       "      <td>01</td>\n",
       "      <td>1</td>\n",
       "      <td>20</td>\n",
       "      <td>2</td>\n",
       "      <td>02</td>\n",
       "      <td>34</td>\n",
       "      <td>UU</td>\n",
       "      <td>1</td>\n",
       "      <td>5</td>\n",
       "      <td>...</td>\n",
       "      <td>02</td>\n",
       "      <td>01</td>\n",
       "      <td>1987</td>\n",
       "      <td>01</td>\n",
       "      <td>M</td>\n",
       "      <td>19</td>\n",
       "      <td>11</td>\n",
       "      <td>1</td>\n",
       "      <td>UU</td>\n",
       "      <td>1</td>\n",
       "    </tr>\n",
       "    <tr>\n",
       "      <th>2</th>\n",
       "      <td>1999</td>\n",
       "      <td>01</td>\n",
       "      <td>1</td>\n",
       "      <td>20</td>\n",
       "      <td>2</td>\n",
       "      <td>02</td>\n",
       "      <td>34</td>\n",
       "      <td>UU</td>\n",
       "      <td>1</td>\n",
       "      <td>5</td>\n",
       "      <td>...</td>\n",
       "      <td>02</td>\n",
       "      <td>01</td>\n",
       "      <td>1987</td>\n",
       "      <td>02</td>\n",
       "      <td>F</td>\n",
       "      <td>20</td>\n",
       "      <td>13</td>\n",
       "      <td>2</td>\n",
       "      <td>02</td>\n",
       "      <td>2</td>\n",
       "    </tr>\n",
       "    <tr>\n",
       "      <th>3</th>\n",
       "      <td>1999</td>\n",
       "      <td>01</td>\n",
       "      <td>1</td>\n",
       "      <td>08</td>\n",
       "      <td>2</td>\n",
       "      <td>01</td>\n",
       "      <td>01</td>\n",
       "      <td>UU</td>\n",
       "      <td>5</td>\n",
       "      <td>3</td>\n",
       "      <td>...</td>\n",
       "      <td>01</td>\n",
       "      <td>01</td>\n",
       "      <td>1986</td>\n",
       "      <td>01</td>\n",
       "      <td>M</td>\n",
       "      <td>46</td>\n",
       "      <td>11</td>\n",
       "      <td>1</td>\n",
       "      <td>UU</td>\n",
       "      <td>1</td>\n",
       "    </tr>\n",
       "    <tr>\n",
       "      <th>4</th>\n",
       "      <td>1999</td>\n",
       "      <td>01</td>\n",
       "      <td>1</td>\n",
       "      <td>08</td>\n",
       "      <td>2</td>\n",
       "      <td>01</td>\n",
       "      <td>01</td>\n",
       "      <td>UU</td>\n",
       "      <td>5</td>\n",
       "      <td>3</td>\n",
       "      <td>...</td>\n",
       "      <td>99</td>\n",
       "      <td>NN</td>\n",
       "      <td>NNNN</td>\n",
       "      <td>01</td>\n",
       "      <td>M</td>\n",
       "      <td>05</td>\n",
       "      <td>99</td>\n",
       "      <td>2</td>\n",
       "      <td>UU</td>\n",
       "      <td>3</td>\n",
       "    </tr>\n",
       "  </tbody>\n",
       "</table>\n",
       "<p>5 rows × 22 columns</p>\n",
       "</div>"
      ],
      "text/plain": [
       "   C_YEAR C_MNTH C_WDAY C_HOUR  C_SEV C_VEHS C_CONF C_RCFG C_WTHR C_RSUR  ...  \\\n",
       "0    1999     01      1     20      2     02     34     UU      1      5  ...   \n",
       "1    1999     01      1     20      2     02     34     UU      1      5  ...   \n",
       "2    1999     01      1     20      2     02     34     UU      1      5  ...   \n",
       "3    1999     01      1     08      2     01     01     UU      5      3  ...   \n",
       "4    1999     01      1     08      2     01     01     UU      5      3  ...   \n",
       "\n",
       "  V_ID V_TYPE V_YEAR P_ID P_SEX P_AGE P_PSN P_ISEV P_SAFE P_USER  \n",
       "0   01     06   1990   01     M    41    11      1     UU      1  \n",
       "1   02     01   1987   01     M    19    11      1     UU      1  \n",
       "2   02     01   1987   02     F    20    13      2     02      2  \n",
       "3   01     01   1986   01     M    46    11      1     UU      1  \n",
       "4   99     NN   NNNN   01     M    05    99      2     UU      3  \n",
       "\n",
       "[5 rows x 22 columns]"
      ]
     },
     "execution_count": 4,
     "metadata": {},
     "output_type": "execute_result"
    }
   ],
   "source": [
    "accidents_df.head()"
   ]
  },
  {
   "cell_type": "markdown",
   "id": "cf1ab2bc",
   "metadata": {},
   "source": [
    "## 22.2 Balanceo de ```C_SEV```\n",
    "En el EDA pudimos apreciar como había un importante desequilibrio en la variable objetivo, existiendo un 98% y 2% de accidentes no mortales y mortales respectivamente. "
   ]
  },
  {
   "cell_type": "code",
   "execution_count": 5,
   "id": "be4415b6",
   "metadata": {},
   "outputs": [
    {
     "data": {
      "text/plain": [
       "2    5761772\n",
       "1      98633\n",
       "Name: C_SEV, dtype: int64"
      ]
     },
     "execution_count": 5,
     "metadata": {},
     "output_type": "execute_result"
    }
   ],
   "source": [
    "accidents_df['C_SEV'].value_counts()"
   ]
  },
  {
   "cell_type": "markdown",
   "id": "5bedaf66",
   "metadata": {},
   "source": [
    "Para ello realizaremos un remuestreo de los datos mediante la técnica de **subsampling** con el objetivo de reducir el número de muestras de la clase 2 (ningún fallecido) frente a las de 1 (al menos un fallecido). Para ello:\n",
    "* Primero, dividimos el dataset dos dataset, uno por clase.\n",
    "* Segundo, realizamos un resample de la clase mayoritaria, para extraer una muestra del mismo. \n",
    "* Finalmente, juntaremos ambos datasets para formar la muestra a utilizar. "
   ]
  },
  {
   "cell_type": "code",
   "execution_count": 6,
   "id": "c440efec",
   "metadata": {},
   "outputs": [],
   "source": [
    "# Dividimos la clases\n",
    "sev01_df = accidents_df[accidents_df['C_SEV'] == 1]\n",
    "sev02_df = accidents_df[accidents_df['C_SEV'] == 2]"
   ]
  },
  {
   "cell_type": "markdown",
   "id": "807d83c4",
   "metadata": {},
   "source": [
    "Realizamos una muestra de ```sev02_df``` con un tamaño superior al 5% de ```sev01_df```. Esto se realiza para que pese a reducir el desequilibrio existente, buscamos que se asemeje a la realidad y por lo tanto mantenga cierto grado de desequilibrio. \n",
    "\n",
    "Destacar que usamos como semilla el valor 0. Este se ha determinado de forma arbitraria, permitirá replicar los resultados en caso de querer realizar más pruebas."
   ]
  },
  {
   "cell_type": "code",
   "execution_count": 7,
   "id": "cb0eb303",
   "metadata": {},
   "outputs": [
    {
     "data": {
      "text/plain": [
       "2    103564\n",
       "1     98633\n",
       "Name: C_SEV, dtype: int64"
      ]
     },
     "execution_count": 7,
     "metadata": {},
     "output_type": "execute_result"
    }
   ],
   "source": [
    "# Tamaño a muestrear\n",
    "sample_size = int(sev01_df.shape[0] * (1.05))\n",
    "\n",
    "# Realizamos una muestra del sev02_df\n",
    "sev02_sam_df = resample(sev02_df, replace=True, n_samples = sample_size, random_state=0)\n",
    "\n",
    "# Juntamos y creamos la versión a utilizar\n",
    "accidents_eq_df = pd.concat([sev01_df, sev02_sam_df])\n",
    "accidents_eq_df['C_SEV'].value_counts()"
   ]
  },
  {
   "cell_type": "markdown",
   "id": "72095737",
   "metadata": {},
   "source": [
    "Observamos como se ha reducido considerablemente la muestra de accidentes no mortales, y hemos podido equilibrar en cierto grado el dataset. \n",
    "\n",
    "Ahora, guardaremos esta versión reducida del dataset para las siguientes tareas."
   ]
  },
  {
   "cell_type": "code",
   "execution_count": 9,
   "id": "0abc9172",
   "metadata": {},
   "outputs": [],
   "source": [
    "# Guardar resultados (CUIDADO: sobreescritura del fichero)\n",
    "# accidents_eq_df.to_csv(\"../../data/NCBD_reduced.csv\")"
   ]
  },
  {
   "cell_type": "markdown",
   "id": "f8dffbcd",
   "metadata": {},
   "source": [
    "## 22.3 Train y Test\n",
    "A continuación vamos a proceder a crear y dividir los datos en Train (muestra de entrenamiento) y test (muestra de test) que usaremos para nuestros modelos. "
   ]
  },
  {
   "cell_type": "code",
   "execution_count": 9,
   "id": "0f89e7e0",
   "metadata": {},
   "outputs": [],
   "source": [
    "# accidents_eq_df = csv_tools.csv_import(origin = \"../../data/NCBD_reduced.csv\")\n",
    "\n",
    "# Separamos los valores (X) de la variable objetivo (Y)\n",
    "X = accidents_eq_df.drop('C_SEV', axis=1)\n",
    "Y = accidents_eq_df['C_SEV']\n",
    "\n",
    "# Realizamos la división de train y test\n",
    "X_train, X_test, Y_train, Y_test = train_test_split(X, Y, test_size=0.20, random_state=0)"
   ]
  },
  {
   "cell_type": "markdown",
   "id": "a260895e",
   "metadata": {},
   "source": [
    "## 22.4 Tratamiento\n",
    "A continuación procederemos a realizar la limpieza de los datos y su procesamiento:\n",
    "\n",
    "### 22.4.1 Filtrado inicial de variables y valores anómalos\n",
    "Si bien nos detendremos en datalle a analizar la importancia de las variables para el modelo. Existen a prior unas variables que no son útiles y que por lo tanto eliminaremos del mismo. Estas son: \n",
    "* V_ID: Identificador de vehículo\n",
    "* P_ID: Identificador de persona\n",
    "* P_ISEV: Datos sobre si la persona ha fallecido o no"
   ]
  },
  {
   "cell_type": "code",
   "execution_count": 11,
   "id": "0dec97e6",
   "metadata": {},
   "outputs": [],
   "source": [
    "X_train = X_train.drop(['V_ID', 'P_ID', 'P_ISEV'], axis=1)"
   ]
  },
  {
   "cell_type": "markdown",
   "id": "de600d99",
   "metadata": {},
   "source": [
    "Por otro lado, en el EDA pudimos observar que existian vehículos con fecha de fabricación 2015, cuando los accidentes son hasta 2014. Procedemos a eliminarlos en el caso de que continuen en la muestra de train."
   ]
  },
  {
   "cell_type": "code",
   "execution_count": 15,
   "id": "db0c380b",
   "metadata": {},
   "outputs": [],
   "source": [
    "X_train = X_train.drop(X_train[X_train['V_YEAR'] == '2015'].index, axis=0)"
   ]
  },
  {
   "cell_type": "markdown",
   "id": "6a3f7b5a",
   "metadata": {},
   "source": [
    "### 22.4.2 Valores faltantes\n",
    "Para llevar a cabo este proceso realizaremos la conversión correspondiente por tipo de variable, esto es, pues el signficado que estas tienen es distinto. \n",
    "\n",
    "Primero veamos como está la muestra de train:"
   ]
  },
  {
   "cell_type": "code",
   "execution_count": 12,
   "id": "b90fcd94",
   "metadata": {},
   "outputs": [
    {
     "data": {
      "text/html": [
       "<div>\n",
       "<style scoped>\n",
       "    .dataframe tbody tr th:only-of-type {\n",
       "        vertical-align: middle;\n",
       "    }\n",
       "\n",
       "    .dataframe tbody tr th {\n",
       "        vertical-align: top;\n",
       "    }\n",
       "\n",
       "    .dataframe thead th {\n",
       "        text-align: right;\n",
       "    }\n",
       "</style>\n",
       "<table border=\"1\" class=\"dataframe\">\n",
       "  <thead>\n",
       "    <tr style=\"text-align: right;\">\n",
       "      <th></th>\n",
       "      <th>column_name</th>\n",
       "      <th>U</th>\n",
       "      <th>U%</th>\n",
       "      <th>N</th>\n",
       "      <th>N%</th>\n",
       "      <th>Q</th>\n",
       "      <th>Q%</th>\n",
       "      <th>total</th>\n",
       "      <th>total%</th>\n",
       "    </tr>\n",
       "  </thead>\n",
       "  <tbody>\n",
       "    <tr>\n",
       "      <th>0</th>\n",
       "      <td>C_YEAR</td>\n",
       "      <td>0</td>\n",
       "      <td>[0.0]</td>\n",
       "      <td>0</td>\n",
       "      <td>[0.0]</td>\n",
       "      <td>0</td>\n",
       "      <td>[0.0]</td>\n",
       "      <td>0</td>\n",
       "      <td>0.0</td>\n",
       "    </tr>\n",
       "    <tr>\n",
       "      <th>1</th>\n",
       "      <td>C_MNTH</td>\n",
       "      <td>8</td>\n",
       "      <td>[0.005]</td>\n",
       "      <td>0</td>\n",
       "      <td>[0.0]</td>\n",
       "      <td>0</td>\n",
       "      <td>[0.0]</td>\n",
       "      <td>8</td>\n",
       "      <td>0.0</td>\n",
       "    </tr>\n",
       "    <tr>\n",
       "      <th>2</th>\n",
       "      <td>C_WDAY</td>\n",
       "      <td>30</td>\n",
       "      <td>[0.019]</td>\n",
       "      <td>0</td>\n",
       "      <td>[0.0]</td>\n",
       "      <td>0</td>\n",
       "      <td>[0.0]</td>\n",
       "      <td>30</td>\n",
       "      <td>0.0</td>\n",
       "    </tr>\n",
       "    <tr>\n",
       "      <th>3</th>\n",
       "      <td>C_HOUR</td>\n",
       "      <td>1657</td>\n",
       "      <td>[1.024]</td>\n",
       "      <td>0</td>\n",
       "      <td>[0.0]</td>\n",
       "      <td>0</td>\n",
       "      <td>[0.0]</td>\n",
       "      <td>1657</td>\n",
       "      <td>1.0</td>\n",
       "    </tr>\n",
       "    <tr>\n",
       "      <th>4</th>\n",
       "      <td>C_VEHS</td>\n",
       "      <td>16</td>\n",
       "      <td>[0.01]</td>\n",
       "      <td>0</td>\n",
       "      <td>[0.0]</td>\n",
       "      <td>0</td>\n",
       "      <td>[0.0]</td>\n",
       "      <td>16</td>\n",
       "      <td>0.0</td>\n",
       "    </tr>\n",
       "    <tr>\n",
       "      <th>5</th>\n",
       "      <td>C_CONF</td>\n",
       "      <td>4555</td>\n",
       "      <td>[2.816]</td>\n",
       "      <td>0</td>\n",
       "      <td>[0.0]</td>\n",
       "      <td>8276</td>\n",
       "      <td>[5.116]</td>\n",
       "      <td>12831</td>\n",
       "      <td>7.9</td>\n",
       "    </tr>\n",
       "    <tr>\n",
       "      <th>6</th>\n",
       "      <td>C_RCFG</td>\n",
       "      <td>11779</td>\n",
       "      <td>[7.282]</td>\n",
       "      <td>0</td>\n",
       "      <td>[0.0]</td>\n",
       "      <td>4503</td>\n",
       "      <td>[2.784]</td>\n",
       "      <td>16282</td>\n",
       "      <td>10.1</td>\n",
       "    </tr>\n",
       "    <tr>\n",
       "      <th>7</th>\n",
       "      <td>C_WTHR</td>\n",
       "      <td>1867</td>\n",
       "      <td>[1.154]</td>\n",
       "      <td>0</td>\n",
       "      <td>[0.0]</td>\n",
       "      <td>423</td>\n",
       "      <td>[0.262]</td>\n",
       "      <td>2290</td>\n",
       "      <td>1.4</td>\n",
       "    </tr>\n",
       "    <tr>\n",
       "      <th>8</th>\n",
       "      <td>C_RSUR</td>\n",
       "      <td>1765</td>\n",
       "      <td>[1.091]</td>\n",
       "      <td>0</td>\n",
       "      <td>[0.0]</td>\n",
       "      <td>5017</td>\n",
       "      <td>[3.102]</td>\n",
       "      <td>6782</td>\n",
       "      <td>4.2</td>\n",
       "    </tr>\n",
       "    <tr>\n",
       "      <th>9</th>\n",
       "      <td>C_RALN</td>\n",
       "      <td>8780</td>\n",
       "      <td>[5.428]</td>\n",
       "      <td>0</td>\n",
       "      <td>[0.0]</td>\n",
       "      <td>616</td>\n",
       "      <td>[0.381]</td>\n",
       "      <td>9396</td>\n",
       "      <td>5.8</td>\n",
       "    </tr>\n",
       "    <tr>\n",
       "      <th>10</th>\n",
       "      <td>C_TRAF</td>\n",
       "      <td>5663</td>\n",
       "      <td>[3.501]</td>\n",
       "      <td>0</td>\n",
       "      <td>[0.0]</td>\n",
       "      <td>2315</td>\n",
       "      <td>[1.431]</td>\n",
       "      <td>7978</td>\n",
       "      <td>4.9</td>\n",
       "    </tr>\n",
       "    <tr>\n",
       "      <th>11</th>\n",
       "      <td>V_TYPE</td>\n",
       "      <td>742</td>\n",
       "      <td>[0.459]</td>\n",
       "      <td>8327</td>\n",
       "      <td>[5.148]</td>\n",
       "      <td>852</td>\n",
       "      <td>[0.527]</td>\n",
       "      <td>9921</td>\n",
       "      <td>6.1</td>\n",
       "    </tr>\n",
       "    <tr>\n",
       "      <th>12</th>\n",
       "      <td>V_YEAR</td>\n",
       "      <td>8624</td>\n",
       "      <td>[5.331]</td>\n",
       "      <td>9041</td>\n",
       "      <td>[5.589]</td>\n",
       "      <td>0</td>\n",
       "      <td>[0.0]</td>\n",
       "      <td>17665</td>\n",
       "      <td>10.9</td>\n",
       "    </tr>\n",
       "    <tr>\n",
       "      <th>13</th>\n",
       "      <td>P_SEX</td>\n",
       "      <td>5411</td>\n",
       "      <td>[3.345]</td>\n",
       "      <td>445</td>\n",
       "      <td>[0.275]</td>\n",
       "      <td>0</td>\n",
       "      <td>[0.0]</td>\n",
       "      <td>5856</td>\n",
       "      <td>3.6</td>\n",
       "    </tr>\n",
       "    <tr>\n",
       "      <th>14</th>\n",
       "      <td>P_AGE</td>\n",
       "      <td>8343</td>\n",
       "      <td>[5.158]</td>\n",
       "      <td>535</td>\n",
       "      <td>[0.331]</td>\n",
       "      <td>0</td>\n",
       "      <td>[0.0]</td>\n",
       "      <td>8878</td>\n",
       "      <td>5.5</td>\n",
       "    </tr>\n",
       "    <tr>\n",
       "      <th>15</th>\n",
       "      <td>P_PSN</td>\n",
       "      <td>1776</td>\n",
       "      <td>[1.098]</td>\n",
       "      <td>441</td>\n",
       "      <td>[0.273]</td>\n",
       "      <td>907</td>\n",
       "      <td>[0.561]</td>\n",
       "      <td>3124</td>\n",
       "      <td>1.9</td>\n",
       "    </tr>\n",
       "    <tr>\n",
       "      <th>16</th>\n",
       "      <td>P_SAFE</td>\n",
       "      <td>18347</td>\n",
       "      <td>[11.342]</td>\n",
       "      <td>14606</td>\n",
       "      <td>[9.03]</td>\n",
       "      <td>1720</td>\n",
       "      <td>[1.063]</td>\n",
       "      <td>34673</td>\n",
       "      <td>21.4</td>\n",
       "    </tr>\n",
       "    <tr>\n",
       "      <th>17</th>\n",
       "      <td>P_USER</td>\n",
       "      <td>5922</td>\n",
       "      <td>[3.661]</td>\n",
       "      <td>0</td>\n",
       "      <td>[0.0]</td>\n",
       "      <td>0</td>\n",
       "      <td>[0.0]</td>\n",
       "      <td>5922</td>\n",
       "      <td>3.7</td>\n",
       "    </tr>\n",
       "  </tbody>\n",
       "</table>\n",
       "</div>"
      ],
      "text/plain": [
       "   column_name      U        U%      N       N%     Q       Q%  total  total%\n",
       "0       C_YEAR      0     [0.0]      0    [0.0]     0    [0.0]      0     0.0\n",
       "1       C_MNTH      8   [0.005]      0    [0.0]     0    [0.0]      8     0.0\n",
       "2       C_WDAY     30   [0.019]      0    [0.0]     0    [0.0]     30     0.0\n",
       "3       C_HOUR   1657   [1.024]      0    [0.0]     0    [0.0]   1657     1.0\n",
       "4       C_VEHS     16    [0.01]      0    [0.0]     0    [0.0]     16     0.0\n",
       "5       C_CONF   4555   [2.816]      0    [0.0]  8276  [5.116]  12831     7.9\n",
       "6       C_RCFG  11779   [7.282]      0    [0.0]  4503  [2.784]  16282    10.1\n",
       "7       C_WTHR   1867   [1.154]      0    [0.0]   423  [0.262]   2290     1.4\n",
       "8       C_RSUR   1765   [1.091]      0    [0.0]  5017  [3.102]   6782     4.2\n",
       "9       C_RALN   8780   [5.428]      0    [0.0]   616  [0.381]   9396     5.8\n",
       "10      C_TRAF   5663   [3.501]      0    [0.0]  2315  [1.431]   7978     4.9\n",
       "11      V_TYPE    742   [0.459]   8327  [5.148]   852  [0.527]   9921     6.1\n",
       "12      V_YEAR   8624   [5.331]   9041  [5.589]     0    [0.0]  17665    10.9\n",
       "13       P_SEX   5411   [3.345]    445  [0.275]     0    [0.0]   5856     3.6\n",
       "14       P_AGE   8343   [5.158]    535  [0.331]     0    [0.0]   8878     5.5\n",
       "15       P_PSN   1776   [1.098]    441  [0.273]   907  [0.561]   3124     1.9\n",
       "16      P_SAFE  18347  [11.342]  14606   [9.03]  1720  [1.063]  34673    21.4\n",
       "17      P_USER   5922   [3.661]      0    [0.0]     0    [0.0]   5922     3.7"
      ]
     },
     "execution_count": 12,
     "metadata": {},
     "output_type": "execute_result"
    }
   ],
   "source": [
    "especial_values = [['U', 'UU', 'UUUU'], ['N', 'NN', 'NNNN'], ['Q', 'QQ', 'QQQQ']]\n",
    "eda_tools.special_values_summary(df = X_train, vals = especial_values)"
   ]
  },
  {
   "cell_type": "markdown",
   "id": "27009912",
   "metadata": {},
   "source": [
    "**Para los valores U (desconocido)**\n",
    "\n",
    "- **Primero.** Calcularemos para cada grupo que categoría concentra más del 80% de valores, es decir, asignaremos un valor mayoritario. Asumimos que si la mayoría de los datos son de esa categoría los faltantes también lo serán.\n",
    "\n",
    "- **Segundo.** En el caso de no existir una categoría que concentre más del 80% se establecerá el valor medio (redondeado a la unidad superior) de las categorías asignadas. Al haber tanta variabilidad asignaremos la categoría media."
   ]
  },
  {
   "cell_type": "code",
   "execution_count": 13,
   "id": "90afaf0b",
   "metadata": {},
   "outputs": [],
   "source": [
    "# VALORES FALTANTES\n",
    "# TODO \n",
    "#\n",
    "# U -> a NA\n",
    "# Asignar valor medio o mayoritario (en función de la variable)\n",
    "#\n",
    "# Q -> crear una clase nueva de la categoría\n",
    "# \n",
    "# N -> crear una clase nueva de la categoría (para C_SEV)\n",
    "#"
   ]
  },
  {
   "cell_type": "code",
   "execution_count": 14,
   "id": "8e09be62",
   "metadata": {},
   "outputs": [],
   "source": [
    "# VALORES EXTRAÑOS\n",
    "# Eliminar valores extraños (año 2015?)"
   ]
  },
  {
   "cell_type": "code",
   "execution_count": 15,
   "id": "6fa5d5ec",
   "metadata": {},
   "outputs": [],
   "source": [
    "# ENCODING ¿?\n",
    "# Sexo -> M/F LabelEncoding o OneHotEncoding\n",
    "# \n",
    "# Encoding de variables con una codificación extraña  \n",
    "#"
   ]
  },
  {
   "cell_type": "code",
   "execution_count": 16,
   "id": "1deccb06",
   "metadata": {},
   "outputs": [],
   "source": [
    "# SELECCIÓN DE VARIABLES\n",
    "# Correlación ?\n",
    "# Lasso o modelo de regresión?\n",
    "# Justificar elección final ? "
   ]
  },
  {
   "cell_type": "markdown",
   "id": "7ae79e60",
   "metadata": {},
   "source": [
    "---"
   ]
  },
  {
   "cell_type": "markdown",
   "id": "37753630",
   "metadata": {},
   "source": [
    "<div style='text-align:center'>Elaborado por Álvaro Serrano del Rincón (<i>a.serranodelrincon@cunef.edu</i>)</div> \n",
    "<div style='text-align:center'>y Carlos Viñals Guitart (<i>carlos.vinals@cunef.edu</i>)</div> "
   ]
  }
 ],
 "metadata": {
  "interpreter": {
   "hash": "894f340193c41f12f2ad2c5acdc4753fc38d435e21d2507739dfff3cc0eea455"
  },
  "kernelspec": {
   "display_name": "Python [conda env:ML_P1]",
   "language": "python",
   "name": "conda-env-ML_P1-py"
  },
  "language_info": {
   "codemirror_mode": {
    "name": "ipython",
    "version": 3
   },
   "file_extension": ".py",
   "mimetype": "text/x-python",
   "name": "python",
   "nbconvert_exporter": "python",
   "pygments_lexer": "ipython3",
   "version": "3.9.7"
  }
 },
 "nbformat": 4,
 "nbformat_minor": 5
}
