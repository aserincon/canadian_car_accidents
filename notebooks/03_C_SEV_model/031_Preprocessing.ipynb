{
 "cells": [
  {
   "cell_type": "markdown",
   "id": "4a0b782f",
   "metadata": {},
   "source": [
    "<p align=\"center\">\n",
    "  <img width=\"100\" height=\"100\" src=\"../../images/logo.png\">\n",
    "</p>"
   ]
  },
  {
   "cell_type": "markdown",
   "id": "8f7b8820",
   "metadata": {},
   "source": [
    "<div>\n",
    "<h1>022. Preproceso: Modelo C_SEV</h1> \n",
    "\n",
    "Canadian Car Accidents Practice <br>\n",
    "<strong>Aprendizaje Automático</strong> <br>\n",
    "<strong>Master Universitario en Ciencia de Datos<strong>\n",
    "</div>"
   ]
  },
  {
   "cell_type": "markdown",
   "id": "65f538c4",
   "metadata": {},
   "source": [
    "<div style='text-align:right'>Álvaro Serrano del Rincón (<i>a.serranodelrincon@cunef.edu</i>)</div>\n",
    "<div style='text-align:right'>Carlos Viñals Guitart (<i>carlos.vinals@cunef.edu</i>)</div>"
   ]
  },
  {
   "cell_type": "markdown",
   "id": "80ddd49a",
   "metadata": {},
   "source": [
    "---"
   ]
  },
  {
   "cell_type": "markdown",
   "id": "1cde5d6b",
   "metadata": {},
   "source": [
    "## 22.0 Introducción\n",
    "\n",
    "En este notebook realizaremos el preprocesado de los datos del dataset conforme al análisis realizado en el notebook EDA \n",
    "```01_EDA```. Para ello procederemos a explicar paso a paso las decisiones tomadas en cuanto a su preprocesado.\n",
    "\n",
    "Para este trabajo estamos utilizando un entorno de propósito espécifico."
   ]
  },
  {
   "cell_type": "code",
   "execution_count": 1,
   "id": "d6e740ea",
   "metadata": {},
   "outputs": [
    {
     "name": "stdout",
     "output_type": "stream",
     "text": [
      "\n",
      "     active environment : ML_P1\n",
      "    active env location : C:\\Users\\carviagu\\anaconda3\\envs\\ML_P1\n",
      "            shell level : 2\n",
      "       user config file : C:\\Users\\carviagu\\.condarc\n",
      " populated config files : \n",
      "          conda version : 4.10.3\n",
      "    conda-build version : 3.21.4\n",
      "         python version : 3.8.8.final.0\n",
      "       virtual packages : __cuda=11.3=0\n",
      "                          __win=0=0\n",
      "                          __archspec=1=x86_64\n",
      "       base environment : C:\\Users\\carviagu\\anaconda3  (writable)\n",
      "      conda av data dir : C:\\Users\\carviagu\\anaconda3\\etc\\conda\n",
      "  conda av metadata url : None\n",
      "           channel URLs : https://repo.anaconda.com/pkgs/main/win-64\n",
      "                          https://repo.anaconda.com/pkgs/main/noarch\n",
      "                          https://repo.anaconda.com/pkgs/r/win-64\n",
      "                          https://repo.anaconda.com/pkgs/r/noarch\n",
      "                          https://repo.anaconda.com/pkgs/msys2/win-64\n",
      "                          https://repo.anaconda.com/pkgs/msys2/noarch\n",
      "          package cache : C:\\Users\\carviagu\\anaconda3\\pkgs\n",
      "                          C:\\Users\\carviagu\\.conda\\pkgs\n",
      "                          C:\\Users\\carviagu\\AppData\\Local\\conda\\conda\\pkgs\n",
      "       envs directories : C:\\Users\\carviagu\\anaconda3\\envs\n",
      "                          C:\\Users\\carviagu\\.conda\\envs\n",
      "                          C:\\Users\\carviagu\\AppData\\Local\\conda\\conda\\envs\n",
      "               platform : win-64\n",
      "             user-agent : conda/4.10.3 requests/2.25.1 CPython/3.8.8 Windows/10 Windows/10.0.19041\n",
      "          administrator : False\n",
      "             netrc file : None\n",
      "           offline mode : False\n",
      "\n"
     ]
    }
   ],
   "source": [
    "# Verificamos el entorno: ML_P1\n",
    "!conda info"
   ]
  },
  {
   "cell_type": "markdown",
   "id": "59cb9541",
   "metadata": {},
   "source": [
    "### 22.0.1 Estructura\n",
    "\n",
    "<< PONER ESTRUCTURA >>"
   ]
  },
  {
   "cell_type": "markdown",
   "id": "37289651",
   "metadata": {},
   "source": [
    "## Librerías"
   ]
  },
  {
   "cell_type": "code",
   "execution_count": 2,
   "id": "597a182a",
   "metadata": {},
   "outputs": [],
   "source": [
    "import pandas as pd\n",
    "import numpy as np\n",
    "import seaborn as sns\n",
    "from matplotlib import pyplot as plt\n",
    "import matplotlib.ticker as ticker\n",
    "import plotly.express as px\n",
    "\n",
    "%matplotlib inline\n",
    "\n",
    "from sklearn.utils import resample\n",
    "from sklearn.model_selection import train_test_split"
   ]
  },
  {
   "cell_type": "markdown",
   "id": "1b1a24d6",
   "metadata": {},
   "source": [
    "## Scripts\n",
    "En este notebook procedemos a importar dos scripts con funciones útiles, previamente utilizadas en el EDA y que permitirán verificar el proceso de realización de las muestras de train y test."
   ]
  },
  {
   "cell_type": "code",
   "execution_count": 3,
   "id": "93e89e5f",
   "metadata": {},
   "outputs": [],
   "source": [
    "import sys\n",
    "\n",
    "import sys  \n",
    "sys.path.insert(0, '../../scripts/')\n",
    "\n",
    "import csv_tools\n",
    "import eda_tools"
   ]
  },
  {
   "cell_type": "markdown",
   "id": "2be658ea",
   "metadata": {},
   "source": [
    "## 22.1 Lectura y preparación\n",
    "\n",
    "A continuación leeremos el dataset, de la misma forma que lo hicimos en el EDA."
   ]
  },
  {
   "cell_type": "code",
   "execution_count": 4,
   "id": "6854d062",
   "metadata": {},
   "outputs": [
    {
     "name": "stdout",
     "output_type": "stream",
     "text": [
      "Reading file...\n",
      "Reading ended.\n"
     ]
    }
   ],
   "source": [
    "# Función propia que verifica que existe el fichero de datos previamente.\n",
    "accidents_df = csv_tools.csv_import(origin=\"../../data/NCDB_1999_to_2014.csv\")"
   ]
  },
  {
   "cell_type": "code",
   "execution_count": 5,
   "id": "f2a1f0ad",
   "metadata": {},
   "outputs": [
    {
     "data": {
      "text/html": [
       "<div>\n",
       "<style scoped>\n",
       "    .dataframe tbody tr th:only-of-type {\n",
       "        vertical-align: middle;\n",
       "    }\n",
       "\n",
       "    .dataframe tbody tr th {\n",
       "        vertical-align: top;\n",
       "    }\n",
       "\n",
       "    .dataframe thead th {\n",
       "        text-align: right;\n",
       "    }\n",
       "</style>\n",
       "<table border=\"1\" class=\"dataframe\">\n",
       "  <thead>\n",
       "    <tr style=\"text-align: right;\">\n",
       "      <th></th>\n",
       "      <th>C_YEAR</th>\n",
       "      <th>C_MNTH</th>\n",
       "      <th>C_WDAY</th>\n",
       "      <th>C_HOUR</th>\n",
       "      <th>C_SEV</th>\n",
       "      <th>C_VEHS</th>\n",
       "      <th>C_CONF</th>\n",
       "      <th>C_RCFG</th>\n",
       "      <th>C_WTHR</th>\n",
       "      <th>C_RSUR</th>\n",
       "      <th>...</th>\n",
       "      <th>V_ID</th>\n",
       "      <th>V_TYPE</th>\n",
       "      <th>V_YEAR</th>\n",
       "      <th>P_ID</th>\n",
       "      <th>P_SEX</th>\n",
       "      <th>P_AGE</th>\n",
       "      <th>P_PSN</th>\n",
       "      <th>P_ISEV</th>\n",
       "      <th>P_SAFE</th>\n",
       "      <th>P_USER</th>\n",
       "    </tr>\n",
       "  </thead>\n",
       "  <tbody>\n",
       "    <tr>\n",
       "      <th>0</th>\n",
       "      <td>1999</td>\n",
       "      <td>01</td>\n",
       "      <td>1</td>\n",
       "      <td>20</td>\n",
       "      <td>2</td>\n",
       "      <td>02</td>\n",
       "      <td>34</td>\n",
       "      <td>UU</td>\n",
       "      <td>1</td>\n",
       "      <td>5</td>\n",
       "      <td>...</td>\n",
       "      <td>01</td>\n",
       "      <td>06</td>\n",
       "      <td>1990</td>\n",
       "      <td>01</td>\n",
       "      <td>M</td>\n",
       "      <td>41</td>\n",
       "      <td>11</td>\n",
       "      <td>1</td>\n",
       "      <td>UU</td>\n",
       "      <td>1</td>\n",
       "    </tr>\n",
       "    <tr>\n",
       "      <th>1</th>\n",
       "      <td>1999</td>\n",
       "      <td>01</td>\n",
       "      <td>1</td>\n",
       "      <td>20</td>\n",
       "      <td>2</td>\n",
       "      <td>02</td>\n",
       "      <td>34</td>\n",
       "      <td>UU</td>\n",
       "      <td>1</td>\n",
       "      <td>5</td>\n",
       "      <td>...</td>\n",
       "      <td>02</td>\n",
       "      <td>01</td>\n",
       "      <td>1987</td>\n",
       "      <td>01</td>\n",
       "      <td>M</td>\n",
       "      <td>19</td>\n",
       "      <td>11</td>\n",
       "      <td>1</td>\n",
       "      <td>UU</td>\n",
       "      <td>1</td>\n",
       "    </tr>\n",
       "    <tr>\n",
       "      <th>2</th>\n",
       "      <td>1999</td>\n",
       "      <td>01</td>\n",
       "      <td>1</td>\n",
       "      <td>20</td>\n",
       "      <td>2</td>\n",
       "      <td>02</td>\n",
       "      <td>34</td>\n",
       "      <td>UU</td>\n",
       "      <td>1</td>\n",
       "      <td>5</td>\n",
       "      <td>...</td>\n",
       "      <td>02</td>\n",
       "      <td>01</td>\n",
       "      <td>1987</td>\n",
       "      <td>02</td>\n",
       "      <td>F</td>\n",
       "      <td>20</td>\n",
       "      <td>13</td>\n",
       "      <td>2</td>\n",
       "      <td>02</td>\n",
       "      <td>2</td>\n",
       "    </tr>\n",
       "    <tr>\n",
       "      <th>3</th>\n",
       "      <td>1999</td>\n",
       "      <td>01</td>\n",
       "      <td>1</td>\n",
       "      <td>08</td>\n",
       "      <td>2</td>\n",
       "      <td>01</td>\n",
       "      <td>01</td>\n",
       "      <td>UU</td>\n",
       "      <td>5</td>\n",
       "      <td>3</td>\n",
       "      <td>...</td>\n",
       "      <td>01</td>\n",
       "      <td>01</td>\n",
       "      <td>1986</td>\n",
       "      <td>01</td>\n",
       "      <td>M</td>\n",
       "      <td>46</td>\n",
       "      <td>11</td>\n",
       "      <td>1</td>\n",
       "      <td>UU</td>\n",
       "      <td>1</td>\n",
       "    </tr>\n",
       "    <tr>\n",
       "      <th>4</th>\n",
       "      <td>1999</td>\n",
       "      <td>01</td>\n",
       "      <td>1</td>\n",
       "      <td>08</td>\n",
       "      <td>2</td>\n",
       "      <td>01</td>\n",
       "      <td>01</td>\n",
       "      <td>UU</td>\n",
       "      <td>5</td>\n",
       "      <td>3</td>\n",
       "      <td>...</td>\n",
       "      <td>99</td>\n",
       "      <td>NN</td>\n",
       "      <td>NNNN</td>\n",
       "      <td>01</td>\n",
       "      <td>M</td>\n",
       "      <td>05</td>\n",
       "      <td>99</td>\n",
       "      <td>2</td>\n",
       "      <td>UU</td>\n",
       "      <td>3</td>\n",
       "    </tr>\n",
       "  </tbody>\n",
       "</table>\n",
       "<p>5 rows × 22 columns</p>\n",
       "</div>"
      ],
      "text/plain": [
       "   C_YEAR C_MNTH C_WDAY C_HOUR  C_SEV C_VEHS C_CONF C_RCFG C_WTHR C_RSUR  ...  \\\n",
       "0    1999     01      1     20      2     02     34     UU      1      5  ...   \n",
       "1    1999     01      1     20      2     02     34     UU      1      5  ...   \n",
       "2    1999     01      1     20      2     02     34     UU      1      5  ...   \n",
       "3    1999     01      1     08      2     01     01     UU      5      3  ...   \n",
       "4    1999     01      1     08      2     01     01     UU      5      3  ...   \n",
       "\n",
       "  V_ID V_TYPE V_YEAR P_ID P_SEX P_AGE P_PSN P_ISEV P_SAFE P_USER  \n",
       "0   01     06   1990   01     M    41    11      1     UU      1  \n",
       "1   02     01   1987   01     M    19    11      1     UU      1  \n",
       "2   02     01   1987   02     F    20    13      2     02      2  \n",
       "3   01     01   1986   01     M    46    11      1     UU      1  \n",
       "4   99     NN   NNNN   01     M    05    99      2     UU      3  \n",
       "\n",
       "[5 rows x 22 columns]"
      ]
     },
     "execution_count": 5,
     "metadata": {},
     "output_type": "execute_result"
    }
   ],
   "source": [
    "accidents_df.head()"
   ]
  },
  {
   "cell_type": "markdown",
   "id": "cf1ab2bc",
   "metadata": {},
   "source": [
    "## 22.2 Balanceo de ```C_SEV```\n",
    "En el EDA pudimos apreciar como había un importante desequilibrio en la variable objetivo, existiendo un 98% y 2% de accidentes no mortales y mortales respectivamente. "
   ]
  },
  {
   "cell_type": "code",
   "execution_count": 6,
   "id": "be4415b6",
   "metadata": {},
   "outputs": [
    {
     "data": {
      "text/plain": [
       "2    5761772\n",
       "1      98633\n",
       "Name: C_SEV, dtype: int64"
      ]
     },
     "execution_count": 6,
     "metadata": {},
     "output_type": "execute_result"
    }
   ],
   "source": [
    "accidents_df['C_SEV'].value_counts()"
   ]
  },
  {
   "cell_type": "markdown",
   "id": "5bedaf66",
   "metadata": {},
   "source": [
    "Para ello realizaremos un remuestreo de los datos mediante la técnica de **subsampling** con el objetivo de reducir el número de muestras de la clase 2 (ningún fallecido) frente a las de 1 (al menos un fallecido). Para ello:\n",
    "* Primero, dividimos el dataset dos dataset, uno por clase.\n",
    "* Segundo, realizamos un resample de la clase mayoritaria, para extraer una muestra del mismo. \n",
    "* Finalmente, juntaremos ambos datasets para formar la muestra a utilizar. "
   ]
  },
  {
   "cell_type": "code",
   "execution_count": 7,
   "id": "c440efec",
   "metadata": {},
   "outputs": [],
   "source": [
    "# Dividimos la clases\n",
    "sev01_df = accidents_df[accidents_df['C_SEV'] == 1]\n",
    "sev02_df = accidents_df[accidents_df['C_SEV'] == 2]"
   ]
  },
  {
   "cell_type": "markdown",
   "id": "807d83c4",
   "metadata": {},
   "source": [
    "Realizamos una muestra de ```sev02_df``` con un tamaño superior al 5% de ```sev01_df```. Esto se realiza para que pese a reducir el desequilibrio existente, buscamos que se asemeje a la realidad y por lo tanto mantenga cierto grado de desequilibrio. \n",
    "\n",
    "Destacar que usamos como semilla el valor 0. Este se ha determinado de forma arbitraria, permitirá replicar los resultados en caso de querer realizar más pruebas."
   ]
  },
  {
   "cell_type": "code",
   "execution_count": 8,
   "id": "cb0eb303",
   "metadata": {},
   "outputs": [
    {
     "data": {
      "text/plain": [
       "2    103564\n",
       "1     98633\n",
       "Name: C_SEV, dtype: int64"
      ]
     },
     "execution_count": 8,
     "metadata": {},
     "output_type": "execute_result"
    }
   ],
   "source": [
    "# Tamaño a muestrear\n",
    "sample_size = int(sev01_df.shape[0] * (1.05))\n",
    "\n",
    "# Realizamos una muestra del sev02_df\n",
    "sev02_sam_df = resample(sev02_df, replace=True, n_samples = sample_size, random_state=0)\n",
    "\n",
    "# Juntamos y creamos la versión a utilizar\n",
    "accidents_eq_df = pd.concat([sev01_df, sev02_sam_df])\n",
    "accidents_eq_df['C_SEV'].value_counts()"
   ]
  },
  {
   "cell_type": "markdown",
   "id": "72095737",
   "metadata": {},
   "source": [
    "Observamos como se ha reducido considerablemente la muestra de accidentes no mortales, y hemos podido equilibrar en cierto grado el dataset. \n",
    "\n",
    "Ahora, guardaremos esta versión reducida del dataset para las siguientes tareas."
   ]
  },
  {
   "cell_type": "code",
   "execution_count": 9,
   "id": "0abc9172",
   "metadata": {},
   "outputs": [],
   "source": [
    "# Guardar resultados (CUIDADO: sobreescritura del fichero)\n",
    "# accidents_eq_df.to_csv(\"../../data/NCBD_reduced.csv\")"
   ]
  },
  {
   "cell_type": "markdown",
   "id": "f8dffbcd",
   "metadata": {},
   "source": [
    "## 22.3 Train y Test\n",
    "A continuación vamos a proceder a crear y dividir los datos en Train (muestra de entrenamiento) y test (muestra de test) que usaremos para nuestros modelos. "
   ]
  },
  {
   "cell_type": "code",
   "execution_count": 10,
   "id": "0f89e7e0",
   "metadata": {},
   "outputs": [],
   "source": [
    "# accidents_eq_df = csv_tools.csv_import(origin = \"../../data/NCBD_reduced.csv\")\n",
    "\n",
    "# Separamos los valores (X) de la variable objetivo (Y)\n",
    "X = accidents_eq_df.drop('C_SEV', axis=1)\n",
    "Y = accidents_eq_df['C_SEV']\n",
    "\n",
    "# Realizamos la división de train y test\n",
    "X_train, X_test, Y_train, Y_test = train_test_split(X, Y, test_size=0.20, random_state=0)"
   ]
  },
  {
   "cell_type": "code",
   "execution_count": 11,
   "id": "57a7cdc0",
   "metadata": {},
   "outputs": [],
   "source": [
    "# Juntamos para agilizar la transformación de los datos\n",
    "XY_train = X_train\n",
    "XY_train['C_SEV'] = Y_train\n",
    "\n",
    "XY_test = X_test\n",
    "XY_test['C_SEV'] = Y_test"
   ]
  },
  {
   "cell_type": "markdown",
   "id": "a260895e",
   "metadata": {},
   "source": [
    "## 22.4 Tratamiento\n",
    "A continuación procederemos a realizar la limpieza de los datos y su procesamiento:\n",
    "\n",
    "### 22.4.1 Filtrado inicial de variables y valores anómalos\n",
    "Por otro lado, en el EDA pudimos observar que existian vehículos con fecha de fabricación 2015, cuando los accidentes son hasta 2014. Procedemos a eliminarlos en el caso de que continuen en la muestra de train."
   ]
  },
  {
   "cell_type": "code",
   "execution_count": 12,
   "id": "f6ee0e82",
   "metadata": {},
   "outputs": [],
   "source": [
    "XY_train = XY_train.drop(XY_train[XY_train['V_YEAR'] == '2015'].index, axis=0)\n",
    "XY_test = XY_test.drop(XY_test[XY_test['V_YEAR'] == '2015'].index, axis=0)"
   ]
  },
  {
   "cell_type": "markdown",
   "id": "d63fb488",
   "metadata": {},
   "source": [
    "Por otro lado eliminamos las filas que hacen referencia a coches aparcados, es decir, cuyo valor edad de la persona (```P_AGE```) es ```NN```, es decir, no aplicable al no ser una persona. "
   ]
  },
  {
   "cell_type": "code",
   "execution_count": 13,
   "id": "2eba6f24",
   "metadata": {},
   "outputs": [],
   "source": [
    "XY_train = XY_train.drop(XY_train[XY_train['P_AGE'] == 'NN'].index, axis=0)\n",
    "XY_test = XY_test.drop(XY_test[XY_test['P_AGE'] == 'NN'].index, axis=0)"
   ]
  },
  {
   "cell_type": "markdown",
   "id": "cf345903",
   "metadata": {},
   "source": [
    "Si bien nos detendremos en datalle a analizar la importancia de las variables para el modelo. Existen a priori unas variables que no son útiles y que por lo tanto eliminaremos del mismo. Queremos informacion relativa a un accidente, como analizamos en el EDA en este caso el dataset hace referencia a la situación de una persona en una accidente. Por lo que eliminamos todas las variables sobre personas y vehículos.\n",
    "\n",
    "Primero arreglaremos la variable EDAD de la persona que tiene valores nulos. En este caso los sustituiremos por la edad media calculada del conjunto de datos existente:"
   ]
  },
  {
   "cell_type": "code",
   "execution_count": 14,
   "id": "1449d8b3",
   "metadata": {},
   "outputs": [],
   "source": [
    "# Tratamiento inicial de variables para agregación de edades\n",
    "# TRAIN\n",
    "XY_train['P_AGE'] = XY_train['P_AGE'].replace('UU', np.nan)\n",
    "XY_train['P_AGE'] = XY_train['P_AGE'].astype(float)\n",
    "mean_age = np.round(XY_train['P_AGE'].mean(), decimals = 0) \n",
    "XY_train['P_AGE'] = XY_train['P_AGE'].replace(np.nan, mean_age)\n",
    "\n",
    "# TEST\n",
    "XY_test['P_AGE'] = XY_test['P_AGE'].replace('UU', np.nan)\n",
    "XY_test['P_AGE'] = XY_test['P_AGE'].astype(float)\n",
    "mean_age = np.round(XY_test['P_AGE'].mean(), decimals = 0) \n",
    "XY_test['P_AGE'] = XY_test['P_AGE'].replace(np.nan, mean_age)"
   ]
  },
  {
   "cell_type": "markdown",
   "id": "e2cd4e24",
   "metadata": {},
   "source": [
    "A continuación, realizaremos la agrupación por accidentes. Agregaremos el número de personas implicadas (número de filas con la misma información de accidente) y la edad media de los involucrados en el accidente:"
   ]
  },
  {
   "cell_type": "code",
   "execution_count": 15,
   "id": "dc6c7e8a",
   "metadata": {},
   "outputs": [],
   "source": [
    "# Agregación final\n",
    "acc_columns = ['C_YEAR', 'C_MNTH', 'C_WDAY', \n",
    "               'C_HOUR', 'C_SEV', 'C_VEHS', \n",
    "               'C_CONF', 'C_RCFG', 'C_WTHR', \n",
    "               'C_RSUR', 'C_RALN', 'C_TRAF']\n",
    "\n",
    "XY_train = XY_train.groupby(acc_columns).agg(C_PERS=('P_ID', 'count'), C_AGES=('P_AGE', 'mean')).reset_index()\n",
    "XY_test = XY_test.groupby(acc_columns).agg(C_PERS=('P_ID', 'count'), C_AGES=('P_AGE', 'mean')).reset_index()"
   ]
  },
  {
   "cell_type": "markdown",
   "id": "6a3f7b5a",
   "metadata": {},
   "source": [
    "### 22.4.2 Valores faltantes\n",
    "Para llevar a cabo este proceso realizaremos la conversión correspondiente por tipo de variable, esto es, pues el signficado que estas tienen es distinto. \n",
    "\n",
    "Primero veamos como está la muestra de train:"
   ]
  },
  {
   "cell_type": "code",
   "execution_count": 16,
   "id": "b90fcd94",
   "metadata": {},
   "outputs": [
    {
     "data": {
      "text/html": [
       "<div>\n",
       "<style scoped>\n",
       "    .dataframe tbody tr th:only-of-type {\n",
       "        vertical-align: middle;\n",
       "    }\n",
       "\n",
       "    .dataframe tbody tr th {\n",
       "        vertical-align: top;\n",
       "    }\n",
       "\n",
       "    .dataframe thead th {\n",
       "        text-align: right;\n",
       "    }\n",
       "</style>\n",
       "<table border=\"1\" class=\"dataframe\">\n",
       "  <thead>\n",
       "    <tr style=\"text-align: right;\">\n",
       "      <th></th>\n",
       "      <th>column_name</th>\n",
       "      <th>U</th>\n",
       "      <th>U%</th>\n",
       "      <th>N</th>\n",
       "      <th>N%</th>\n",
       "      <th>Q</th>\n",
       "      <th>Q%</th>\n",
       "      <th>total</th>\n",
       "      <th>total%</th>\n",
       "    </tr>\n",
       "  </thead>\n",
       "  <tbody>\n",
       "    <tr>\n",
       "      <th>0</th>\n",
       "      <td>C_YEAR</td>\n",
       "      <td>0</td>\n",
       "      <td>[0.0]</td>\n",
       "      <td>0</td>\n",
       "      <td>[0.0]</td>\n",
       "      <td>0</td>\n",
       "      <td>[0.0]</td>\n",
       "      <td>0</td>\n",
       "      <td>0.0</td>\n",
       "    </tr>\n",
       "    <tr>\n",
       "      <th>1</th>\n",
       "      <td>C_MNTH</td>\n",
       "      <td>5</td>\n",
       "      <td>[0.004]</td>\n",
       "      <td>0</td>\n",
       "      <td>[0.0]</td>\n",
       "      <td>0</td>\n",
       "      <td>[0.0]</td>\n",
       "      <td>5</td>\n",
       "      <td>0.0</td>\n",
       "    </tr>\n",
       "    <tr>\n",
       "      <th>2</th>\n",
       "      <td>C_WDAY</td>\n",
       "      <td>22</td>\n",
       "      <td>[0.019]</td>\n",
       "      <td>0</td>\n",
       "      <td>[0.0]</td>\n",
       "      <td>0</td>\n",
       "      <td>[0.0]</td>\n",
       "      <td>22</td>\n",
       "      <td>0.0</td>\n",
       "    </tr>\n",
       "    <tr>\n",
       "      <th>3</th>\n",
       "      <td>C_HOUR</td>\n",
       "      <td>1260</td>\n",
       "      <td>[1.113]</td>\n",
       "      <td>0</td>\n",
       "      <td>[0.0]</td>\n",
       "      <td>0</td>\n",
       "      <td>[0.0]</td>\n",
       "      <td>1260</td>\n",
       "      <td>1.1</td>\n",
       "    </tr>\n",
       "    <tr>\n",
       "      <th>4</th>\n",
       "      <td>C_SEV</td>\n",
       "      <td>0</td>\n",
       "      <td>[0.0]</td>\n",
       "      <td>0</td>\n",
       "      <td>[0.0]</td>\n",
       "      <td>0</td>\n",
       "      <td>[0.0]</td>\n",
       "      <td>0</td>\n",
       "      <td>0.0</td>\n",
       "    </tr>\n",
       "    <tr>\n",
       "      <th>5</th>\n",
       "      <td>C_VEHS</td>\n",
       "      <td>8</td>\n",
       "      <td>[0.007]</td>\n",
       "      <td>0</td>\n",
       "      <td>[0.0]</td>\n",
       "      <td>0</td>\n",
       "      <td>[0.0]</td>\n",
       "      <td>8</td>\n",
       "      <td>0.0</td>\n",
       "    </tr>\n",
       "    <tr>\n",
       "      <th>6</th>\n",
       "      <td>C_CONF</td>\n",
       "      <td>3173</td>\n",
       "      <td>[2.804]</td>\n",
       "      <td>0</td>\n",
       "      <td>[0.0]</td>\n",
       "      <td>5711</td>\n",
       "      <td>[5.047]</td>\n",
       "      <td>8884</td>\n",
       "      <td>7.9</td>\n",
       "    </tr>\n",
       "    <tr>\n",
       "      <th>7</th>\n",
       "      <td>C_RCFG</td>\n",
       "      <td>8924</td>\n",
       "      <td>[7.886]</td>\n",
       "      <td>0</td>\n",
       "      <td>[0.0]</td>\n",
       "      <td>3242</td>\n",
       "      <td>[2.865]</td>\n",
       "      <td>12166</td>\n",
       "      <td>10.8</td>\n",
       "    </tr>\n",
       "    <tr>\n",
       "      <th>8</th>\n",
       "      <td>C_WTHR</td>\n",
       "      <td>1508</td>\n",
       "      <td>[1.333]</td>\n",
       "      <td>0</td>\n",
       "      <td>[0.0]</td>\n",
       "      <td>310</td>\n",
       "      <td>[0.274]</td>\n",
       "      <td>1818</td>\n",
       "      <td>1.6</td>\n",
       "    </tr>\n",
       "    <tr>\n",
       "      <th>9</th>\n",
       "      <td>C_RSUR</td>\n",
       "      <td>1368</td>\n",
       "      <td>[1.209]</td>\n",
       "      <td>0</td>\n",
       "      <td>[0.0]</td>\n",
       "      <td>3334</td>\n",
       "      <td>[2.946]</td>\n",
       "      <td>4702</td>\n",
       "      <td>4.2</td>\n",
       "    </tr>\n",
       "    <tr>\n",
       "      <th>10</th>\n",
       "      <td>C_RALN</td>\n",
       "      <td>7070</td>\n",
       "      <td>[6.248]</td>\n",
       "      <td>0</td>\n",
       "      <td>[0.0]</td>\n",
       "      <td>502</td>\n",
       "      <td>[0.444]</td>\n",
       "      <td>7572</td>\n",
       "      <td>6.7</td>\n",
       "    </tr>\n",
       "    <tr>\n",
       "      <th>11</th>\n",
       "      <td>C_TRAF</td>\n",
       "      <td>4207</td>\n",
       "      <td>[3.718]</td>\n",
       "      <td>0</td>\n",
       "      <td>[0.0]</td>\n",
       "      <td>1635</td>\n",
       "      <td>[1.445]</td>\n",
       "      <td>5842</td>\n",
       "      <td>5.2</td>\n",
       "    </tr>\n",
       "    <tr>\n",
       "      <th>12</th>\n",
       "      <td>C_PERS</td>\n",
       "      <td>0</td>\n",
       "      <td>[0.0]</td>\n",
       "      <td>0</td>\n",
       "      <td>[0.0]</td>\n",
       "      <td>0</td>\n",
       "      <td>[0.0]</td>\n",
       "      <td>0</td>\n",
       "      <td>0.0</td>\n",
       "    </tr>\n",
       "    <tr>\n",
       "      <th>13</th>\n",
       "      <td>C_AGES</td>\n",
       "      <td>0</td>\n",
       "      <td>[0.0]</td>\n",
       "      <td>0</td>\n",
       "      <td>[0.0]</td>\n",
       "      <td>0</td>\n",
       "      <td>[0.0]</td>\n",
       "      <td>0</td>\n",
       "      <td>0.0</td>\n",
       "    </tr>\n",
       "  </tbody>\n",
       "</table>\n",
       "</div>"
      ],
      "text/plain": [
       "   column_name     U       U%  N     N%     Q       Q%  total  total%\n",
       "0       C_YEAR     0    [0.0]  0  [0.0]     0    [0.0]      0     0.0\n",
       "1       C_MNTH     5  [0.004]  0  [0.0]     0    [0.0]      5     0.0\n",
       "2       C_WDAY    22  [0.019]  0  [0.0]     0    [0.0]     22     0.0\n",
       "3       C_HOUR  1260  [1.113]  0  [0.0]     0    [0.0]   1260     1.1\n",
       "4        C_SEV     0    [0.0]  0  [0.0]     0    [0.0]      0     0.0\n",
       "5       C_VEHS     8  [0.007]  0  [0.0]     0    [0.0]      8     0.0\n",
       "6       C_CONF  3173  [2.804]  0  [0.0]  5711  [5.047]   8884     7.9\n",
       "7       C_RCFG  8924  [7.886]  0  [0.0]  3242  [2.865]  12166    10.8\n",
       "8       C_WTHR  1508  [1.333]  0  [0.0]   310  [0.274]   1818     1.6\n",
       "9       C_RSUR  1368  [1.209]  0  [0.0]  3334  [2.946]   4702     4.2\n",
       "10      C_RALN  7070  [6.248]  0  [0.0]   502  [0.444]   7572     6.7\n",
       "11      C_TRAF  4207  [3.718]  0  [0.0]  1635  [1.445]   5842     5.2\n",
       "12      C_PERS     0    [0.0]  0  [0.0]     0    [0.0]      0     0.0\n",
       "13      C_AGES     0    [0.0]  0  [0.0]     0    [0.0]      0     0.0"
      ]
     },
     "execution_count": 16,
     "metadata": {},
     "output_type": "execute_result"
    }
   ],
   "source": [
    "especial_values = [['U', 'UU', 'UUUU'], ['N', 'NN', 'NNNN'], ['Q', 'QQ', 'QQQQ']]\n",
    "eda_tools.special_values_summary(df = XY_train, vals = especial_values)"
   ]
  },
  {
   "cell_type": "markdown",
   "id": "27009912",
   "metadata": {},
   "source": [
    "**Para los valores U (desconocido)**\n",
    "\n",
    "- **Primero.** Calcularemos para cada grupo que categoría concentra más del 80% de valores, es decir, asignaremos un valor mayoritario. Asumimos que si la mayoría de los datos son de esa categoría los faltantes también lo serán.\n",
    "\n",
    "- **Segundo.** En el caso de no existir una categoría que concentre más del 80% se establecerá el valor medio ponderado (redondeado a la unidad superior) de las categorías asignadas. Al haber tanta variabilidad asignaremos la categoría media.\n",
    "\n",
    "Es importante tener en cuenta aspectos de la variable que estemos hablando, lo vemos  a continuación:"
   ]
  },
  {
   "cell_type": "code",
   "execution_count": 17,
   "id": "0a1da4d6",
   "metadata": {},
   "outputs": [],
   "source": [
    "# TO DO\n",
    "def apply_mean(df = None, val = \"\", na_val = \"\"):\n",
    "    "
   ]
  },
  {
   "cell_type": "markdown",
   "id": "f8f505e0",
   "metadata": {},
   "source": [
    "```C_MNTH```: Solo tiene valores U, es decir, NaN. "
   ]
  },
  {
   "cell_type": "code",
   "execution_count": 18,
   "id": "6330ac8f",
   "metadata": {},
   "outputs": [],
   "source": [
    "# mnth_ovw = eda_tools.classes_overview(df = X_train[X_train['C_MNTH'] != 'UU' ], obj_val = 'C_MNTH')\n",
    "# mnth_ovw"
   ]
  },
  {
   "cell_type": "markdown",
   "id": "9fd5581f",
   "metadata": {},
   "source": [
    "Observamos que los valores se distribuyen entre los distintos meses de forma uniforme, por lo que asignaremos a esos valores nulos la media ponderada."
   ]
  },
  {
   "cell_type": "code",
   "execution_count": 19,
   "id": "54365296",
   "metadata": {},
   "outputs": [],
   "source": [
    "#mnth_ovw['cat'] = mnth_ovw['index'].astype(int)\n",
    "#mnth_ovw['weight'] = mnth_ovw['cat'] * mnth_ovw['percentaje']\n",
    "#mean_val = np.round(mnth_ovw['weight'].sum(axis=0) / 100, decimals = 0)\n",
    "#X_train['C_MNTH'] = X_train['C_MNTH'].replace('UU', '07')"
   ]
  },
  {
   "cell_type": "markdown",
   "id": "0d356ee5",
   "metadata": {},
   "source": [
    "```C_WDAY```: Solo tiene valores U:"
   ]
  },
  {
   "cell_type": "code",
   "execution_count": 20,
   "id": "b55effe8",
   "metadata": {},
   "outputs": [
    {
     "data": {
      "text/plain": [
       "'7'"
      ]
     },
     "execution_count": 20,
     "metadata": {},
     "output_type": "execute_result"
    }
   ],
   "source": [
    "str(int(7.0))"
   ]
  },
  {
   "cell_type": "code",
   "execution_count": 21,
   "id": "90afaf0b",
   "metadata": {},
   "outputs": [],
   "source": [
    "# VALORES FALTANTES\n",
    "# TODO \n",
    "#\n",
    "# U -> a NA\n",
    "# Asignar valor medio o mayoritario (en función de la variable)\n",
    "#\n",
    "# Q -> crear una clase nueva de la categoría\n",
    "# \n",
    "# N -> crear una clase nueva de la categoría (para C_SEV)\n",
    "#"
   ]
  },
  {
   "cell_type": "code",
   "execution_count": 22,
   "id": "8e09be62",
   "metadata": {},
   "outputs": [],
   "source": [
    "# VALORES EXTRAÑOS\n",
    "# Eliminar valores extraños (año 2015?)"
   ]
  },
  {
   "cell_type": "code",
   "execution_count": 23,
   "id": "6fa5d5ec",
   "metadata": {},
   "outputs": [],
   "source": [
    "# ENCODING ¿?\n",
    "# Sexo -> M/F LabelEncoding o OneHotEncoding\n",
    "# \n",
    "# Encoding de variables con una codificación extraña  \n",
    "#"
   ]
  },
  {
   "cell_type": "code",
   "execution_count": 24,
   "id": "1deccb06",
   "metadata": {},
   "outputs": [],
   "source": [
    "# SELECCIÓN DE VARIABLES\n",
    "# Correlación ?\n",
    "# Lasso o modelo de regresión?\n",
    "# Justificar elección final ? "
   ]
  },
  {
   "cell_type": "markdown",
   "id": "7ae79e60",
   "metadata": {},
   "source": [
    "---"
   ]
  },
  {
   "cell_type": "markdown",
   "id": "37753630",
   "metadata": {},
   "source": [
    "<div style='text-align:center'>Elaborado por Álvaro Serrano del Rincón (<i>a.serranodelrincon@cunef.edu</i>)</div> \n",
    "<div style='text-align:center'>y Carlos Viñals Guitart (<i>carlos.vinals@cunef.edu</i>)</div> "
   ]
  }
 ],
 "metadata": {
  "interpreter": {
   "hash": "894f340193c41f12f2ad2c5acdc4753fc38d435e21d2507739dfff3cc0eea455"
  },
  "kernelspec": {
   "display_name": "Python [conda env:ML_P1]",
   "language": "python",
   "name": "conda-env-ML_P1-py"
  },
  "language_info": {
   "codemirror_mode": {
    "name": "ipython",
    "version": 3
   },
   "file_extension": ".py",
   "mimetype": "text/x-python",
   "name": "python",
   "nbconvert_exporter": "python",
   "pygments_lexer": "ipython3",
   "version": "3.9.7"
  }
 },
 "nbformat": 4,
 "nbformat_minor": 5
}
