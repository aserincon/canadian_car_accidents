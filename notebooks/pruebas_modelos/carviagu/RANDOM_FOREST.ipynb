{
 "cells": [
  {
   "cell_type": "markdown",
   "id": "e1975a35",
   "metadata": {},
   "source": [
    "# Random Forest MODEL"
   ]
  },
  {
   "cell_type": "code",
   "execution_count": 15,
   "id": "22149bcd",
   "metadata": {},
   "outputs": [],
   "source": [
    "import pandas as pd\n",
    "import numpy as np\n",
    "import matplotlib.pyplot as plt\n",
    "import seaborn as sns\n",
    "\n",
    "from sklearn.ensemble import RandomForestClassifier\n",
    "from sklearn import metrics\n",
    "from sklearn.metrics import ConfusionMatrixDisplay, classification_report, roc_curve, fbeta_score"
   ]
  },
  {
   "cell_type": "markdown",
   "id": "5c5354b9",
   "metadata": {},
   "source": [
    "## Data"
   ]
  },
  {
   "cell_type": "code",
   "execution_count": 2,
   "id": "6678dfaf",
   "metadata": {},
   "outputs": [],
   "source": [
    "full_train = pd.read_csv(\"../../../data/csev/model_6/fulltrainCSEV.csv\")\n",
    "full_test = pd.read_csv(\"../../../data/csev/model_6/fulltestCSEV.csv\")"
   ]
  },
  {
   "cell_type": "code",
   "execution_count": 3,
   "id": "5eb5dd6e",
   "metadata": {},
   "outputs": [
    {
     "data": {
      "text/plain": [
       "0    27794\n",
       "1    27794\n",
       "Name: C_SEV, dtype: int64"
      ]
     },
     "execution_count": 3,
     "metadata": {},
     "output_type": "execute_result"
    }
   ],
   "source": [
    "Y_train = full_train['C_SEV']\n",
    "X_train = full_train.drop(['C_SEV'], axis=1)\n",
    "Y_train.value_counts()"
   ]
  },
  {
   "cell_type": "code",
   "execution_count": 4,
   "id": "361b4406",
   "metadata": {},
   "outputs": [
    {
     "data": {
      "text/plain": [
       "1    351139\n",
       "0      6949\n",
       "Name: C_SEV, dtype: int64"
      ]
     },
     "execution_count": 4,
     "metadata": {},
     "output_type": "execute_result"
    }
   ],
   "source": [
    "Y_test = full_test['C_SEV']\n",
    "X_test = full_test.drop(['C_SEV'], axis=1)\n",
    "Y_test.value_counts()"
   ]
  },
  {
   "cell_type": "markdown",
   "id": "e60b43e0",
   "metadata": {},
   "source": [
    "##  Random Forest Classifier"
   ]
  },
  {
   "cell_type": "code",
   "execution_count": 5,
   "id": "9b58a662",
   "metadata": {},
   "outputs": [],
   "source": [
    "model = RandomForestClassifier()"
   ]
  },
  {
   "cell_type": "code",
   "execution_count": 6,
   "id": "ed5794a4",
   "metadata": {},
   "outputs": [
    {
     "data": {
      "text/plain": [
       "RandomForestClassifier()"
      ]
     },
     "execution_count": 6,
     "metadata": {},
     "output_type": "execute_result"
    }
   ],
   "source": [
    "model.fit(X_train, Y_train)"
   ]
  },
  {
   "cell_type": "code",
   "execution_count": 7,
   "id": "079e2756",
   "metadata": {},
   "outputs": [],
   "source": [
    "Y_pred = model.predict(X_test)"
   ]
  },
  {
   "cell_type": "markdown",
   "id": "55e76855",
   "metadata": {},
   "source": [
    "## Evaluation"
   ]
  },
  {
   "cell_type": "code",
   "execution_count": 8,
   "id": "686e4127",
   "metadata": {},
   "outputs": [
    {
     "data": {
      "text/plain": [
       "0.6181385581197918"
      ]
     },
     "execution_count": 8,
     "metadata": {},
     "output_type": "execute_result"
    }
   ],
   "source": [
    "metrics.accuracy_score(Y_test, Y_pred)"
   ]
  },
  {
   "cell_type": "code",
   "execution_count": 9,
   "id": "844a8521",
   "metadata": {},
   "outputs": [
    {
     "name": "stdout",
     "output_type": "stream",
     "text": [
      "Matriz de confusión\n",
      "[[  4589   2360]\n",
      " [134380 216759]]\n",
      "Matriz de confusión normalizada\n",
      "[[0.66038279 0.33961721]\n",
      " [0.38269745 0.61730255]]\n"
     ]
    },
    {
     "data": {
      "image/png": "[encoded data removed]",
      "text/plain": [
       "<Figure size 432x288 with 2 Axes>"
      ]
     },
     "metadata": {
      "needs_background": "light"
     },
     "output_type": "display_data"
    },
    {
     "data": {
      "image/png": "[encoded data removed]",
      "text/plain": [
       "<Figure size 432x288 with 2 Axes>"
      ]
     },
     "metadata": {
      "needs_background": "light"
     },
     "output_type": "display_data"
    }
   ],
   "source": [
    "titles_options = [\n",
    "    (\"Matriz de confusión\", None),\n",
    "    (\"Matriz de confusión normalizada\", \"true\"),\n",
    "]\n",
    "for title, normalize in titles_options:\n",
    "    disp = ConfusionMatrixDisplay.from_estimator(\n",
    "        model,\n",
    "        X_test,\n",
    "        Y_test,\n",
    "        display_labels=['Con Fall.', 'Sin Fall.'],\n",
    "        cmap=plt.cm.Blues,\n",
    "        normalize=normalize,\n",
    "    )\n",
    "    disp.ax_.set_title(title)\n",
    "\n",
    "    print(title)\n",
    "    print(disp.confusion_matrix)\n",
    "\n",
    "plt.show()"
   ]
  },
  {
   "cell_type": "code",
   "execution_count": 10,
   "id": "c90158d5",
   "metadata": {},
   "outputs": [
    {
     "name": "stdout",
     "output_type": "stream",
     "text": [
      "Classification Report\n",
      "              precision    recall  f1-score   support\n",
      "\n",
      "           0       0.03      0.66      0.06      6949\n",
      "           1       0.99      0.62      0.76    351139\n",
      "\n",
      "    accuracy                           0.62    358088\n",
      "   macro avg       0.51      0.64      0.41    358088\n",
      "weighted avg       0.97      0.62      0.75    358088\n",
      "\n"
     ]
    }
   ],
   "source": [
    "print(\"Classification Report\")\n",
    "print(classification_report(Y_test, Y_pred))"
   ]
  },
  {
   "cell_type": "code",
   "execution_count": 13,
   "id": "9af80613",
   "metadata": {},
   "outputs": [
    {
     "data": {
      "image/png": "[encoded data removed]",
      "text/plain": [
       "<Figure size 432x288 with 1 Axes>"
      ]
     },
     "metadata": {
      "needs_background": "light"
     },
     "output_type": "display_data"
    }
   ],
   "source": [
    "# Curva ROC\n",
    "# keep probabilities for the positive outcome only\n",
    "yhat = Y_pred\n",
    "# calculate roc curves\n",
    "fpr, tpr, thresholds = roc_curve(Y_test, yhat)\n",
    "# plot the roc curve for the model\n",
    "plt.plot([0,1], [0,1], linestyle='--', label='No Skill')\n",
    "plt.plot(fpr, tpr, marker='.', label='LightGBM')\n",
    "# axis labels\n",
    "plt.xlabel('False Positive Rate')\n",
    "plt.ylabel('True Positive Rate')\n",
    "plt.legend()\n",
    "# show the plot\n",
    "plt.show()"
   ]
  },
  {
   "cell_type": "code",
   "execution_count": 16,
   "id": "6888bd3c",
   "metadata": {},
   "outputs": [
    {
     "data": {
      "text/plain": [
       "0.667495034412675"
      ]
     },
     "execution_count": 16,
     "metadata": {},
     "output_type": "execute_result"
    }
   ],
   "source": [
    "fbeta_score(Y_test, Y_pred, average='binary', beta=2)"
   ]
  }
 ],
 "metadata": {
  "kernelspec": {
   "display_name": "Python [conda env:ML_P1]",
   "language": "python",
   "name": "conda-env-ML_P1-py"
  },
  "language_info": {
   "codemirror_mode": {
    "name": "ipython",
    "version": 3
   },
   "file_extension": ".py",
   "mimetype": "text/x-python",
   "name": "python",
   "nbconvert_exporter": "python",
   "pygments_lexer": "ipython3",
   "version": "3.9.7"
  }
 },
 "nbformat": 4,
 "nbformat_minor": 5
}
