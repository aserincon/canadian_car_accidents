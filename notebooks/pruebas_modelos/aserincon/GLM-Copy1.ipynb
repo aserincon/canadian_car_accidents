{
 "cells": [
  {
   "cell_type": "markdown",
   "id": "e1975a35",
   "metadata": {},
   "source": [
    "# GLM MODEL"
   ]
  },
  {
   "cell_type": "code",
   "execution_count": 1,
   "id": "22149bcd",
   "metadata": {},
   "outputs": [],
   "source": [
    "import pandas as pd\n",
    "import numpy as np\n",
    "import matplotlib.pyplot as plt\n",
    "import seaborn as sns\n",
    "\n",
    "from sklearn.linear_model import LogisticRegression\n",
    "from sklearn import metrics\n",
    "from sklearn.metrics import ConfusionMatrixDisplay, classification_report"
   ]
  },
  {
   "cell_type": "markdown",
   "id": "5c5354b9",
   "metadata": {},
   "source": [
    "## Data"
   ]
  },
  {
   "cell_type": "code",
   "execution_count": 2,
   "id": "6678dfaf",
   "metadata": {},
   "outputs": [],
   "source": [
    "# Model 1 -> Lasso selected variables\n",
    "full_train = pd.read_csv(\"../../data/csev/model_1/trainCSEV.csv\")\n",
    "full_test = pd.read_csv(\"../../data/csev/model_1/testCSEV.csv\")"
   ]
  },
  {
   "cell_type": "code",
   "execution_count": 3,
   "id": "5eb5dd6e",
   "metadata": {},
   "outputs": [
    {
     "data": {
      "text/plain": [
       "1    27796\n",
       "0    27794\n",
       "Name: C_SEV, dtype: int64"
      ]
     },
     "execution_count": 3,
     "metadata": {},
     "output_type": "execute_result"
    }
   ],
   "source": [
    "Y_train = full_train['C_SEV']\n",
    "X_train = full_train.drop(['C_SEV'], axis=1)\n",
    "Y_train.value_counts()"
   ]
  },
  {
   "cell_type": "code",
   "execution_count": 4,
   "id": "361b4406",
   "metadata": {},
   "outputs": [
    {
     "data": {
      "text/plain": [
       "1    351139\n",
       "0      6949\n",
       "Name: C_SEV, dtype: int64"
      ]
     },
     "execution_count": 4,
     "metadata": {},
     "output_type": "execute_result"
    }
   ],
   "source": [
    "Y_test = full_test['C_SEV']\n",
    "X_test = full_test.drop(['C_SEV'], axis=1)\n",
    "Y_test.value_counts()"
   ]
  },
  {
   "cell_type": "markdown",
   "id": "e60b43e0",
   "metadata": {},
   "source": [
    "## Logistic Regression (GLM model)"
   ]
  },
  {
   "cell_type": "code",
   "execution_count": 5,
   "id": "9b58a662",
   "metadata": {},
   "outputs": [],
   "source": [
    "logisticRegr = LogisticRegression()"
   ]
  },
  {
   "cell_type": "code",
   "execution_count": 6,
   "id": "ed5794a4",
   "metadata": {},
   "outputs": [
    {
     "data": {
      "text/plain": [
       "LogisticRegression()"
      ]
     },
     "execution_count": 6,
     "metadata": {},
     "output_type": "execute_result"
    }
   ],
   "source": [
    "logisticRegr.fit(X_train, Y_train)"
   ]
  },
  {
   "cell_type": "code",
   "execution_count": 7,
   "id": "079e2756",
   "metadata": {},
   "outputs": [],
   "source": [
    "Y_pred = logisticRegr.predict(X_test)"
   ]
  },
  {
   "cell_type": "markdown",
   "id": "55e76855",
   "metadata": {},
   "source": [
    "## Evaluation"
   ]
  },
  {
   "cell_type": "code",
   "execution_count": 13,
   "id": "686e4127",
   "metadata": {},
   "outputs": [
    {
     "name": "stdout",
     "output_type": "stream",
     "text": [
      "0.98059415562655\n"
     ]
    }
   ],
   "source": [
    "metrics.accuracy_score(Y_test, Y_pred)"
   ]
  },
  {
   "cell_type": "code",
   "execution_count": 9,
   "id": "844a8521",
   "metadata": {},
   "outputs": [
    {
     "name": "stdout",
     "output_type": "stream",
     "text": [
      "Matriz de confusión\n",
      "[[     2   6947]\n",
      " [     2 351137]]\n",
      "Matriz de confusión normalizada\n",
      "[[2.87811196e-04 9.99712189e-01]\n",
      " [5.69575012e-06 9.99994304e-01]]\n"
     ]
    },
    {
     "data": {
      "image/png": "[encoded data removed]",
      "text/plain": [
       "<Figure size 432x288 with 2 Axes>"
      ]
     },
     "metadata": {
      "needs_background": "light"
     },
     "output_type": "display_data"
    },
    {
     "data": {
      "image/png": "[encoded data removed]",
      "text/plain": [
       "<Figure size 432x288 with 2 Axes>"
      ]
     },
     "metadata": {
      "needs_background": "light"
     },
     "output_type": "display_data"
    }
   ],
   "source": [
    "titles_options = [\n",
    "    (\"Matriz de confusión\", None),\n",
    "    (\"Matriz de confusión normalizada\", \"true\"),\n",
    "]\n",
    "for title, normalize in titles_options:\n",
    "    disp = ConfusionMatrixDisplay.from_estimator(\n",
    "        logisticRegr,\n",
    "        X_test,\n",
    "        Y_test,\n",
    "        display_labels=['Con Fall.', 'Sin Fall.'],\n",
    "        cmap=plt.cm.Blues,\n",
    "        normalize=normalize,\n",
    "    )\n",
    "    disp.ax_.set_title(title)\n",
    "\n",
    "    print(title)\n",
    "    print(disp.confusion_matrix)\n",
    "\n",
    "plt.show()"
   ]
  },
  {
   "cell_type": "code",
   "execution_count": 10,
   "id": "c90158d5",
   "metadata": {},
   "outputs": [
    {
     "name": "stdout",
     "output_type": "stream",
     "text": [
      "Classification Report\n",
      "              precision    recall  f1-score   support\n",
      "\n",
      "           0       0.50      0.00      0.00      6949\n",
      "           1       0.98      1.00      0.99    351139\n",
      "\n",
      "    accuracy                           0.98    358088\n",
      "   macro avg       0.74      0.50      0.50    358088\n",
      "weighted avg       0.97      0.98      0.97    358088\n",
      "\n"
     ]
    }
   ],
   "source": [
    "print(\"Classification Report\")\n",
    "print(classification_report(Y_test, Y_pred))"
   ]
  }
 ],
 "metadata": {
  "kernelspec": {
   "display_name": "Python [conda env:ML_P1]",
   "language": "python",
   "name": "conda-env-ML_P1-py"
  },
  "language_info": {
   "codemirror_mode": {
    "name": "ipython",
    "version": 3
   },
   "file_extension": ".py",
   "mimetype": "text/x-python",
   "name": "python",
   "nbconvert_exporter": "python",
   "pygments_lexer": "ipython3",
   "version": "3.9.7"
  }
 },
 "nbformat": 4,
 "nbformat_minor": 5
}
